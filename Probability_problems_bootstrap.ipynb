{
  "nbformat": 4,
  "nbformat_minor": 0,
  "metadata": {
    "colab": {
      "provenance": [],
      "collapsed_sections": [],
      "toc_visible": true,
      "authorship_tag": "ABX9TyNPX3v5Hmro2jNfaJXuo7g4",
      "include_colab_link": true
    },
    "kernelspec": {
      "name": "python3",
      "display_name": "Python 3"
    },
    "language_info": {
      "name": "python"
    },
    "widgets": {
      "application/vnd.jupyter.widget-state+json": {
        "c895e3bc438b47d292df4bec7442045a": {
          "model_module": "@jupyter-widgets/controls",
          "model_name": "HBoxModel",
          "model_module_version": "1.5.0",
          "state": {
            "_dom_classes": [],
            "_model_module": "@jupyter-widgets/controls",
            "_model_module_version": "1.5.0",
            "_model_name": "HBoxModel",
            "_view_count": null,
            "_view_module": "@jupyter-widgets/controls",
            "_view_module_version": "1.5.0",
            "_view_name": "HBoxView",
            "box_style": "",
            "children": [
              "IPY_MODEL_648d9ad6e07c42a38712b7b0490c1890",
              "IPY_MODEL_0b0038edc6c34b959e699ed8a94b54b3",
              "IPY_MODEL_0d470712f42c4a3fa0ac12d758621dc8"
            ],
            "layout": "IPY_MODEL_d7fc528d911943ecb8fab9fe34cf0083"
          }
        },
        "648d9ad6e07c42a38712b7b0490c1890": {
          "model_module": "@jupyter-widgets/controls",
          "model_name": "HTMLModel",
          "model_module_version": "1.5.0",
          "state": {
            "_dom_classes": [],
            "_model_module": "@jupyter-widgets/controls",
            "_model_module_version": "1.5.0",
            "_model_name": "HTMLModel",
            "_view_count": null,
            "_view_module": "@jupyter-widgets/controls",
            "_view_module_version": "1.5.0",
            "_view_name": "HTMLView",
            "description": "",
            "description_tooltip": null,
            "layout": "IPY_MODEL_932c0b6b1e26415a92f569bf26bdac20",
            "placeholder": "​",
            "style": "IPY_MODEL_8a4a481889974318bf0449ca33fff38b",
            "value": "100%"
          }
        },
        "0b0038edc6c34b959e699ed8a94b54b3": {
          "model_module": "@jupyter-widgets/controls",
          "model_name": "FloatProgressModel",
          "model_module_version": "1.5.0",
          "state": {
            "_dom_classes": [],
            "_model_module": "@jupyter-widgets/controls",
            "_model_module_version": "1.5.0",
            "_model_name": "FloatProgressModel",
            "_view_count": null,
            "_view_module": "@jupyter-widgets/controls",
            "_view_module_version": "1.5.0",
            "_view_name": "ProgressView",
            "bar_style": "success",
            "description": "",
            "description_tooltip": null,
            "layout": "IPY_MODEL_d5938f00c4744907b7017b789f0610e6",
            "max": 1000000,
            "min": 0,
            "orientation": "horizontal",
            "style": "IPY_MODEL_cb68f2cfbbe641d2b8041f7654c33c48",
            "value": 1000000
          }
        },
        "0d470712f42c4a3fa0ac12d758621dc8": {
          "model_module": "@jupyter-widgets/controls",
          "model_name": "HTMLModel",
          "model_module_version": "1.5.0",
          "state": {
            "_dom_classes": [],
            "_model_module": "@jupyter-widgets/controls",
            "_model_module_version": "1.5.0",
            "_model_name": "HTMLModel",
            "_view_count": null,
            "_view_module": "@jupyter-widgets/controls",
            "_view_module_version": "1.5.0",
            "_view_name": "HTMLView",
            "description": "",
            "description_tooltip": null,
            "layout": "IPY_MODEL_7eac1b975d2b41e3a9a9e544cd5fa332",
            "placeholder": "​",
            "style": "IPY_MODEL_d3a5f9b3cb174e538f02134a2861742a",
            "value": " 1000000/1000000 [00:08&lt;00:00, 127612.05it/s]"
          }
        },
        "d7fc528d911943ecb8fab9fe34cf0083": {
          "model_module": "@jupyter-widgets/base",
          "model_name": "LayoutModel",
          "model_module_version": "1.2.0",
          "state": {
            "_model_module": "@jupyter-widgets/base",
            "_model_module_version": "1.2.0",
            "_model_name": "LayoutModel",
            "_view_count": null,
            "_view_module": "@jupyter-widgets/base",
            "_view_module_version": "1.2.0",
            "_view_name": "LayoutView",
            "align_content": null,
            "align_items": null,
            "align_self": null,
            "border": null,
            "bottom": null,
            "display": null,
            "flex": null,
            "flex_flow": null,
            "grid_area": null,
            "grid_auto_columns": null,
            "grid_auto_flow": null,
            "grid_auto_rows": null,
            "grid_column": null,
            "grid_gap": null,
            "grid_row": null,
            "grid_template_areas": null,
            "grid_template_columns": null,
            "grid_template_rows": null,
            "height": null,
            "justify_content": null,
            "justify_items": null,
            "left": null,
            "margin": null,
            "max_height": null,
            "max_width": null,
            "min_height": null,
            "min_width": null,
            "object_fit": null,
            "object_position": null,
            "order": null,
            "overflow": null,
            "overflow_x": null,
            "overflow_y": null,
            "padding": null,
            "right": null,
            "top": null,
            "visibility": null,
            "width": null
          }
        },
        "932c0b6b1e26415a92f569bf26bdac20": {
          "model_module": "@jupyter-widgets/base",
          "model_name": "LayoutModel",
          "model_module_version": "1.2.0",
          "state": {
            "_model_module": "@jupyter-widgets/base",
            "_model_module_version": "1.2.0",
            "_model_name": "LayoutModel",
            "_view_count": null,
            "_view_module": "@jupyter-widgets/base",
            "_view_module_version": "1.2.0",
            "_view_name": "LayoutView",
            "align_content": null,
            "align_items": null,
            "align_self": null,
            "border": null,
            "bottom": null,
            "display": null,
            "flex": null,
            "flex_flow": null,
            "grid_area": null,
            "grid_auto_columns": null,
            "grid_auto_flow": null,
            "grid_auto_rows": null,
            "grid_column": null,
            "grid_gap": null,
            "grid_row": null,
            "grid_template_areas": null,
            "grid_template_columns": null,
            "grid_template_rows": null,
            "height": null,
            "justify_content": null,
            "justify_items": null,
            "left": null,
            "margin": null,
            "max_height": null,
            "max_width": null,
            "min_height": null,
            "min_width": null,
            "object_fit": null,
            "object_position": null,
            "order": null,
            "overflow": null,
            "overflow_x": null,
            "overflow_y": null,
            "padding": null,
            "right": null,
            "top": null,
            "visibility": null,
            "width": null
          }
        },
        "8a4a481889974318bf0449ca33fff38b": {
          "model_module": "@jupyter-widgets/controls",
          "model_name": "DescriptionStyleModel",
          "model_module_version": "1.5.0",
          "state": {
            "_model_module": "@jupyter-widgets/controls",
            "_model_module_version": "1.5.0",
            "_model_name": "DescriptionStyleModel",
            "_view_count": null,
            "_view_module": "@jupyter-widgets/base",
            "_view_module_version": "1.2.0",
            "_view_name": "StyleView",
            "description_width": ""
          }
        },
        "d5938f00c4744907b7017b789f0610e6": {
          "model_module": "@jupyter-widgets/base",
          "model_name": "LayoutModel",
          "model_module_version": "1.2.0",
          "state": {
            "_model_module": "@jupyter-widgets/base",
            "_model_module_version": "1.2.0",
            "_model_name": "LayoutModel",
            "_view_count": null,
            "_view_module": "@jupyter-widgets/base",
            "_view_module_version": "1.2.0",
            "_view_name": "LayoutView",
            "align_content": null,
            "align_items": null,
            "align_self": null,
            "border": null,
            "bottom": null,
            "display": null,
            "flex": null,
            "flex_flow": null,
            "grid_area": null,
            "grid_auto_columns": null,
            "grid_auto_flow": null,
            "grid_auto_rows": null,
            "grid_column": null,
            "grid_gap": null,
            "grid_row": null,
            "grid_template_areas": null,
            "grid_template_columns": null,
            "grid_template_rows": null,
            "height": null,
            "justify_content": null,
            "justify_items": null,
            "left": null,
            "margin": null,
            "max_height": null,
            "max_width": null,
            "min_height": null,
            "min_width": null,
            "object_fit": null,
            "object_position": null,
            "order": null,
            "overflow": null,
            "overflow_x": null,
            "overflow_y": null,
            "padding": null,
            "right": null,
            "top": null,
            "visibility": null,
            "width": null
          }
        },
        "cb68f2cfbbe641d2b8041f7654c33c48": {
          "model_module": "@jupyter-widgets/controls",
          "model_name": "ProgressStyleModel",
          "model_module_version": "1.5.0",
          "state": {
            "_model_module": "@jupyter-widgets/controls",
            "_model_module_version": "1.5.0",
            "_model_name": "ProgressStyleModel",
            "_view_count": null,
            "_view_module": "@jupyter-widgets/base",
            "_view_module_version": "1.2.0",
            "_view_name": "StyleView",
            "bar_color": null,
            "description_width": ""
          }
        },
        "7eac1b975d2b41e3a9a9e544cd5fa332": {
          "model_module": "@jupyter-widgets/base",
          "model_name": "LayoutModel",
          "model_module_version": "1.2.0",
          "state": {
            "_model_module": "@jupyter-widgets/base",
            "_model_module_version": "1.2.0",
            "_model_name": "LayoutModel",
            "_view_count": null,
            "_view_module": "@jupyter-widgets/base",
            "_view_module_version": "1.2.0",
            "_view_name": "LayoutView",
            "align_content": null,
            "align_items": null,
            "align_self": null,
            "border": null,
            "bottom": null,
            "display": null,
            "flex": null,
            "flex_flow": null,
            "grid_area": null,
            "grid_auto_columns": null,
            "grid_auto_flow": null,
            "grid_auto_rows": null,
            "grid_column": null,
            "grid_gap": null,
            "grid_row": null,
            "grid_template_areas": null,
            "grid_template_columns": null,
            "grid_template_rows": null,
            "height": null,
            "justify_content": null,
            "justify_items": null,
            "left": null,
            "margin": null,
            "max_height": null,
            "max_width": null,
            "min_height": null,
            "min_width": null,
            "object_fit": null,
            "object_position": null,
            "order": null,
            "overflow": null,
            "overflow_x": null,
            "overflow_y": null,
            "padding": null,
            "right": null,
            "top": null,
            "visibility": null,
            "width": null
          }
        },
        "d3a5f9b3cb174e538f02134a2861742a": {
          "model_module": "@jupyter-widgets/controls",
          "model_name": "DescriptionStyleModel",
          "model_module_version": "1.5.0",
          "state": {
            "_model_module": "@jupyter-widgets/controls",
            "_model_module_version": "1.5.0",
            "_model_name": "DescriptionStyleModel",
            "_view_count": null,
            "_view_module": "@jupyter-widgets/base",
            "_view_module_version": "1.2.0",
            "_view_name": "StyleView",
            "description_width": ""
          }
        },
        "6d928d6ff332457fb962bccab3f64fca": {
          "model_module": "@jupyter-widgets/controls",
          "model_name": "HBoxModel",
          "model_module_version": "1.5.0",
          "state": {
            "_dom_classes": [],
            "_model_module": "@jupyter-widgets/controls",
            "_model_module_version": "1.5.0",
            "_model_name": "HBoxModel",
            "_view_count": null,
            "_view_module": "@jupyter-widgets/controls",
            "_view_module_version": "1.5.0",
            "_view_name": "HBoxView",
            "box_style": "",
            "children": [
              "IPY_MODEL_a479196327ac468ca424ffe6f003e9da",
              "IPY_MODEL_1d2efcbd9efc49b792331b6564a4595a",
              "IPY_MODEL_2087b7aea7204b0d852d6f908757bf15"
            ],
            "layout": "IPY_MODEL_a08f6bf02d894d6c97787c6ccac4212c"
          }
        },
        "a479196327ac468ca424ffe6f003e9da": {
          "model_module": "@jupyter-widgets/controls",
          "model_name": "HTMLModel",
          "model_module_version": "1.5.0",
          "state": {
            "_dom_classes": [],
            "_model_module": "@jupyter-widgets/controls",
            "_model_module_version": "1.5.0",
            "_model_name": "HTMLModel",
            "_view_count": null,
            "_view_module": "@jupyter-widgets/controls",
            "_view_module_version": "1.5.0",
            "_view_name": "HTMLView",
            "description": "",
            "description_tooltip": null,
            "layout": "IPY_MODEL_885fa2ecff5c46c18f4223df318037ae",
            "placeholder": "​",
            "style": "IPY_MODEL_e5a6c9a3e8384120a00bee352b8e5bf7",
            "value": "100%"
          }
        },
        "1d2efcbd9efc49b792331b6564a4595a": {
          "model_module": "@jupyter-widgets/controls",
          "model_name": "FloatProgressModel",
          "model_module_version": "1.5.0",
          "state": {
            "_dom_classes": [],
            "_model_module": "@jupyter-widgets/controls",
            "_model_module_version": "1.5.0",
            "_model_name": "FloatProgressModel",
            "_view_count": null,
            "_view_module": "@jupyter-widgets/controls",
            "_view_module_version": "1.5.0",
            "_view_name": "ProgressView",
            "bar_style": "success",
            "description": "",
            "description_tooltip": null,
            "layout": "IPY_MODEL_76faf6330e1f428cae750e0a193e9f51",
            "max": 500000,
            "min": 0,
            "orientation": "horizontal",
            "style": "IPY_MODEL_a6f6b37a147a4268a7db66ce1f07e183",
            "value": 500000
          }
        },
        "2087b7aea7204b0d852d6f908757bf15": {
          "model_module": "@jupyter-widgets/controls",
          "model_name": "HTMLModel",
          "model_module_version": "1.5.0",
          "state": {
            "_dom_classes": [],
            "_model_module": "@jupyter-widgets/controls",
            "_model_module_version": "1.5.0",
            "_model_name": "HTMLModel",
            "_view_count": null,
            "_view_module": "@jupyter-widgets/controls",
            "_view_module_version": "1.5.0",
            "_view_name": "HTMLView",
            "description": "",
            "description_tooltip": null,
            "layout": "IPY_MODEL_22e7f166dfe949fdabcb88d9a5b6e4f9",
            "placeholder": "​",
            "style": "IPY_MODEL_44ea9e23f9ef4cee8444f23fe675ba68",
            "value": " 500000/500000 [00:45&lt;00:00, 9474.59it/s]"
          }
        },
        "a08f6bf02d894d6c97787c6ccac4212c": {
          "model_module": "@jupyter-widgets/base",
          "model_name": "LayoutModel",
          "model_module_version": "1.2.0",
          "state": {
            "_model_module": "@jupyter-widgets/base",
            "_model_module_version": "1.2.0",
            "_model_name": "LayoutModel",
            "_view_count": null,
            "_view_module": "@jupyter-widgets/base",
            "_view_module_version": "1.2.0",
            "_view_name": "LayoutView",
            "align_content": null,
            "align_items": null,
            "align_self": null,
            "border": null,
            "bottom": null,
            "display": null,
            "flex": null,
            "flex_flow": null,
            "grid_area": null,
            "grid_auto_columns": null,
            "grid_auto_flow": null,
            "grid_auto_rows": null,
            "grid_column": null,
            "grid_gap": null,
            "grid_row": null,
            "grid_template_areas": null,
            "grid_template_columns": null,
            "grid_template_rows": null,
            "height": null,
            "justify_content": null,
            "justify_items": null,
            "left": null,
            "margin": null,
            "max_height": null,
            "max_width": null,
            "min_height": null,
            "min_width": null,
            "object_fit": null,
            "object_position": null,
            "order": null,
            "overflow": null,
            "overflow_x": null,
            "overflow_y": null,
            "padding": null,
            "right": null,
            "top": null,
            "visibility": null,
            "width": null
          }
        },
        "885fa2ecff5c46c18f4223df318037ae": {
          "model_module": "@jupyter-widgets/base",
          "model_name": "LayoutModel",
          "model_module_version": "1.2.0",
          "state": {
            "_model_module": "@jupyter-widgets/base",
            "_model_module_version": "1.2.0",
            "_model_name": "LayoutModel",
            "_view_count": null,
            "_view_module": "@jupyter-widgets/base",
            "_view_module_version": "1.2.0",
            "_view_name": "LayoutView",
            "align_content": null,
            "align_items": null,
            "align_self": null,
            "border": null,
            "bottom": null,
            "display": null,
            "flex": null,
            "flex_flow": null,
            "grid_area": null,
            "grid_auto_columns": null,
            "grid_auto_flow": null,
            "grid_auto_rows": null,
            "grid_column": null,
            "grid_gap": null,
            "grid_row": null,
            "grid_template_areas": null,
            "grid_template_columns": null,
            "grid_template_rows": null,
            "height": null,
            "justify_content": null,
            "justify_items": null,
            "left": null,
            "margin": null,
            "max_height": null,
            "max_width": null,
            "min_height": null,
            "min_width": null,
            "object_fit": null,
            "object_position": null,
            "order": null,
            "overflow": null,
            "overflow_x": null,
            "overflow_y": null,
            "padding": null,
            "right": null,
            "top": null,
            "visibility": null,
            "width": null
          }
        },
        "e5a6c9a3e8384120a00bee352b8e5bf7": {
          "model_module": "@jupyter-widgets/controls",
          "model_name": "DescriptionStyleModel",
          "model_module_version": "1.5.0",
          "state": {
            "_model_module": "@jupyter-widgets/controls",
            "_model_module_version": "1.5.0",
            "_model_name": "DescriptionStyleModel",
            "_view_count": null,
            "_view_module": "@jupyter-widgets/base",
            "_view_module_version": "1.2.0",
            "_view_name": "StyleView",
            "description_width": ""
          }
        },
        "76faf6330e1f428cae750e0a193e9f51": {
          "model_module": "@jupyter-widgets/base",
          "model_name": "LayoutModel",
          "model_module_version": "1.2.0",
          "state": {
            "_model_module": "@jupyter-widgets/base",
            "_model_module_version": "1.2.0",
            "_model_name": "LayoutModel",
            "_view_count": null,
            "_view_module": "@jupyter-widgets/base",
            "_view_module_version": "1.2.0",
            "_view_name": "LayoutView",
            "align_content": null,
            "align_items": null,
            "align_self": null,
            "border": null,
            "bottom": null,
            "display": null,
            "flex": null,
            "flex_flow": null,
            "grid_area": null,
            "grid_auto_columns": null,
            "grid_auto_flow": null,
            "grid_auto_rows": null,
            "grid_column": null,
            "grid_gap": null,
            "grid_row": null,
            "grid_template_areas": null,
            "grid_template_columns": null,
            "grid_template_rows": null,
            "height": null,
            "justify_content": null,
            "justify_items": null,
            "left": null,
            "margin": null,
            "max_height": null,
            "max_width": null,
            "min_height": null,
            "min_width": null,
            "object_fit": null,
            "object_position": null,
            "order": null,
            "overflow": null,
            "overflow_x": null,
            "overflow_y": null,
            "padding": null,
            "right": null,
            "top": null,
            "visibility": null,
            "width": null
          }
        },
        "a6f6b37a147a4268a7db66ce1f07e183": {
          "model_module": "@jupyter-widgets/controls",
          "model_name": "ProgressStyleModel",
          "model_module_version": "1.5.0",
          "state": {
            "_model_module": "@jupyter-widgets/controls",
            "_model_module_version": "1.5.0",
            "_model_name": "ProgressStyleModel",
            "_view_count": null,
            "_view_module": "@jupyter-widgets/base",
            "_view_module_version": "1.2.0",
            "_view_name": "StyleView",
            "bar_color": null,
            "description_width": ""
          }
        },
        "22e7f166dfe949fdabcb88d9a5b6e4f9": {
          "model_module": "@jupyter-widgets/base",
          "model_name": "LayoutModel",
          "model_module_version": "1.2.0",
          "state": {
            "_model_module": "@jupyter-widgets/base",
            "_model_module_version": "1.2.0",
            "_model_name": "LayoutModel",
            "_view_count": null,
            "_view_module": "@jupyter-widgets/base",
            "_view_module_version": "1.2.0",
            "_view_name": "LayoutView",
            "align_content": null,
            "align_items": null,
            "align_self": null,
            "border": null,
            "bottom": null,
            "display": null,
            "flex": null,
            "flex_flow": null,
            "grid_area": null,
            "grid_auto_columns": null,
            "grid_auto_flow": null,
            "grid_auto_rows": null,
            "grid_column": null,
            "grid_gap": null,
            "grid_row": null,
            "grid_template_areas": null,
            "grid_template_columns": null,
            "grid_template_rows": null,
            "height": null,
            "justify_content": null,
            "justify_items": null,
            "left": null,
            "margin": null,
            "max_height": null,
            "max_width": null,
            "min_height": null,
            "min_width": null,
            "object_fit": null,
            "object_position": null,
            "order": null,
            "overflow": null,
            "overflow_x": null,
            "overflow_y": null,
            "padding": null,
            "right": null,
            "top": null,
            "visibility": null,
            "width": null
          }
        },
        "44ea9e23f9ef4cee8444f23fe675ba68": {
          "model_module": "@jupyter-widgets/controls",
          "model_name": "DescriptionStyleModel",
          "model_module_version": "1.5.0",
          "state": {
            "_model_module": "@jupyter-widgets/controls",
            "_model_module_version": "1.5.0",
            "_model_name": "DescriptionStyleModel",
            "_view_count": null,
            "_view_module": "@jupyter-widgets/base",
            "_view_module_version": "1.2.0",
            "_view_name": "StyleView",
            "description_width": ""
          }
        },
        "4e3d2f7412fa49dcba638ae70ac94945": {
          "model_module": "@jupyter-widgets/controls",
          "model_name": "HBoxModel",
          "model_module_version": "1.5.0",
          "state": {
            "_dom_classes": [],
            "_model_module": "@jupyter-widgets/controls",
            "_model_module_version": "1.5.0",
            "_model_name": "HBoxModel",
            "_view_count": null,
            "_view_module": "@jupyter-widgets/controls",
            "_view_module_version": "1.5.0",
            "_view_name": "HBoxView",
            "box_style": "",
            "children": [
              "IPY_MODEL_5d085904ab8646b5b46967ed56722d85",
              "IPY_MODEL_68ae72c7a2624ca893a5440f0058f5b1",
              "IPY_MODEL_d51f218779ba46b19fe24ea67f560a57"
            ],
            "layout": "IPY_MODEL_8067c8f0858f4602b83ec2ae9db3b96e"
          }
        },
        "5d085904ab8646b5b46967ed56722d85": {
          "model_module": "@jupyter-widgets/controls",
          "model_name": "HTMLModel",
          "model_module_version": "1.5.0",
          "state": {
            "_dom_classes": [],
            "_model_module": "@jupyter-widgets/controls",
            "_model_module_version": "1.5.0",
            "_model_name": "HTMLModel",
            "_view_count": null,
            "_view_module": "@jupyter-widgets/controls",
            "_view_module_version": "1.5.0",
            "_view_name": "HTMLView",
            "description": "",
            "description_tooltip": null,
            "layout": "IPY_MODEL_1ece1102323b40498c26a6d32c9aeca7",
            "placeholder": "​",
            "style": "IPY_MODEL_f927b945a0d747edb12f362575f7457c",
            "value": "100%"
          }
        },
        "68ae72c7a2624ca893a5440f0058f5b1": {
          "model_module": "@jupyter-widgets/controls",
          "model_name": "FloatProgressModel",
          "model_module_version": "1.5.0",
          "state": {
            "_dom_classes": [],
            "_model_module": "@jupyter-widgets/controls",
            "_model_module_version": "1.5.0",
            "_model_name": "FloatProgressModel",
            "_view_count": null,
            "_view_module": "@jupyter-widgets/controls",
            "_view_module_version": "1.5.0",
            "_view_name": "ProgressView",
            "bar_style": "success",
            "description": "",
            "description_tooltip": null,
            "layout": "IPY_MODEL_1784e25694fd4eb0b7a0b247c345520c",
            "max": 1000000,
            "min": 0,
            "orientation": "horizontal",
            "style": "IPY_MODEL_75c91679788546e0b66b55afeb038dba",
            "value": 1000000
          }
        },
        "d51f218779ba46b19fe24ea67f560a57": {
          "model_module": "@jupyter-widgets/controls",
          "model_name": "HTMLModel",
          "model_module_version": "1.5.0",
          "state": {
            "_dom_classes": [],
            "_model_module": "@jupyter-widgets/controls",
            "_model_module_version": "1.5.0",
            "_model_name": "HTMLModel",
            "_view_count": null,
            "_view_module": "@jupyter-widgets/controls",
            "_view_module_version": "1.5.0",
            "_view_name": "HTMLView",
            "description": "",
            "description_tooltip": null,
            "layout": "IPY_MODEL_29338eb6d4a741e09ecf82e621667f9f",
            "placeholder": "​",
            "style": "IPY_MODEL_ab61b5c260a04cc28c030fb076b72612",
            "value": " 1000000/1000000 [02:06&lt;00:00, 8037.38it/s]"
          }
        },
        "8067c8f0858f4602b83ec2ae9db3b96e": {
          "model_module": "@jupyter-widgets/base",
          "model_name": "LayoutModel",
          "model_module_version": "1.2.0",
          "state": {
            "_model_module": "@jupyter-widgets/base",
            "_model_module_version": "1.2.0",
            "_model_name": "LayoutModel",
            "_view_count": null,
            "_view_module": "@jupyter-widgets/base",
            "_view_module_version": "1.2.0",
            "_view_name": "LayoutView",
            "align_content": null,
            "align_items": null,
            "align_self": null,
            "border": null,
            "bottom": null,
            "display": null,
            "flex": null,
            "flex_flow": null,
            "grid_area": null,
            "grid_auto_columns": null,
            "grid_auto_flow": null,
            "grid_auto_rows": null,
            "grid_column": null,
            "grid_gap": null,
            "grid_row": null,
            "grid_template_areas": null,
            "grid_template_columns": null,
            "grid_template_rows": null,
            "height": null,
            "justify_content": null,
            "justify_items": null,
            "left": null,
            "margin": null,
            "max_height": null,
            "max_width": null,
            "min_height": null,
            "min_width": null,
            "object_fit": null,
            "object_position": null,
            "order": null,
            "overflow": null,
            "overflow_x": null,
            "overflow_y": null,
            "padding": null,
            "right": null,
            "top": null,
            "visibility": null,
            "width": null
          }
        },
        "1ece1102323b40498c26a6d32c9aeca7": {
          "model_module": "@jupyter-widgets/base",
          "model_name": "LayoutModel",
          "model_module_version": "1.2.0",
          "state": {
            "_model_module": "@jupyter-widgets/base",
            "_model_module_version": "1.2.0",
            "_model_name": "LayoutModel",
            "_view_count": null,
            "_view_module": "@jupyter-widgets/base",
            "_view_module_version": "1.2.0",
            "_view_name": "LayoutView",
            "align_content": null,
            "align_items": null,
            "align_self": null,
            "border": null,
            "bottom": null,
            "display": null,
            "flex": null,
            "flex_flow": null,
            "grid_area": null,
            "grid_auto_columns": null,
            "grid_auto_flow": null,
            "grid_auto_rows": null,
            "grid_column": null,
            "grid_gap": null,
            "grid_row": null,
            "grid_template_areas": null,
            "grid_template_columns": null,
            "grid_template_rows": null,
            "height": null,
            "justify_content": null,
            "justify_items": null,
            "left": null,
            "margin": null,
            "max_height": null,
            "max_width": null,
            "min_height": null,
            "min_width": null,
            "object_fit": null,
            "object_position": null,
            "order": null,
            "overflow": null,
            "overflow_x": null,
            "overflow_y": null,
            "padding": null,
            "right": null,
            "top": null,
            "visibility": null,
            "width": null
          }
        },
        "f927b945a0d747edb12f362575f7457c": {
          "model_module": "@jupyter-widgets/controls",
          "model_name": "DescriptionStyleModel",
          "model_module_version": "1.5.0",
          "state": {
            "_model_module": "@jupyter-widgets/controls",
            "_model_module_version": "1.5.0",
            "_model_name": "DescriptionStyleModel",
            "_view_count": null,
            "_view_module": "@jupyter-widgets/base",
            "_view_module_version": "1.2.0",
            "_view_name": "StyleView",
            "description_width": ""
          }
        },
        "1784e25694fd4eb0b7a0b247c345520c": {
          "model_module": "@jupyter-widgets/base",
          "model_name": "LayoutModel",
          "model_module_version": "1.2.0",
          "state": {
            "_model_module": "@jupyter-widgets/base",
            "_model_module_version": "1.2.0",
            "_model_name": "LayoutModel",
            "_view_count": null,
            "_view_module": "@jupyter-widgets/base",
            "_view_module_version": "1.2.0",
            "_view_name": "LayoutView",
            "align_content": null,
            "align_items": null,
            "align_self": null,
            "border": null,
            "bottom": null,
            "display": null,
            "flex": null,
            "flex_flow": null,
            "grid_area": null,
            "grid_auto_columns": null,
            "grid_auto_flow": null,
            "grid_auto_rows": null,
            "grid_column": null,
            "grid_gap": null,
            "grid_row": null,
            "grid_template_areas": null,
            "grid_template_columns": null,
            "grid_template_rows": null,
            "height": null,
            "justify_content": null,
            "justify_items": null,
            "left": null,
            "margin": null,
            "max_height": null,
            "max_width": null,
            "min_height": null,
            "min_width": null,
            "object_fit": null,
            "object_position": null,
            "order": null,
            "overflow": null,
            "overflow_x": null,
            "overflow_y": null,
            "padding": null,
            "right": null,
            "top": null,
            "visibility": null,
            "width": null
          }
        },
        "75c91679788546e0b66b55afeb038dba": {
          "model_module": "@jupyter-widgets/controls",
          "model_name": "ProgressStyleModel",
          "model_module_version": "1.5.0",
          "state": {
            "_model_module": "@jupyter-widgets/controls",
            "_model_module_version": "1.5.0",
            "_model_name": "ProgressStyleModel",
            "_view_count": null,
            "_view_module": "@jupyter-widgets/base",
            "_view_module_version": "1.2.0",
            "_view_name": "StyleView",
            "bar_color": null,
            "description_width": ""
          }
        },
        "29338eb6d4a741e09ecf82e621667f9f": {
          "model_module": "@jupyter-widgets/base",
          "model_name": "LayoutModel",
          "model_module_version": "1.2.0",
          "state": {
            "_model_module": "@jupyter-widgets/base",
            "_model_module_version": "1.2.0",
            "_model_name": "LayoutModel",
            "_view_count": null,
            "_view_module": "@jupyter-widgets/base",
            "_view_module_version": "1.2.0",
            "_view_name": "LayoutView",
            "align_content": null,
            "align_items": null,
            "align_self": null,
            "border": null,
            "bottom": null,
            "display": null,
            "flex": null,
            "flex_flow": null,
            "grid_area": null,
            "grid_auto_columns": null,
            "grid_auto_flow": null,
            "grid_auto_rows": null,
            "grid_column": null,
            "grid_gap": null,
            "grid_row": null,
            "grid_template_areas": null,
            "grid_template_columns": null,
            "grid_template_rows": null,
            "height": null,
            "justify_content": null,
            "justify_items": null,
            "left": null,
            "margin": null,
            "max_height": null,
            "max_width": null,
            "min_height": null,
            "min_width": null,
            "object_fit": null,
            "object_position": null,
            "order": null,
            "overflow": null,
            "overflow_x": null,
            "overflow_y": null,
            "padding": null,
            "right": null,
            "top": null,
            "visibility": null,
            "width": null
          }
        },
        "ab61b5c260a04cc28c030fb076b72612": {
          "model_module": "@jupyter-widgets/controls",
          "model_name": "DescriptionStyleModel",
          "model_module_version": "1.5.0",
          "state": {
            "_model_module": "@jupyter-widgets/controls",
            "_model_module_version": "1.5.0",
            "_model_name": "DescriptionStyleModel",
            "_view_count": null,
            "_view_module": "@jupyter-widgets/base",
            "_view_module_version": "1.2.0",
            "_view_name": "StyleView",
            "description_width": ""
          }
        },
        "ba8b49c895824bbc86453f2ce21d5a62": {
          "model_module": "@jupyter-widgets/controls",
          "model_name": "HBoxModel",
          "model_module_version": "1.5.0",
          "state": {
            "_dom_classes": [],
            "_model_module": "@jupyter-widgets/controls",
            "_model_module_version": "1.5.0",
            "_model_name": "HBoxModel",
            "_view_count": null,
            "_view_module": "@jupyter-widgets/controls",
            "_view_module_version": "1.5.0",
            "_view_name": "HBoxView",
            "box_style": "",
            "children": [
              "IPY_MODEL_563bcd454dc443e9b9e3842444e80730",
              "IPY_MODEL_6df2b502d72f43eb951264618ff3bae6",
              "IPY_MODEL_5e3d9c1e061f4b42a5be5b73200e6a06"
            ],
            "layout": "IPY_MODEL_034c879f3bcf466f9b5dead5ddc7f3e4"
          }
        },
        "563bcd454dc443e9b9e3842444e80730": {
          "model_module": "@jupyter-widgets/controls",
          "model_name": "HTMLModel",
          "model_module_version": "1.5.0",
          "state": {
            "_dom_classes": [],
            "_model_module": "@jupyter-widgets/controls",
            "_model_module_version": "1.5.0",
            "_model_name": "HTMLModel",
            "_view_count": null,
            "_view_module": "@jupyter-widgets/controls",
            "_view_module_version": "1.5.0",
            "_view_name": "HTMLView",
            "description": "",
            "description_tooltip": null,
            "layout": "IPY_MODEL_7ae30d7e25fa498888e926777999506e",
            "placeholder": "​",
            "style": "IPY_MODEL_472c9944af68421bb2113c5ae621573b",
            "value": "100%"
          }
        },
        "6df2b502d72f43eb951264618ff3bae6": {
          "model_module": "@jupyter-widgets/controls",
          "model_name": "FloatProgressModel",
          "model_module_version": "1.5.0",
          "state": {
            "_dom_classes": [],
            "_model_module": "@jupyter-widgets/controls",
            "_model_module_version": "1.5.0",
            "_model_name": "FloatProgressModel",
            "_view_count": null,
            "_view_module": "@jupyter-widgets/controls",
            "_view_module_version": "1.5.0",
            "_view_name": "ProgressView",
            "bar_style": "success",
            "description": "",
            "description_tooltip": null,
            "layout": "IPY_MODEL_96699a3b94b1438490d7a948fb780c7c",
            "max": 1000000,
            "min": 0,
            "orientation": "horizontal",
            "style": "IPY_MODEL_8abe1419fcdb430ab11888307ea32354",
            "value": 1000000
          }
        },
        "5e3d9c1e061f4b42a5be5b73200e6a06": {
          "model_module": "@jupyter-widgets/controls",
          "model_name": "HTMLModel",
          "model_module_version": "1.5.0",
          "state": {
            "_dom_classes": [],
            "_model_module": "@jupyter-widgets/controls",
            "_model_module_version": "1.5.0",
            "_model_name": "HTMLModel",
            "_view_count": null,
            "_view_module": "@jupyter-widgets/controls",
            "_view_module_version": "1.5.0",
            "_view_name": "HTMLView",
            "description": "",
            "description_tooltip": null,
            "layout": "IPY_MODEL_da01dd5a68f54c64bd9ad869b099027f",
            "placeholder": "​",
            "style": "IPY_MODEL_1b32459829524c69a2ccb60cbdeddf6c",
            "value": " 1000000/1000000 [01:20&lt;00:00, 13467.18it/s]"
          }
        },
        "034c879f3bcf466f9b5dead5ddc7f3e4": {
          "model_module": "@jupyter-widgets/base",
          "model_name": "LayoutModel",
          "model_module_version": "1.2.0",
          "state": {
            "_model_module": "@jupyter-widgets/base",
            "_model_module_version": "1.2.0",
            "_model_name": "LayoutModel",
            "_view_count": null,
            "_view_module": "@jupyter-widgets/base",
            "_view_module_version": "1.2.0",
            "_view_name": "LayoutView",
            "align_content": null,
            "align_items": null,
            "align_self": null,
            "border": null,
            "bottom": null,
            "display": null,
            "flex": null,
            "flex_flow": null,
            "grid_area": null,
            "grid_auto_columns": null,
            "grid_auto_flow": null,
            "grid_auto_rows": null,
            "grid_column": null,
            "grid_gap": null,
            "grid_row": null,
            "grid_template_areas": null,
            "grid_template_columns": null,
            "grid_template_rows": null,
            "height": null,
            "justify_content": null,
            "justify_items": null,
            "left": null,
            "margin": null,
            "max_height": null,
            "max_width": null,
            "min_height": null,
            "min_width": null,
            "object_fit": null,
            "object_position": null,
            "order": null,
            "overflow": null,
            "overflow_x": null,
            "overflow_y": null,
            "padding": null,
            "right": null,
            "top": null,
            "visibility": null,
            "width": null
          }
        },
        "7ae30d7e25fa498888e926777999506e": {
          "model_module": "@jupyter-widgets/base",
          "model_name": "LayoutModel",
          "model_module_version": "1.2.0",
          "state": {
            "_model_module": "@jupyter-widgets/base",
            "_model_module_version": "1.2.0",
            "_model_name": "LayoutModel",
            "_view_count": null,
            "_view_module": "@jupyter-widgets/base",
            "_view_module_version": "1.2.0",
            "_view_name": "LayoutView",
            "align_content": null,
            "align_items": null,
            "align_self": null,
            "border": null,
            "bottom": null,
            "display": null,
            "flex": null,
            "flex_flow": null,
            "grid_area": null,
            "grid_auto_columns": null,
            "grid_auto_flow": null,
            "grid_auto_rows": null,
            "grid_column": null,
            "grid_gap": null,
            "grid_row": null,
            "grid_template_areas": null,
            "grid_template_columns": null,
            "grid_template_rows": null,
            "height": null,
            "justify_content": null,
            "justify_items": null,
            "left": null,
            "margin": null,
            "max_height": null,
            "max_width": null,
            "min_height": null,
            "min_width": null,
            "object_fit": null,
            "object_position": null,
            "order": null,
            "overflow": null,
            "overflow_x": null,
            "overflow_y": null,
            "padding": null,
            "right": null,
            "top": null,
            "visibility": null,
            "width": null
          }
        },
        "472c9944af68421bb2113c5ae621573b": {
          "model_module": "@jupyter-widgets/controls",
          "model_name": "DescriptionStyleModel",
          "model_module_version": "1.5.0",
          "state": {
            "_model_module": "@jupyter-widgets/controls",
            "_model_module_version": "1.5.0",
            "_model_name": "DescriptionStyleModel",
            "_view_count": null,
            "_view_module": "@jupyter-widgets/base",
            "_view_module_version": "1.2.0",
            "_view_name": "StyleView",
            "description_width": ""
          }
        },
        "96699a3b94b1438490d7a948fb780c7c": {
          "model_module": "@jupyter-widgets/base",
          "model_name": "LayoutModel",
          "model_module_version": "1.2.0",
          "state": {
            "_model_module": "@jupyter-widgets/base",
            "_model_module_version": "1.2.0",
            "_model_name": "LayoutModel",
            "_view_count": null,
            "_view_module": "@jupyter-widgets/base",
            "_view_module_version": "1.2.0",
            "_view_name": "LayoutView",
            "align_content": null,
            "align_items": null,
            "align_self": null,
            "border": null,
            "bottom": null,
            "display": null,
            "flex": null,
            "flex_flow": null,
            "grid_area": null,
            "grid_auto_columns": null,
            "grid_auto_flow": null,
            "grid_auto_rows": null,
            "grid_column": null,
            "grid_gap": null,
            "grid_row": null,
            "grid_template_areas": null,
            "grid_template_columns": null,
            "grid_template_rows": null,
            "height": null,
            "justify_content": null,
            "justify_items": null,
            "left": null,
            "margin": null,
            "max_height": null,
            "max_width": null,
            "min_height": null,
            "min_width": null,
            "object_fit": null,
            "object_position": null,
            "order": null,
            "overflow": null,
            "overflow_x": null,
            "overflow_y": null,
            "padding": null,
            "right": null,
            "top": null,
            "visibility": null,
            "width": null
          }
        },
        "8abe1419fcdb430ab11888307ea32354": {
          "model_module": "@jupyter-widgets/controls",
          "model_name": "ProgressStyleModel",
          "model_module_version": "1.5.0",
          "state": {
            "_model_module": "@jupyter-widgets/controls",
            "_model_module_version": "1.5.0",
            "_model_name": "ProgressStyleModel",
            "_view_count": null,
            "_view_module": "@jupyter-widgets/base",
            "_view_module_version": "1.2.0",
            "_view_name": "StyleView",
            "bar_color": null,
            "description_width": ""
          }
        },
        "da01dd5a68f54c64bd9ad869b099027f": {
          "model_module": "@jupyter-widgets/base",
          "model_name": "LayoutModel",
          "model_module_version": "1.2.0",
          "state": {
            "_model_module": "@jupyter-widgets/base",
            "_model_module_version": "1.2.0",
            "_model_name": "LayoutModel",
            "_view_count": null,
            "_view_module": "@jupyter-widgets/base",
            "_view_module_version": "1.2.0",
            "_view_name": "LayoutView",
            "align_content": null,
            "align_items": null,
            "align_self": null,
            "border": null,
            "bottom": null,
            "display": null,
            "flex": null,
            "flex_flow": null,
            "grid_area": null,
            "grid_auto_columns": null,
            "grid_auto_flow": null,
            "grid_auto_rows": null,
            "grid_column": null,
            "grid_gap": null,
            "grid_row": null,
            "grid_template_areas": null,
            "grid_template_columns": null,
            "grid_template_rows": null,
            "height": null,
            "justify_content": null,
            "justify_items": null,
            "left": null,
            "margin": null,
            "max_height": null,
            "max_width": null,
            "min_height": null,
            "min_width": null,
            "object_fit": null,
            "object_position": null,
            "order": null,
            "overflow": null,
            "overflow_x": null,
            "overflow_y": null,
            "padding": null,
            "right": null,
            "top": null,
            "visibility": null,
            "width": null
          }
        },
        "1b32459829524c69a2ccb60cbdeddf6c": {
          "model_module": "@jupyter-widgets/controls",
          "model_name": "DescriptionStyleModel",
          "model_module_version": "1.5.0",
          "state": {
            "_model_module": "@jupyter-widgets/controls",
            "_model_module_version": "1.5.0",
            "_model_name": "DescriptionStyleModel",
            "_view_count": null,
            "_view_module": "@jupyter-widgets/base",
            "_view_module_version": "1.2.0",
            "_view_name": "StyleView",
            "description_width": ""
          }
        },
        "dfb6978427314585ba041041bfdd38f8": {
          "model_module": "@jupyter-widgets/controls",
          "model_name": "HBoxModel",
          "model_module_version": "1.5.0",
          "state": {
            "_dom_classes": [],
            "_model_module": "@jupyter-widgets/controls",
            "_model_module_version": "1.5.0",
            "_model_name": "HBoxModel",
            "_view_count": null,
            "_view_module": "@jupyter-widgets/controls",
            "_view_module_version": "1.5.0",
            "_view_name": "HBoxView",
            "box_style": "",
            "children": [
              "IPY_MODEL_bd7e4e9f03c4404a85e17506344a52d2",
              "IPY_MODEL_3062eecfc28342e894f5254d8ad4cc01",
              "IPY_MODEL_0b0a0001283448e6b7c0e28f28ef2402"
            ],
            "layout": "IPY_MODEL_abdd06745bc24f429025068bede99f98"
          }
        },
        "bd7e4e9f03c4404a85e17506344a52d2": {
          "model_module": "@jupyter-widgets/controls",
          "model_name": "HTMLModel",
          "model_module_version": "1.5.0",
          "state": {
            "_dom_classes": [],
            "_model_module": "@jupyter-widgets/controls",
            "_model_module_version": "1.5.0",
            "_model_name": "HTMLModel",
            "_view_count": null,
            "_view_module": "@jupyter-widgets/controls",
            "_view_module_version": "1.5.0",
            "_view_name": "HTMLView",
            "description": "",
            "description_tooltip": null,
            "layout": "IPY_MODEL_956fa7edda944237a3702d9269606265",
            "placeholder": "​",
            "style": "IPY_MODEL_145d3e1e2dd14e848282d5a626ef4b1b",
            "value": "100%"
          }
        },
        "3062eecfc28342e894f5254d8ad4cc01": {
          "model_module": "@jupyter-widgets/controls",
          "model_name": "FloatProgressModel",
          "model_module_version": "1.5.0",
          "state": {
            "_dom_classes": [],
            "_model_module": "@jupyter-widgets/controls",
            "_model_module_version": "1.5.0",
            "_model_name": "FloatProgressModel",
            "_view_count": null,
            "_view_module": "@jupyter-widgets/controls",
            "_view_module_version": "1.5.0",
            "_view_name": "ProgressView",
            "bar_style": "success",
            "description": "",
            "description_tooltip": null,
            "layout": "IPY_MODEL_4fbaee0086e84b2f86bacbc2cd2086e0",
            "max": 100000,
            "min": 0,
            "orientation": "horizontal",
            "style": "IPY_MODEL_4e786844da3b47048fe4fa721a0b61d6",
            "value": 100000
          }
        },
        "0b0a0001283448e6b7c0e28f28ef2402": {
          "model_module": "@jupyter-widgets/controls",
          "model_name": "HTMLModel",
          "model_module_version": "1.5.0",
          "state": {
            "_dom_classes": [],
            "_model_module": "@jupyter-widgets/controls",
            "_model_module_version": "1.5.0",
            "_model_name": "HTMLModel",
            "_view_count": null,
            "_view_module": "@jupyter-widgets/controls",
            "_view_module_version": "1.5.0",
            "_view_name": "HTMLView",
            "description": "",
            "description_tooltip": null,
            "layout": "IPY_MODEL_282cfa3288f3456f9897be4269db1829",
            "placeholder": "​",
            "style": "IPY_MODEL_8747ff95e28e4d8dadc7da98571714c9",
            "value": " 100000/100000 [00:29&lt;00:00, 2977.36it/s]"
          }
        },
        "abdd06745bc24f429025068bede99f98": {
          "model_module": "@jupyter-widgets/base",
          "model_name": "LayoutModel",
          "model_module_version": "1.2.0",
          "state": {
            "_model_module": "@jupyter-widgets/base",
            "_model_module_version": "1.2.0",
            "_model_name": "LayoutModel",
            "_view_count": null,
            "_view_module": "@jupyter-widgets/base",
            "_view_module_version": "1.2.0",
            "_view_name": "LayoutView",
            "align_content": null,
            "align_items": null,
            "align_self": null,
            "border": null,
            "bottom": null,
            "display": null,
            "flex": null,
            "flex_flow": null,
            "grid_area": null,
            "grid_auto_columns": null,
            "grid_auto_flow": null,
            "grid_auto_rows": null,
            "grid_column": null,
            "grid_gap": null,
            "grid_row": null,
            "grid_template_areas": null,
            "grid_template_columns": null,
            "grid_template_rows": null,
            "height": null,
            "justify_content": null,
            "justify_items": null,
            "left": null,
            "margin": null,
            "max_height": null,
            "max_width": null,
            "min_height": null,
            "min_width": null,
            "object_fit": null,
            "object_position": null,
            "order": null,
            "overflow": null,
            "overflow_x": null,
            "overflow_y": null,
            "padding": null,
            "right": null,
            "top": null,
            "visibility": null,
            "width": null
          }
        },
        "956fa7edda944237a3702d9269606265": {
          "model_module": "@jupyter-widgets/base",
          "model_name": "LayoutModel",
          "model_module_version": "1.2.0",
          "state": {
            "_model_module": "@jupyter-widgets/base",
            "_model_module_version": "1.2.0",
            "_model_name": "LayoutModel",
            "_view_count": null,
            "_view_module": "@jupyter-widgets/base",
            "_view_module_version": "1.2.0",
            "_view_name": "LayoutView",
            "align_content": null,
            "align_items": null,
            "align_self": null,
            "border": null,
            "bottom": null,
            "display": null,
            "flex": null,
            "flex_flow": null,
            "grid_area": null,
            "grid_auto_columns": null,
            "grid_auto_flow": null,
            "grid_auto_rows": null,
            "grid_column": null,
            "grid_gap": null,
            "grid_row": null,
            "grid_template_areas": null,
            "grid_template_columns": null,
            "grid_template_rows": null,
            "height": null,
            "justify_content": null,
            "justify_items": null,
            "left": null,
            "margin": null,
            "max_height": null,
            "max_width": null,
            "min_height": null,
            "min_width": null,
            "object_fit": null,
            "object_position": null,
            "order": null,
            "overflow": null,
            "overflow_x": null,
            "overflow_y": null,
            "padding": null,
            "right": null,
            "top": null,
            "visibility": null,
            "width": null
          }
        },
        "145d3e1e2dd14e848282d5a626ef4b1b": {
          "model_module": "@jupyter-widgets/controls",
          "model_name": "DescriptionStyleModel",
          "model_module_version": "1.5.0",
          "state": {
            "_model_module": "@jupyter-widgets/controls",
            "_model_module_version": "1.5.0",
            "_model_name": "DescriptionStyleModel",
            "_view_count": null,
            "_view_module": "@jupyter-widgets/base",
            "_view_module_version": "1.2.0",
            "_view_name": "StyleView",
            "description_width": ""
          }
        },
        "4fbaee0086e84b2f86bacbc2cd2086e0": {
          "model_module": "@jupyter-widgets/base",
          "model_name": "LayoutModel",
          "model_module_version": "1.2.0",
          "state": {
            "_model_module": "@jupyter-widgets/base",
            "_model_module_version": "1.2.0",
            "_model_name": "LayoutModel",
            "_view_count": null,
            "_view_module": "@jupyter-widgets/base",
            "_view_module_version": "1.2.0",
            "_view_name": "LayoutView",
            "align_content": null,
            "align_items": null,
            "align_self": null,
            "border": null,
            "bottom": null,
            "display": null,
            "flex": null,
            "flex_flow": null,
            "grid_area": null,
            "grid_auto_columns": null,
            "grid_auto_flow": null,
            "grid_auto_rows": null,
            "grid_column": null,
            "grid_gap": null,
            "grid_row": null,
            "grid_template_areas": null,
            "grid_template_columns": null,
            "grid_template_rows": null,
            "height": null,
            "justify_content": null,
            "justify_items": null,
            "left": null,
            "margin": null,
            "max_height": null,
            "max_width": null,
            "min_height": null,
            "min_width": null,
            "object_fit": null,
            "object_position": null,
            "order": null,
            "overflow": null,
            "overflow_x": null,
            "overflow_y": null,
            "padding": null,
            "right": null,
            "top": null,
            "visibility": null,
            "width": null
          }
        },
        "4e786844da3b47048fe4fa721a0b61d6": {
          "model_module": "@jupyter-widgets/controls",
          "model_name": "ProgressStyleModel",
          "model_module_version": "1.5.0",
          "state": {
            "_model_module": "@jupyter-widgets/controls",
            "_model_module_version": "1.5.0",
            "_model_name": "ProgressStyleModel",
            "_view_count": null,
            "_view_module": "@jupyter-widgets/base",
            "_view_module_version": "1.2.0",
            "_view_name": "StyleView",
            "bar_color": null,
            "description_width": ""
          }
        },
        "282cfa3288f3456f9897be4269db1829": {
          "model_module": "@jupyter-widgets/base",
          "model_name": "LayoutModel",
          "model_module_version": "1.2.0",
          "state": {
            "_model_module": "@jupyter-widgets/base",
            "_model_module_version": "1.2.0",
            "_model_name": "LayoutModel",
            "_view_count": null,
            "_view_module": "@jupyter-widgets/base",
            "_view_module_version": "1.2.0",
            "_view_name": "LayoutView",
            "align_content": null,
            "align_items": null,
            "align_self": null,
            "border": null,
            "bottom": null,
            "display": null,
            "flex": null,
            "flex_flow": null,
            "grid_area": null,
            "grid_auto_columns": null,
            "grid_auto_flow": null,
            "grid_auto_rows": null,
            "grid_column": null,
            "grid_gap": null,
            "grid_row": null,
            "grid_template_areas": null,
            "grid_template_columns": null,
            "grid_template_rows": null,
            "height": null,
            "justify_content": null,
            "justify_items": null,
            "left": null,
            "margin": null,
            "max_height": null,
            "max_width": null,
            "min_height": null,
            "min_width": null,
            "object_fit": null,
            "object_position": null,
            "order": null,
            "overflow": null,
            "overflow_x": null,
            "overflow_y": null,
            "padding": null,
            "right": null,
            "top": null,
            "visibility": null,
            "width": null
          }
        },
        "8747ff95e28e4d8dadc7da98571714c9": {
          "model_module": "@jupyter-widgets/controls",
          "model_name": "DescriptionStyleModel",
          "model_module_version": "1.5.0",
          "state": {
            "_model_module": "@jupyter-widgets/controls",
            "_model_module_version": "1.5.0",
            "_model_name": "DescriptionStyleModel",
            "_view_count": null,
            "_view_module": "@jupyter-widgets/base",
            "_view_module_version": "1.2.0",
            "_view_name": "StyleView",
            "description_width": ""
          }
        },
        "d734abcddcb34efc98a8655252eff4a7": {
          "model_module": "@jupyter-widgets/controls",
          "model_name": "HBoxModel",
          "model_module_version": "1.5.0",
          "state": {
            "_dom_classes": [],
            "_model_module": "@jupyter-widgets/controls",
            "_model_module_version": "1.5.0",
            "_model_name": "HBoxModel",
            "_view_count": null,
            "_view_module": "@jupyter-widgets/controls",
            "_view_module_version": "1.5.0",
            "_view_name": "HBoxView",
            "box_style": "",
            "children": [
              "IPY_MODEL_c6adf6f544264b77af23932d39427aed",
              "IPY_MODEL_aa4c4ebd27244de69819c42d2d0fc92c",
              "IPY_MODEL_b054c4d6374543f99e290c961a7b964a"
            ],
            "layout": "IPY_MODEL_417368dd7be541cfb715bbd862fb6b92"
          }
        },
        "c6adf6f544264b77af23932d39427aed": {
          "model_module": "@jupyter-widgets/controls",
          "model_name": "HTMLModel",
          "model_module_version": "1.5.0",
          "state": {
            "_dom_classes": [],
            "_model_module": "@jupyter-widgets/controls",
            "_model_module_version": "1.5.0",
            "_model_name": "HTMLModel",
            "_view_count": null,
            "_view_module": "@jupyter-widgets/controls",
            "_view_module_version": "1.5.0",
            "_view_name": "HTMLView",
            "description": "",
            "description_tooltip": null,
            "layout": "IPY_MODEL_b2df2b6cd34a4a7bbd382e864fb2c1c0",
            "placeholder": "​",
            "style": "IPY_MODEL_8eae651b6d044c4587748abb31d0aea8",
            "value": "100%"
          }
        },
        "aa4c4ebd27244de69819c42d2d0fc92c": {
          "model_module": "@jupyter-widgets/controls",
          "model_name": "FloatProgressModel",
          "model_module_version": "1.5.0",
          "state": {
            "_dom_classes": [],
            "_model_module": "@jupyter-widgets/controls",
            "_model_module_version": "1.5.0",
            "_model_name": "FloatProgressModel",
            "_view_count": null,
            "_view_module": "@jupyter-widgets/controls",
            "_view_module_version": "1.5.0",
            "_view_name": "ProgressView",
            "bar_style": "success",
            "description": "",
            "description_tooltip": null,
            "layout": "IPY_MODEL_52ccba188fda4226a7626ada0eb21e87",
            "max": 1000000,
            "min": 0,
            "orientation": "horizontal",
            "style": "IPY_MODEL_8d030b55e8bf42b3a55f2187675df1c4",
            "value": 1000000
          }
        },
        "b054c4d6374543f99e290c961a7b964a": {
          "model_module": "@jupyter-widgets/controls",
          "model_name": "HTMLModel",
          "model_module_version": "1.5.0",
          "state": {
            "_dom_classes": [],
            "_model_module": "@jupyter-widgets/controls",
            "_model_module_version": "1.5.0",
            "_model_name": "HTMLModel",
            "_view_count": null,
            "_view_module": "@jupyter-widgets/controls",
            "_view_module_version": "1.5.0",
            "_view_name": "HTMLView",
            "description": "",
            "description_tooltip": null,
            "layout": "IPY_MODEL_3684af934d114730b84c76e14ce8f9b0",
            "placeholder": "​",
            "style": "IPY_MODEL_7fc2bbcceac54cb290a02ed24f4d11d5",
            "value": " 1000000/1000000 [03:50&lt;00:00, 3708.46it/s]"
          }
        },
        "417368dd7be541cfb715bbd862fb6b92": {
          "model_module": "@jupyter-widgets/base",
          "model_name": "LayoutModel",
          "model_module_version": "1.2.0",
          "state": {
            "_model_module": "@jupyter-widgets/base",
            "_model_module_version": "1.2.0",
            "_model_name": "LayoutModel",
            "_view_count": null,
            "_view_module": "@jupyter-widgets/base",
            "_view_module_version": "1.2.0",
            "_view_name": "LayoutView",
            "align_content": null,
            "align_items": null,
            "align_self": null,
            "border": null,
            "bottom": null,
            "display": null,
            "flex": null,
            "flex_flow": null,
            "grid_area": null,
            "grid_auto_columns": null,
            "grid_auto_flow": null,
            "grid_auto_rows": null,
            "grid_column": null,
            "grid_gap": null,
            "grid_row": null,
            "grid_template_areas": null,
            "grid_template_columns": null,
            "grid_template_rows": null,
            "height": null,
            "justify_content": null,
            "justify_items": null,
            "left": null,
            "margin": null,
            "max_height": null,
            "max_width": null,
            "min_height": null,
            "min_width": null,
            "object_fit": null,
            "object_position": null,
            "order": null,
            "overflow": null,
            "overflow_x": null,
            "overflow_y": null,
            "padding": null,
            "right": null,
            "top": null,
            "visibility": null,
            "width": null
          }
        },
        "b2df2b6cd34a4a7bbd382e864fb2c1c0": {
          "model_module": "@jupyter-widgets/base",
          "model_name": "LayoutModel",
          "model_module_version": "1.2.0",
          "state": {
            "_model_module": "@jupyter-widgets/base",
            "_model_module_version": "1.2.0",
            "_model_name": "LayoutModel",
            "_view_count": null,
            "_view_module": "@jupyter-widgets/base",
            "_view_module_version": "1.2.0",
            "_view_name": "LayoutView",
            "align_content": null,
            "align_items": null,
            "align_self": null,
            "border": null,
            "bottom": null,
            "display": null,
            "flex": null,
            "flex_flow": null,
            "grid_area": null,
            "grid_auto_columns": null,
            "grid_auto_flow": null,
            "grid_auto_rows": null,
            "grid_column": null,
            "grid_gap": null,
            "grid_row": null,
            "grid_template_areas": null,
            "grid_template_columns": null,
            "grid_template_rows": null,
            "height": null,
            "justify_content": null,
            "justify_items": null,
            "left": null,
            "margin": null,
            "max_height": null,
            "max_width": null,
            "min_height": null,
            "min_width": null,
            "object_fit": null,
            "object_position": null,
            "order": null,
            "overflow": null,
            "overflow_x": null,
            "overflow_y": null,
            "padding": null,
            "right": null,
            "top": null,
            "visibility": null,
            "width": null
          }
        },
        "8eae651b6d044c4587748abb31d0aea8": {
          "model_module": "@jupyter-widgets/controls",
          "model_name": "DescriptionStyleModel",
          "model_module_version": "1.5.0",
          "state": {
            "_model_module": "@jupyter-widgets/controls",
            "_model_module_version": "1.5.0",
            "_model_name": "DescriptionStyleModel",
            "_view_count": null,
            "_view_module": "@jupyter-widgets/base",
            "_view_module_version": "1.2.0",
            "_view_name": "StyleView",
            "description_width": ""
          }
        },
        "52ccba188fda4226a7626ada0eb21e87": {
          "model_module": "@jupyter-widgets/base",
          "model_name": "LayoutModel",
          "model_module_version": "1.2.0",
          "state": {
            "_model_module": "@jupyter-widgets/base",
            "_model_module_version": "1.2.0",
            "_model_name": "LayoutModel",
            "_view_count": null,
            "_view_module": "@jupyter-widgets/base",
            "_view_module_version": "1.2.0",
            "_view_name": "LayoutView",
            "align_content": null,
            "align_items": null,
            "align_self": null,
            "border": null,
            "bottom": null,
            "display": null,
            "flex": null,
            "flex_flow": null,
            "grid_area": null,
            "grid_auto_columns": null,
            "grid_auto_flow": null,
            "grid_auto_rows": null,
            "grid_column": null,
            "grid_gap": null,
            "grid_row": null,
            "grid_template_areas": null,
            "grid_template_columns": null,
            "grid_template_rows": null,
            "height": null,
            "justify_content": null,
            "justify_items": null,
            "left": null,
            "margin": null,
            "max_height": null,
            "max_width": null,
            "min_height": null,
            "min_width": null,
            "object_fit": null,
            "object_position": null,
            "order": null,
            "overflow": null,
            "overflow_x": null,
            "overflow_y": null,
            "padding": null,
            "right": null,
            "top": null,
            "visibility": null,
            "width": null
          }
        },
        "8d030b55e8bf42b3a55f2187675df1c4": {
          "model_module": "@jupyter-widgets/controls",
          "model_name": "ProgressStyleModel",
          "model_module_version": "1.5.0",
          "state": {
            "_model_module": "@jupyter-widgets/controls",
            "_model_module_version": "1.5.0",
            "_model_name": "ProgressStyleModel",
            "_view_count": null,
            "_view_module": "@jupyter-widgets/base",
            "_view_module_version": "1.2.0",
            "_view_name": "StyleView",
            "bar_color": null,
            "description_width": ""
          }
        },
        "3684af934d114730b84c76e14ce8f9b0": {
          "model_module": "@jupyter-widgets/base",
          "model_name": "LayoutModel",
          "model_module_version": "1.2.0",
          "state": {
            "_model_module": "@jupyter-widgets/base",
            "_model_module_version": "1.2.0",
            "_model_name": "LayoutModel",
            "_view_count": null,
            "_view_module": "@jupyter-widgets/base",
            "_view_module_version": "1.2.0",
            "_view_name": "LayoutView",
            "align_content": null,
            "align_items": null,
            "align_self": null,
            "border": null,
            "bottom": null,
            "display": null,
            "flex": null,
            "flex_flow": null,
            "grid_area": null,
            "grid_auto_columns": null,
            "grid_auto_flow": null,
            "grid_auto_rows": null,
            "grid_column": null,
            "grid_gap": null,
            "grid_row": null,
            "grid_template_areas": null,
            "grid_template_columns": null,
            "grid_template_rows": null,
            "height": null,
            "justify_content": null,
            "justify_items": null,
            "left": null,
            "margin": null,
            "max_height": null,
            "max_width": null,
            "min_height": null,
            "min_width": null,
            "object_fit": null,
            "object_position": null,
            "order": null,
            "overflow": null,
            "overflow_x": null,
            "overflow_y": null,
            "padding": null,
            "right": null,
            "top": null,
            "visibility": null,
            "width": null
          }
        },
        "7fc2bbcceac54cb290a02ed24f4d11d5": {
          "model_module": "@jupyter-widgets/controls",
          "model_name": "DescriptionStyleModel",
          "model_module_version": "1.5.0",
          "state": {
            "_model_module": "@jupyter-widgets/controls",
            "_model_module_version": "1.5.0",
            "_model_name": "DescriptionStyleModel",
            "_view_count": null,
            "_view_module": "@jupyter-widgets/base",
            "_view_module_version": "1.2.0",
            "_view_name": "StyleView",
            "description_width": ""
          }
        },
        "73501aa35e7348e6937bdea1253a65bd": {
          "model_module": "@jupyter-widgets/controls",
          "model_name": "HBoxModel",
          "model_module_version": "1.5.0",
          "state": {
            "_dom_classes": [],
            "_model_module": "@jupyter-widgets/controls",
            "_model_module_version": "1.5.0",
            "_model_name": "HBoxModel",
            "_view_count": null,
            "_view_module": "@jupyter-widgets/controls",
            "_view_module_version": "1.5.0",
            "_view_name": "HBoxView",
            "box_style": "",
            "children": [
              "IPY_MODEL_fe5f921ac98b4cef95e164e55e0fac99",
              "IPY_MODEL_06bd74cf919b4a3c97d3f9a203244bc6",
              "IPY_MODEL_913026c6af164d19abc2df4145346561"
            ],
            "layout": "IPY_MODEL_7d47cb648d03488b83db0a5b45191f17"
          }
        },
        "fe5f921ac98b4cef95e164e55e0fac99": {
          "model_module": "@jupyter-widgets/controls",
          "model_name": "HTMLModel",
          "model_module_version": "1.5.0",
          "state": {
            "_dom_classes": [],
            "_model_module": "@jupyter-widgets/controls",
            "_model_module_version": "1.5.0",
            "_model_name": "HTMLModel",
            "_view_count": null,
            "_view_module": "@jupyter-widgets/controls",
            "_view_module_version": "1.5.0",
            "_view_name": "HTMLView",
            "description": "",
            "description_tooltip": null,
            "layout": "IPY_MODEL_090e2dc656b4425ea85abfce8025f1b3",
            "placeholder": "​",
            "style": "IPY_MODEL_cffcac419510455b9c638df063a44789",
            "value": "100%"
          }
        },
        "06bd74cf919b4a3c97d3f9a203244bc6": {
          "model_module": "@jupyter-widgets/controls",
          "model_name": "FloatProgressModel",
          "model_module_version": "1.5.0",
          "state": {
            "_dom_classes": [],
            "_model_module": "@jupyter-widgets/controls",
            "_model_module_version": "1.5.0",
            "_model_name": "FloatProgressModel",
            "_view_count": null,
            "_view_module": "@jupyter-widgets/controls",
            "_view_module_version": "1.5.0",
            "_view_name": "ProgressView",
            "bar_style": "success",
            "description": "",
            "description_tooltip": null,
            "layout": "IPY_MODEL_e030926fe2504ef7a52ec95c418684f1",
            "max": 1000000,
            "min": 0,
            "orientation": "horizontal",
            "style": "IPY_MODEL_e79a478a961942ca97b1cab99ab9e190",
            "value": 1000000
          }
        },
        "913026c6af164d19abc2df4145346561": {
          "model_module": "@jupyter-widgets/controls",
          "model_name": "HTMLModel",
          "model_module_version": "1.5.0",
          "state": {
            "_dom_classes": [],
            "_model_module": "@jupyter-widgets/controls",
            "_model_module_version": "1.5.0",
            "_model_name": "HTMLModel",
            "_view_count": null,
            "_view_module": "@jupyter-widgets/controls",
            "_view_module_version": "1.5.0",
            "_view_name": "HTMLView",
            "description": "",
            "description_tooltip": null,
            "layout": "IPY_MODEL_2fefdaeb01434cf7839d567ea135ee69",
            "placeholder": "​",
            "style": "IPY_MODEL_6ff6d893300841acb9d2430ddc35e926",
            "value": " 1000000/1000000 [01:25&lt;00:00, 10298.49it/s]"
          }
        },
        "7d47cb648d03488b83db0a5b45191f17": {
          "model_module": "@jupyter-widgets/base",
          "model_name": "LayoutModel",
          "model_module_version": "1.2.0",
          "state": {
            "_model_module": "@jupyter-widgets/base",
            "_model_module_version": "1.2.0",
            "_model_name": "LayoutModel",
            "_view_count": null,
            "_view_module": "@jupyter-widgets/base",
            "_view_module_version": "1.2.0",
            "_view_name": "LayoutView",
            "align_content": null,
            "align_items": null,
            "align_self": null,
            "border": null,
            "bottom": null,
            "display": null,
            "flex": null,
            "flex_flow": null,
            "grid_area": null,
            "grid_auto_columns": null,
            "grid_auto_flow": null,
            "grid_auto_rows": null,
            "grid_column": null,
            "grid_gap": null,
            "grid_row": null,
            "grid_template_areas": null,
            "grid_template_columns": null,
            "grid_template_rows": null,
            "height": null,
            "justify_content": null,
            "justify_items": null,
            "left": null,
            "margin": null,
            "max_height": null,
            "max_width": null,
            "min_height": null,
            "min_width": null,
            "object_fit": null,
            "object_position": null,
            "order": null,
            "overflow": null,
            "overflow_x": null,
            "overflow_y": null,
            "padding": null,
            "right": null,
            "top": null,
            "visibility": null,
            "width": null
          }
        },
        "090e2dc656b4425ea85abfce8025f1b3": {
          "model_module": "@jupyter-widgets/base",
          "model_name": "LayoutModel",
          "model_module_version": "1.2.0",
          "state": {
            "_model_module": "@jupyter-widgets/base",
            "_model_module_version": "1.2.0",
            "_model_name": "LayoutModel",
            "_view_count": null,
            "_view_module": "@jupyter-widgets/base",
            "_view_module_version": "1.2.0",
            "_view_name": "LayoutView",
            "align_content": null,
            "align_items": null,
            "align_self": null,
            "border": null,
            "bottom": null,
            "display": null,
            "flex": null,
            "flex_flow": null,
            "grid_area": null,
            "grid_auto_columns": null,
            "grid_auto_flow": null,
            "grid_auto_rows": null,
            "grid_column": null,
            "grid_gap": null,
            "grid_row": null,
            "grid_template_areas": null,
            "grid_template_columns": null,
            "grid_template_rows": null,
            "height": null,
            "justify_content": null,
            "justify_items": null,
            "left": null,
            "margin": null,
            "max_height": null,
            "max_width": null,
            "min_height": null,
            "min_width": null,
            "object_fit": null,
            "object_position": null,
            "order": null,
            "overflow": null,
            "overflow_x": null,
            "overflow_y": null,
            "padding": null,
            "right": null,
            "top": null,
            "visibility": null,
            "width": null
          }
        },
        "cffcac419510455b9c638df063a44789": {
          "model_module": "@jupyter-widgets/controls",
          "model_name": "DescriptionStyleModel",
          "model_module_version": "1.5.0",
          "state": {
            "_model_module": "@jupyter-widgets/controls",
            "_model_module_version": "1.5.0",
            "_model_name": "DescriptionStyleModel",
            "_view_count": null,
            "_view_module": "@jupyter-widgets/base",
            "_view_module_version": "1.2.0",
            "_view_name": "StyleView",
            "description_width": ""
          }
        },
        "e030926fe2504ef7a52ec95c418684f1": {
          "model_module": "@jupyter-widgets/base",
          "model_name": "LayoutModel",
          "model_module_version": "1.2.0",
          "state": {
            "_model_module": "@jupyter-widgets/base",
            "_model_module_version": "1.2.0",
            "_model_name": "LayoutModel",
            "_view_count": null,
            "_view_module": "@jupyter-widgets/base",
            "_view_module_version": "1.2.0",
            "_view_name": "LayoutView",
            "align_content": null,
            "align_items": null,
            "align_self": null,
            "border": null,
            "bottom": null,
            "display": null,
            "flex": null,
            "flex_flow": null,
            "grid_area": null,
            "grid_auto_columns": null,
            "grid_auto_flow": null,
            "grid_auto_rows": null,
            "grid_column": null,
            "grid_gap": null,
            "grid_row": null,
            "grid_template_areas": null,
            "grid_template_columns": null,
            "grid_template_rows": null,
            "height": null,
            "justify_content": null,
            "justify_items": null,
            "left": null,
            "margin": null,
            "max_height": null,
            "max_width": null,
            "min_height": null,
            "min_width": null,
            "object_fit": null,
            "object_position": null,
            "order": null,
            "overflow": null,
            "overflow_x": null,
            "overflow_y": null,
            "padding": null,
            "right": null,
            "top": null,
            "visibility": null,
            "width": null
          }
        },
        "e79a478a961942ca97b1cab99ab9e190": {
          "model_module": "@jupyter-widgets/controls",
          "model_name": "ProgressStyleModel",
          "model_module_version": "1.5.0",
          "state": {
            "_model_module": "@jupyter-widgets/controls",
            "_model_module_version": "1.5.0",
            "_model_name": "ProgressStyleModel",
            "_view_count": null,
            "_view_module": "@jupyter-widgets/base",
            "_view_module_version": "1.2.0",
            "_view_name": "StyleView",
            "bar_color": null,
            "description_width": ""
          }
        },
        "2fefdaeb01434cf7839d567ea135ee69": {
          "model_module": "@jupyter-widgets/base",
          "model_name": "LayoutModel",
          "model_module_version": "1.2.0",
          "state": {
            "_model_module": "@jupyter-widgets/base",
            "_model_module_version": "1.2.0",
            "_model_name": "LayoutModel",
            "_view_count": null,
            "_view_module": "@jupyter-widgets/base",
            "_view_module_version": "1.2.0",
            "_view_name": "LayoutView",
            "align_content": null,
            "align_items": null,
            "align_self": null,
            "border": null,
            "bottom": null,
            "display": null,
            "flex": null,
            "flex_flow": null,
            "grid_area": null,
            "grid_auto_columns": null,
            "grid_auto_flow": null,
            "grid_auto_rows": null,
            "grid_column": null,
            "grid_gap": null,
            "grid_row": null,
            "grid_template_areas": null,
            "grid_template_columns": null,
            "grid_template_rows": null,
            "height": null,
            "justify_content": null,
            "justify_items": null,
            "left": null,
            "margin": null,
            "max_height": null,
            "max_width": null,
            "min_height": null,
            "min_width": null,
            "object_fit": null,
            "object_position": null,
            "order": null,
            "overflow": null,
            "overflow_x": null,
            "overflow_y": null,
            "padding": null,
            "right": null,
            "top": null,
            "visibility": null,
            "width": null
          }
        },
        "6ff6d893300841acb9d2430ddc35e926": {
          "model_module": "@jupyter-widgets/controls",
          "model_name": "DescriptionStyleModel",
          "model_module_version": "1.5.0",
          "state": {
            "_model_module": "@jupyter-widgets/controls",
            "_model_module_version": "1.5.0",
            "_model_name": "DescriptionStyleModel",
            "_view_count": null,
            "_view_module": "@jupyter-widgets/base",
            "_view_module_version": "1.2.0",
            "_view_name": "StyleView",
            "description_width": ""
          }
        },
        "9ad152939eb24dcabd66c0f9726ccac0": {
          "model_module": "@jupyter-widgets/controls",
          "model_name": "HBoxModel",
          "model_module_version": "1.5.0",
          "state": {
            "_dom_classes": [],
            "_model_module": "@jupyter-widgets/controls",
            "_model_module_version": "1.5.0",
            "_model_name": "HBoxModel",
            "_view_count": null,
            "_view_module": "@jupyter-widgets/controls",
            "_view_module_version": "1.5.0",
            "_view_name": "HBoxView",
            "box_style": "",
            "children": [
              "IPY_MODEL_9b566b4ad1304adda84dc84c3d24b155",
              "IPY_MODEL_853c03407f83497b952a97800ea1098f",
              "IPY_MODEL_f728848776744c25b5e3bfda0b9dc944"
            ],
            "layout": "IPY_MODEL_a04a648a696a49d19c1eec2e7614360d"
          }
        },
        "9b566b4ad1304adda84dc84c3d24b155": {
          "model_module": "@jupyter-widgets/controls",
          "model_name": "HTMLModel",
          "model_module_version": "1.5.0",
          "state": {
            "_dom_classes": [],
            "_model_module": "@jupyter-widgets/controls",
            "_model_module_version": "1.5.0",
            "_model_name": "HTMLModel",
            "_view_count": null,
            "_view_module": "@jupyter-widgets/controls",
            "_view_module_version": "1.5.0",
            "_view_name": "HTMLView",
            "description": "",
            "description_tooltip": null,
            "layout": "IPY_MODEL_950f435a7e37427aa8a2b6ded584c84d",
            "placeholder": "​",
            "style": "IPY_MODEL_d1fa97b1a86b4c0bad9ae49aa69afba1",
            "value": "100%"
          }
        },
        "853c03407f83497b952a97800ea1098f": {
          "model_module": "@jupyter-widgets/controls",
          "model_name": "FloatProgressModel",
          "model_module_version": "1.5.0",
          "state": {
            "_dom_classes": [],
            "_model_module": "@jupyter-widgets/controls",
            "_model_module_version": "1.5.0",
            "_model_name": "FloatProgressModel",
            "_view_count": null,
            "_view_module": "@jupyter-widgets/controls",
            "_view_module_version": "1.5.0",
            "_view_name": "ProgressView",
            "bar_style": "success",
            "description": "",
            "description_tooltip": null,
            "layout": "IPY_MODEL_733470e13e724f2892a6c5e610a0eea7",
            "max": 100000,
            "min": 0,
            "orientation": "horizontal",
            "style": "IPY_MODEL_ca8c679a770548e381c9ff532916e5de",
            "value": 100000
          }
        },
        "f728848776744c25b5e3bfda0b9dc944": {
          "model_module": "@jupyter-widgets/controls",
          "model_name": "HTMLModel",
          "model_module_version": "1.5.0",
          "state": {
            "_dom_classes": [],
            "_model_module": "@jupyter-widgets/controls",
            "_model_module_version": "1.5.0",
            "_model_name": "HTMLModel",
            "_view_count": null,
            "_view_module": "@jupyter-widgets/controls",
            "_view_module_version": "1.5.0",
            "_view_name": "HTMLView",
            "description": "",
            "description_tooltip": null,
            "layout": "IPY_MODEL_8476233a2d024eb296cbc8d6932bca70",
            "placeholder": "​",
            "style": "IPY_MODEL_c82d7c0491694e42951b689b69ab598b",
            "value": " 100000/100000 [00:00&lt;00:00, 197507.39it/s]"
          }
        },
        "a04a648a696a49d19c1eec2e7614360d": {
          "model_module": "@jupyter-widgets/base",
          "model_name": "LayoutModel",
          "model_module_version": "1.2.0",
          "state": {
            "_model_module": "@jupyter-widgets/base",
            "_model_module_version": "1.2.0",
            "_model_name": "LayoutModel",
            "_view_count": null,
            "_view_module": "@jupyter-widgets/base",
            "_view_module_version": "1.2.0",
            "_view_name": "LayoutView",
            "align_content": null,
            "align_items": null,
            "align_self": null,
            "border": null,
            "bottom": null,
            "display": null,
            "flex": null,
            "flex_flow": null,
            "grid_area": null,
            "grid_auto_columns": null,
            "grid_auto_flow": null,
            "grid_auto_rows": null,
            "grid_column": null,
            "grid_gap": null,
            "grid_row": null,
            "grid_template_areas": null,
            "grid_template_columns": null,
            "grid_template_rows": null,
            "height": null,
            "justify_content": null,
            "justify_items": null,
            "left": null,
            "margin": null,
            "max_height": null,
            "max_width": null,
            "min_height": null,
            "min_width": null,
            "object_fit": null,
            "object_position": null,
            "order": null,
            "overflow": null,
            "overflow_x": null,
            "overflow_y": null,
            "padding": null,
            "right": null,
            "top": null,
            "visibility": null,
            "width": null
          }
        },
        "950f435a7e37427aa8a2b6ded584c84d": {
          "model_module": "@jupyter-widgets/base",
          "model_name": "LayoutModel",
          "model_module_version": "1.2.0",
          "state": {
            "_model_module": "@jupyter-widgets/base",
            "_model_module_version": "1.2.0",
            "_model_name": "LayoutModel",
            "_view_count": null,
            "_view_module": "@jupyter-widgets/base",
            "_view_module_version": "1.2.0",
            "_view_name": "LayoutView",
            "align_content": null,
            "align_items": null,
            "align_self": null,
            "border": null,
            "bottom": null,
            "display": null,
            "flex": null,
            "flex_flow": null,
            "grid_area": null,
            "grid_auto_columns": null,
            "grid_auto_flow": null,
            "grid_auto_rows": null,
            "grid_column": null,
            "grid_gap": null,
            "grid_row": null,
            "grid_template_areas": null,
            "grid_template_columns": null,
            "grid_template_rows": null,
            "height": null,
            "justify_content": null,
            "justify_items": null,
            "left": null,
            "margin": null,
            "max_height": null,
            "max_width": null,
            "min_height": null,
            "min_width": null,
            "object_fit": null,
            "object_position": null,
            "order": null,
            "overflow": null,
            "overflow_x": null,
            "overflow_y": null,
            "padding": null,
            "right": null,
            "top": null,
            "visibility": null,
            "width": null
          }
        },
        "d1fa97b1a86b4c0bad9ae49aa69afba1": {
          "model_module": "@jupyter-widgets/controls",
          "model_name": "DescriptionStyleModel",
          "model_module_version": "1.5.0",
          "state": {
            "_model_module": "@jupyter-widgets/controls",
            "_model_module_version": "1.5.0",
            "_model_name": "DescriptionStyleModel",
            "_view_count": null,
            "_view_module": "@jupyter-widgets/base",
            "_view_module_version": "1.2.0",
            "_view_name": "StyleView",
            "description_width": ""
          }
        },
        "733470e13e724f2892a6c5e610a0eea7": {
          "model_module": "@jupyter-widgets/base",
          "model_name": "LayoutModel",
          "model_module_version": "1.2.0",
          "state": {
            "_model_module": "@jupyter-widgets/base",
            "_model_module_version": "1.2.0",
            "_model_name": "LayoutModel",
            "_view_count": null,
            "_view_module": "@jupyter-widgets/base",
            "_view_module_version": "1.2.0",
            "_view_name": "LayoutView",
            "align_content": null,
            "align_items": null,
            "align_self": null,
            "border": null,
            "bottom": null,
            "display": null,
            "flex": null,
            "flex_flow": null,
            "grid_area": null,
            "grid_auto_columns": null,
            "grid_auto_flow": null,
            "grid_auto_rows": null,
            "grid_column": null,
            "grid_gap": null,
            "grid_row": null,
            "grid_template_areas": null,
            "grid_template_columns": null,
            "grid_template_rows": null,
            "height": null,
            "justify_content": null,
            "justify_items": null,
            "left": null,
            "margin": null,
            "max_height": null,
            "max_width": null,
            "min_height": null,
            "min_width": null,
            "object_fit": null,
            "object_position": null,
            "order": null,
            "overflow": null,
            "overflow_x": null,
            "overflow_y": null,
            "padding": null,
            "right": null,
            "top": null,
            "visibility": null,
            "width": null
          }
        },
        "ca8c679a770548e381c9ff532916e5de": {
          "model_module": "@jupyter-widgets/controls",
          "model_name": "ProgressStyleModel",
          "model_module_version": "1.5.0",
          "state": {
            "_model_module": "@jupyter-widgets/controls",
            "_model_module_version": "1.5.0",
            "_model_name": "ProgressStyleModel",
            "_view_count": null,
            "_view_module": "@jupyter-widgets/base",
            "_view_module_version": "1.2.0",
            "_view_name": "StyleView",
            "bar_color": null,
            "description_width": ""
          }
        },
        "8476233a2d024eb296cbc8d6932bca70": {
          "model_module": "@jupyter-widgets/base",
          "model_name": "LayoutModel",
          "model_module_version": "1.2.0",
          "state": {
            "_model_module": "@jupyter-widgets/base",
            "_model_module_version": "1.2.0",
            "_model_name": "LayoutModel",
            "_view_count": null,
            "_view_module": "@jupyter-widgets/base",
            "_view_module_version": "1.2.0",
            "_view_name": "LayoutView",
            "align_content": null,
            "align_items": null,
            "align_self": null,
            "border": null,
            "bottom": null,
            "display": null,
            "flex": null,
            "flex_flow": null,
            "grid_area": null,
            "grid_auto_columns": null,
            "grid_auto_flow": null,
            "grid_auto_rows": null,
            "grid_column": null,
            "grid_gap": null,
            "grid_row": null,
            "grid_template_areas": null,
            "grid_template_columns": null,
            "grid_template_rows": null,
            "height": null,
            "justify_content": null,
            "justify_items": null,
            "left": null,
            "margin": null,
            "max_height": null,
            "max_width": null,
            "min_height": null,
            "min_width": null,
            "object_fit": null,
            "object_position": null,
            "order": null,
            "overflow": null,
            "overflow_x": null,
            "overflow_y": null,
            "padding": null,
            "right": null,
            "top": null,
            "visibility": null,
            "width": null
          }
        },
        "c82d7c0491694e42951b689b69ab598b": {
          "model_module": "@jupyter-widgets/controls",
          "model_name": "DescriptionStyleModel",
          "model_module_version": "1.5.0",
          "state": {
            "_model_module": "@jupyter-widgets/controls",
            "_model_module_version": "1.5.0",
            "_model_name": "DescriptionStyleModel",
            "_view_count": null,
            "_view_module": "@jupyter-widgets/base",
            "_view_module_version": "1.2.0",
            "_view_name": "StyleView",
            "description_width": ""
          }
        },
        "eb3ae5d50ae041ed8bf45743be9e346c": {
          "model_module": "@jupyter-widgets/controls",
          "model_name": "HBoxModel",
          "model_module_version": "1.5.0",
          "state": {
            "_dom_classes": [],
            "_model_module": "@jupyter-widgets/controls",
            "_model_module_version": "1.5.0",
            "_model_name": "HBoxModel",
            "_view_count": null,
            "_view_module": "@jupyter-widgets/controls",
            "_view_module_version": "1.5.0",
            "_view_name": "HBoxView",
            "box_style": "",
            "children": [
              "IPY_MODEL_9c7520a26cd44635a5a825544b9b032c",
              "IPY_MODEL_b82362bf77194aceb0ee4a708ff4fc90",
              "IPY_MODEL_c6286c63cd9f4be38c1781a0bd1a2643"
            ],
            "layout": "IPY_MODEL_2e6aa824a0bd4b8ba7e99c6f05c3459c"
          }
        },
        "9c7520a26cd44635a5a825544b9b032c": {
          "model_module": "@jupyter-widgets/controls",
          "model_name": "HTMLModel",
          "model_module_version": "1.5.0",
          "state": {
            "_dom_classes": [],
            "_model_module": "@jupyter-widgets/controls",
            "_model_module_version": "1.5.0",
            "_model_name": "HTMLModel",
            "_view_count": null,
            "_view_module": "@jupyter-widgets/controls",
            "_view_module_version": "1.5.0",
            "_view_name": "HTMLView",
            "description": "",
            "description_tooltip": null,
            "layout": "IPY_MODEL_27c667e2a0aa473aae3105fcffb7e7d3",
            "placeholder": "​",
            "style": "IPY_MODEL_6b37bf683fa14d78bfb2e8af39b3fb3c",
            "value": "100%"
          }
        },
        "b82362bf77194aceb0ee4a708ff4fc90": {
          "model_module": "@jupyter-widgets/controls",
          "model_name": "FloatProgressModel",
          "model_module_version": "1.5.0",
          "state": {
            "_dom_classes": [],
            "_model_module": "@jupyter-widgets/controls",
            "_model_module_version": "1.5.0",
            "_model_name": "FloatProgressModel",
            "_view_count": null,
            "_view_module": "@jupyter-widgets/controls",
            "_view_module_version": "1.5.0",
            "_view_name": "ProgressView",
            "bar_style": "success",
            "description": "",
            "description_tooltip": null,
            "layout": "IPY_MODEL_733fa1764d5f4c03bc4379c2c3c47dbb",
            "max": 100000,
            "min": 0,
            "orientation": "horizontal",
            "style": "IPY_MODEL_37941afa18de40379f1d961e8263df73",
            "value": 100000
          }
        },
        "c6286c63cd9f4be38c1781a0bd1a2643": {
          "model_module": "@jupyter-widgets/controls",
          "model_name": "HTMLModel",
          "model_module_version": "1.5.0",
          "state": {
            "_dom_classes": [],
            "_model_module": "@jupyter-widgets/controls",
            "_model_module_version": "1.5.0",
            "_model_name": "HTMLModel",
            "_view_count": null,
            "_view_module": "@jupyter-widgets/controls",
            "_view_module_version": "1.5.0",
            "_view_name": "HTMLView",
            "description": "",
            "description_tooltip": null,
            "layout": "IPY_MODEL_1d382ef1f0c644aab29a9883b2648ca0",
            "placeholder": "​",
            "style": "IPY_MODEL_76bf13c75b8f43eeb6439463da0e17c5",
            "value": " 100000/100000 [00:00&lt;00:00, 134929.63it/s]"
          }
        },
        "2e6aa824a0bd4b8ba7e99c6f05c3459c": {
          "model_module": "@jupyter-widgets/base",
          "model_name": "LayoutModel",
          "model_module_version": "1.2.0",
          "state": {
            "_model_module": "@jupyter-widgets/base",
            "_model_module_version": "1.2.0",
            "_model_name": "LayoutModel",
            "_view_count": null,
            "_view_module": "@jupyter-widgets/base",
            "_view_module_version": "1.2.0",
            "_view_name": "LayoutView",
            "align_content": null,
            "align_items": null,
            "align_self": null,
            "border": null,
            "bottom": null,
            "display": null,
            "flex": null,
            "flex_flow": null,
            "grid_area": null,
            "grid_auto_columns": null,
            "grid_auto_flow": null,
            "grid_auto_rows": null,
            "grid_column": null,
            "grid_gap": null,
            "grid_row": null,
            "grid_template_areas": null,
            "grid_template_columns": null,
            "grid_template_rows": null,
            "height": null,
            "justify_content": null,
            "justify_items": null,
            "left": null,
            "margin": null,
            "max_height": null,
            "max_width": null,
            "min_height": null,
            "min_width": null,
            "object_fit": null,
            "object_position": null,
            "order": null,
            "overflow": null,
            "overflow_x": null,
            "overflow_y": null,
            "padding": null,
            "right": null,
            "top": null,
            "visibility": null,
            "width": null
          }
        },
        "27c667e2a0aa473aae3105fcffb7e7d3": {
          "model_module": "@jupyter-widgets/base",
          "model_name": "LayoutModel",
          "model_module_version": "1.2.0",
          "state": {
            "_model_module": "@jupyter-widgets/base",
            "_model_module_version": "1.2.0",
            "_model_name": "LayoutModel",
            "_view_count": null,
            "_view_module": "@jupyter-widgets/base",
            "_view_module_version": "1.2.0",
            "_view_name": "LayoutView",
            "align_content": null,
            "align_items": null,
            "align_self": null,
            "border": null,
            "bottom": null,
            "display": null,
            "flex": null,
            "flex_flow": null,
            "grid_area": null,
            "grid_auto_columns": null,
            "grid_auto_flow": null,
            "grid_auto_rows": null,
            "grid_column": null,
            "grid_gap": null,
            "grid_row": null,
            "grid_template_areas": null,
            "grid_template_columns": null,
            "grid_template_rows": null,
            "height": null,
            "justify_content": null,
            "justify_items": null,
            "left": null,
            "margin": null,
            "max_height": null,
            "max_width": null,
            "min_height": null,
            "min_width": null,
            "object_fit": null,
            "object_position": null,
            "order": null,
            "overflow": null,
            "overflow_x": null,
            "overflow_y": null,
            "padding": null,
            "right": null,
            "top": null,
            "visibility": null,
            "width": null
          }
        },
        "6b37bf683fa14d78bfb2e8af39b3fb3c": {
          "model_module": "@jupyter-widgets/controls",
          "model_name": "DescriptionStyleModel",
          "model_module_version": "1.5.0",
          "state": {
            "_model_module": "@jupyter-widgets/controls",
            "_model_module_version": "1.5.0",
            "_model_name": "DescriptionStyleModel",
            "_view_count": null,
            "_view_module": "@jupyter-widgets/base",
            "_view_module_version": "1.2.0",
            "_view_name": "StyleView",
            "description_width": ""
          }
        },
        "733fa1764d5f4c03bc4379c2c3c47dbb": {
          "model_module": "@jupyter-widgets/base",
          "model_name": "LayoutModel",
          "model_module_version": "1.2.0",
          "state": {
            "_model_module": "@jupyter-widgets/base",
            "_model_module_version": "1.2.0",
            "_model_name": "LayoutModel",
            "_view_count": null,
            "_view_module": "@jupyter-widgets/base",
            "_view_module_version": "1.2.0",
            "_view_name": "LayoutView",
            "align_content": null,
            "align_items": null,
            "align_self": null,
            "border": null,
            "bottom": null,
            "display": null,
            "flex": null,
            "flex_flow": null,
            "grid_area": null,
            "grid_auto_columns": null,
            "grid_auto_flow": null,
            "grid_auto_rows": null,
            "grid_column": null,
            "grid_gap": null,
            "grid_row": null,
            "grid_template_areas": null,
            "grid_template_columns": null,
            "grid_template_rows": null,
            "height": null,
            "justify_content": null,
            "justify_items": null,
            "left": null,
            "margin": null,
            "max_height": null,
            "max_width": null,
            "min_height": null,
            "min_width": null,
            "object_fit": null,
            "object_position": null,
            "order": null,
            "overflow": null,
            "overflow_x": null,
            "overflow_y": null,
            "padding": null,
            "right": null,
            "top": null,
            "visibility": null,
            "width": null
          }
        },
        "37941afa18de40379f1d961e8263df73": {
          "model_module": "@jupyter-widgets/controls",
          "model_name": "ProgressStyleModel",
          "model_module_version": "1.5.0",
          "state": {
            "_model_module": "@jupyter-widgets/controls",
            "_model_module_version": "1.5.0",
            "_model_name": "ProgressStyleModel",
            "_view_count": null,
            "_view_module": "@jupyter-widgets/base",
            "_view_module_version": "1.2.0",
            "_view_name": "StyleView",
            "bar_color": null,
            "description_width": ""
          }
        },
        "1d382ef1f0c644aab29a9883b2648ca0": {
          "model_module": "@jupyter-widgets/base",
          "model_name": "LayoutModel",
          "model_module_version": "1.2.0",
          "state": {
            "_model_module": "@jupyter-widgets/base",
            "_model_module_version": "1.2.0",
            "_model_name": "LayoutModel",
            "_view_count": null,
            "_view_module": "@jupyter-widgets/base",
            "_view_module_version": "1.2.0",
            "_view_name": "LayoutView",
            "align_content": null,
            "align_items": null,
            "align_self": null,
            "border": null,
            "bottom": null,
            "display": null,
            "flex": null,
            "flex_flow": null,
            "grid_area": null,
            "grid_auto_columns": null,
            "grid_auto_flow": null,
            "grid_auto_rows": null,
            "grid_column": null,
            "grid_gap": null,
            "grid_row": null,
            "grid_template_areas": null,
            "grid_template_columns": null,
            "grid_template_rows": null,
            "height": null,
            "justify_content": null,
            "justify_items": null,
            "left": null,
            "margin": null,
            "max_height": null,
            "max_width": null,
            "min_height": null,
            "min_width": null,
            "object_fit": null,
            "object_position": null,
            "order": null,
            "overflow": null,
            "overflow_x": null,
            "overflow_y": null,
            "padding": null,
            "right": null,
            "top": null,
            "visibility": null,
            "width": null
          }
        },
        "76bf13c75b8f43eeb6439463da0e17c5": {
          "model_module": "@jupyter-widgets/controls",
          "model_name": "DescriptionStyleModel",
          "model_module_version": "1.5.0",
          "state": {
            "_model_module": "@jupyter-widgets/controls",
            "_model_module_version": "1.5.0",
            "_model_name": "DescriptionStyleModel",
            "_view_count": null,
            "_view_module": "@jupyter-widgets/base",
            "_view_module_version": "1.2.0",
            "_view_name": "StyleView",
            "description_width": ""
          }
        },
        "ab4dbc26709f4aaca5e28d2b81dcad7a": {
          "model_module": "@jupyter-widgets/controls",
          "model_name": "HBoxModel",
          "model_module_version": "1.5.0",
          "state": {
            "_dom_classes": [],
            "_model_module": "@jupyter-widgets/controls",
            "_model_module_version": "1.5.0",
            "_model_name": "HBoxModel",
            "_view_count": null,
            "_view_module": "@jupyter-widgets/controls",
            "_view_module_version": "1.5.0",
            "_view_name": "HBoxView",
            "box_style": "",
            "children": [
              "IPY_MODEL_8eee0378e6ce4e78814ecdd286453311",
              "IPY_MODEL_2a81ac8fbe8b4d649a78349552a5cbb7",
              "IPY_MODEL_a77af1bf8e6f4464bd1cd723399ae2f9"
            ],
            "layout": "IPY_MODEL_d3446d80480d424a88dd4d2bf89c637c"
          }
        },
        "8eee0378e6ce4e78814ecdd286453311": {
          "model_module": "@jupyter-widgets/controls",
          "model_name": "HTMLModel",
          "model_module_version": "1.5.0",
          "state": {
            "_dom_classes": [],
            "_model_module": "@jupyter-widgets/controls",
            "_model_module_version": "1.5.0",
            "_model_name": "HTMLModel",
            "_view_count": null,
            "_view_module": "@jupyter-widgets/controls",
            "_view_module_version": "1.5.0",
            "_view_name": "HTMLView",
            "description": "",
            "description_tooltip": null,
            "layout": "IPY_MODEL_d0a836a5244d4ca79d856fdf3055a4b3",
            "placeholder": "​",
            "style": "IPY_MODEL_7cf5f66c7b2147b8add783c343bed6e6",
            "value": "100%"
          }
        },
        "2a81ac8fbe8b4d649a78349552a5cbb7": {
          "model_module": "@jupyter-widgets/controls",
          "model_name": "FloatProgressModel",
          "model_module_version": "1.5.0",
          "state": {
            "_dom_classes": [],
            "_model_module": "@jupyter-widgets/controls",
            "_model_module_version": "1.5.0",
            "_model_name": "FloatProgressModel",
            "_view_count": null,
            "_view_module": "@jupyter-widgets/controls",
            "_view_module_version": "1.5.0",
            "_view_name": "ProgressView",
            "bar_style": "success",
            "description": "",
            "description_tooltip": null,
            "layout": "IPY_MODEL_68f0ffe6654244ccaca38daeee5cec80",
            "max": 100000,
            "min": 0,
            "orientation": "horizontal",
            "style": "IPY_MODEL_4615c370d5ac43918c57191e96984674",
            "value": 100000
          }
        },
        "a77af1bf8e6f4464bd1cd723399ae2f9": {
          "model_module": "@jupyter-widgets/controls",
          "model_name": "HTMLModel",
          "model_module_version": "1.5.0",
          "state": {
            "_dom_classes": [],
            "_model_module": "@jupyter-widgets/controls",
            "_model_module_version": "1.5.0",
            "_model_name": "HTMLModel",
            "_view_count": null,
            "_view_module": "@jupyter-widgets/controls",
            "_view_module_version": "1.5.0",
            "_view_name": "HTMLView",
            "description": "",
            "description_tooltip": null,
            "layout": "IPY_MODEL_d8bdef3e8dca4307bd1716fa42ec3a48",
            "placeholder": "​",
            "style": "IPY_MODEL_b1230037555149bc81a0396e21c86de7",
            "value": " 100000/100000 [00:00&lt;00:00, 133574.94it/s]"
          }
        },
        "d3446d80480d424a88dd4d2bf89c637c": {
          "model_module": "@jupyter-widgets/base",
          "model_name": "LayoutModel",
          "model_module_version": "1.2.0",
          "state": {
            "_model_module": "@jupyter-widgets/base",
            "_model_module_version": "1.2.0",
            "_model_name": "LayoutModel",
            "_view_count": null,
            "_view_module": "@jupyter-widgets/base",
            "_view_module_version": "1.2.0",
            "_view_name": "LayoutView",
            "align_content": null,
            "align_items": null,
            "align_self": null,
            "border": null,
            "bottom": null,
            "display": null,
            "flex": null,
            "flex_flow": null,
            "grid_area": null,
            "grid_auto_columns": null,
            "grid_auto_flow": null,
            "grid_auto_rows": null,
            "grid_column": null,
            "grid_gap": null,
            "grid_row": null,
            "grid_template_areas": null,
            "grid_template_columns": null,
            "grid_template_rows": null,
            "height": null,
            "justify_content": null,
            "justify_items": null,
            "left": null,
            "margin": null,
            "max_height": null,
            "max_width": null,
            "min_height": null,
            "min_width": null,
            "object_fit": null,
            "object_position": null,
            "order": null,
            "overflow": null,
            "overflow_x": null,
            "overflow_y": null,
            "padding": null,
            "right": null,
            "top": null,
            "visibility": null,
            "width": null
          }
        },
        "d0a836a5244d4ca79d856fdf3055a4b3": {
          "model_module": "@jupyter-widgets/base",
          "model_name": "LayoutModel",
          "model_module_version": "1.2.0",
          "state": {
            "_model_module": "@jupyter-widgets/base",
            "_model_module_version": "1.2.0",
            "_model_name": "LayoutModel",
            "_view_count": null,
            "_view_module": "@jupyter-widgets/base",
            "_view_module_version": "1.2.0",
            "_view_name": "LayoutView",
            "align_content": null,
            "align_items": null,
            "align_self": null,
            "border": null,
            "bottom": null,
            "display": null,
            "flex": null,
            "flex_flow": null,
            "grid_area": null,
            "grid_auto_columns": null,
            "grid_auto_flow": null,
            "grid_auto_rows": null,
            "grid_column": null,
            "grid_gap": null,
            "grid_row": null,
            "grid_template_areas": null,
            "grid_template_columns": null,
            "grid_template_rows": null,
            "height": null,
            "justify_content": null,
            "justify_items": null,
            "left": null,
            "margin": null,
            "max_height": null,
            "max_width": null,
            "min_height": null,
            "min_width": null,
            "object_fit": null,
            "object_position": null,
            "order": null,
            "overflow": null,
            "overflow_x": null,
            "overflow_y": null,
            "padding": null,
            "right": null,
            "top": null,
            "visibility": null,
            "width": null
          }
        },
        "7cf5f66c7b2147b8add783c343bed6e6": {
          "model_module": "@jupyter-widgets/controls",
          "model_name": "DescriptionStyleModel",
          "model_module_version": "1.5.0",
          "state": {
            "_model_module": "@jupyter-widgets/controls",
            "_model_module_version": "1.5.0",
            "_model_name": "DescriptionStyleModel",
            "_view_count": null,
            "_view_module": "@jupyter-widgets/base",
            "_view_module_version": "1.2.0",
            "_view_name": "StyleView",
            "description_width": ""
          }
        },
        "68f0ffe6654244ccaca38daeee5cec80": {
          "model_module": "@jupyter-widgets/base",
          "model_name": "LayoutModel",
          "model_module_version": "1.2.0",
          "state": {
            "_model_module": "@jupyter-widgets/base",
            "_model_module_version": "1.2.0",
            "_model_name": "LayoutModel",
            "_view_count": null,
            "_view_module": "@jupyter-widgets/base",
            "_view_module_version": "1.2.0",
            "_view_name": "LayoutView",
            "align_content": null,
            "align_items": null,
            "align_self": null,
            "border": null,
            "bottom": null,
            "display": null,
            "flex": null,
            "flex_flow": null,
            "grid_area": null,
            "grid_auto_columns": null,
            "grid_auto_flow": null,
            "grid_auto_rows": null,
            "grid_column": null,
            "grid_gap": null,
            "grid_row": null,
            "grid_template_areas": null,
            "grid_template_columns": null,
            "grid_template_rows": null,
            "height": null,
            "justify_content": null,
            "justify_items": null,
            "left": null,
            "margin": null,
            "max_height": null,
            "max_width": null,
            "min_height": null,
            "min_width": null,
            "object_fit": null,
            "object_position": null,
            "order": null,
            "overflow": null,
            "overflow_x": null,
            "overflow_y": null,
            "padding": null,
            "right": null,
            "top": null,
            "visibility": null,
            "width": null
          }
        },
        "4615c370d5ac43918c57191e96984674": {
          "model_module": "@jupyter-widgets/controls",
          "model_name": "ProgressStyleModel",
          "model_module_version": "1.5.0",
          "state": {
            "_model_module": "@jupyter-widgets/controls",
            "_model_module_version": "1.5.0",
            "_model_name": "ProgressStyleModel",
            "_view_count": null,
            "_view_module": "@jupyter-widgets/base",
            "_view_module_version": "1.2.0",
            "_view_name": "StyleView",
            "bar_color": null,
            "description_width": ""
          }
        },
        "d8bdef3e8dca4307bd1716fa42ec3a48": {
          "model_module": "@jupyter-widgets/base",
          "model_name": "LayoutModel",
          "model_module_version": "1.2.0",
          "state": {
            "_model_module": "@jupyter-widgets/base",
            "_model_module_version": "1.2.0",
            "_model_name": "LayoutModel",
            "_view_count": null,
            "_view_module": "@jupyter-widgets/base",
            "_view_module_version": "1.2.0",
            "_view_name": "LayoutView",
            "align_content": null,
            "align_items": null,
            "align_self": null,
            "border": null,
            "bottom": null,
            "display": null,
            "flex": null,
            "flex_flow": null,
            "grid_area": null,
            "grid_auto_columns": null,
            "grid_auto_flow": null,
            "grid_auto_rows": null,
            "grid_column": null,
            "grid_gap": null,
            "grid_row": null,
            "grid_template_areas": null,
            "grid_template_columns": null,
            "grid_template_rows": null,
            "height": null,
            "justify_content": null,
            "justify_items": null,
            "left": null,
            "margin": null,
            "max_height": null,
            "max_width": null,
            "min_height": null,
            "min_width": null,
            "object_fit": null,
            "object_position": null,
            "order": null,
            "overflow": null,
            "overflow_x": null,
            "overflow_y": null,
            "padding": null,
            "right": null,
            "top": null,
            "visibility": null,
            "width": null
          }
        },
        "b1230037555149bc81a0396e21c86de7": {
          "model_module": "@jupyter-widgets/controls",
          "model_name": "DescriptionStyleModel",
          "model_module_version": "1.5.0",
          "state": {
            "_model_module": "@jupyter-widgets/controls",
            "_model_module_version": "1.5.0",
            "_model_name": "DescriptionStyleModel",
            "_view_count": null,
            "_view_module": "@jupyter-widgets/base",
            "_view_module_version": "1.2.0",
            "_view_name": "StyleView",
            "description_width": ""
          }
        },
        "99ad24fb522a45fb8aec077dffdccfa4": {
          "model_module": "@jupyter-widgets/controls",
          "model_name": "HBoxModel",
          "model_module_version": "1.5.0",
          "state": {
            "_dom_classes": [],
            "_model_module": "@jupyter-widgets/controls",
            "_model_module_version": "1.5.0",
            "_model_name": "HBoxModel",
            "_view_count": null,
            "_view_module": "@jupyter-widgets/controls",
            "_view_module_version": "1.5.0",
            "_view_name": "HBoxView",
            "box_style": "",
            "children": [
              "IPY_MODEL_8914629eaed242b392ac57f0880e3618",
              "IPY_MODEL_6dc32481b6ce4d729c5911be938f5961",
              "IPY_MODEL_41ce5d20ba024103ad5cb5da638276c1"
            ],
            "layout": "IPY_MODEL_97f6712a5c1f47acb8f751787b29e898"
          }
        },
        "8914629eaed242b392ac57f0880e3618": {
          "model_module": "@jupyter-widgets/controls",
          "model_name": "HTMLModel",
          "model_module_version": "1.5.0",
          "state": {
            "_dom_classes": [],
            "_model_module": "@jupyter-widgets/controls",
            "_model_module_version": "1.5.0",
            "_model_name": "HTMLModel",
            "_view_count": null,
            "_view_module": "@jupyter-widgets/controls",
            "_view_module_version": "1.5.0",
            "_view_name": "HTMLView",
            "description": "",
            "description_tooltip": null,
            "layout": "IPY_MODEL_6295bbb443f943148511a866c7d320ef",
            "placeholder": "​",
            "style": "IPY_MODEL_581255cdae75473fae19878e896c3305",
            "value": "100%"
          }
        },
        "6dc32481b6ce4d729c5911be938f5961": {
          "model_module": "@jupyter-widgets/controls",
          "model_name": "FloatProgressModel",
          "model_module_version": "1.5.0",
          "state": {
            "_dom_classes": [],
            "_model_module": "@jupyter-widgets/controls",
            "_model_module_version": "1.5.0",
            "_model_name": "FloatProgressModel",
            "_view_count": null,
            "_view_module": "@jupyter-widgets/controls",
            "_view_module_version": "1.5.0",
            "_view_name": "ProgressView",
            "bar_style": "success",
            "description": "",
            "description_tooltip": null,
            "layout": "IPY_MODEL_d5622c514f7441ca85e97ef0cdce73ba",
            "max": 100000,
            "min": 0,
            "orientation": "horizontal",
            "style": "IPY_MODEL_06b803cb89bd4185b8a315b5f6604f59",
            "value": 100000
          }
        },
        "41ce5d20ba024103ad5cb5da638276c1": {
          "model_module": "@jupyter-widgets/controls",
          "model_name": "HTMLModel",
          "model_module_version": "1.5.0",
          "state": {
            "_dom_classes": [],
            "_model_module": "@jupyter-widgets/controls",
            "_model_module_version": "1.5.0",
            "_model_name": "HTMLModel",
            "_view_count": null,
            "_view_module": "@jupyter-widgets/controls",
            "_view_module_version": "1.5.0",
            "_view_name": "HTMLView",
            "description": "",
            "description_tooltip": null,
            "layout": "IPY_MODEL_18b2c88b69484ec39872200524b7e1e7",
            "placeholder": "​",
            "style": "IPY_MODEL_cff2a686be2744ee80f5ee65926c4b7c",
            "value": " 100000/100000 [00:00&lt;00:00, 132085.91it/s]"
          }
        },
        "97f6712a5c1f47acb8f751787b29e898": {
          "model_module": "@jupyter-widgets/base",
          "model_name": "LayoutModel",
          "model_module_version": "1.2.0",
          "state": {
            "_model_module": "@jupyter-widgets/base",
            "_model_module_version": "1.2.0",
            "_model_name": "LayoutModel",
            "_view_count": null,
            "_view_module": "@jupyter-widgets/base",
            "_view_module_version": "1.2.0",
            "_view_name": "LayoutView",
            "align_content": null,
            "align_items": null,
            "align_self": null,
            "border": null,
            "bottom": null,
            "display": null,
            "flex": null,
            "flex_flow": null,
            "grid_area": null,
            "grid_auto_columns": null,
            "grid_auto_flow": null,
            "grid_auto_rows": null,
            "grid_column": null,
            "grid_gap": null,
            "grid_row": null,
            "grid_template_areas": null,
            "grid_template_columns": null,
            "grid_template_rows": null,
            "height": null,
            "justify_content": null,
            "justify_items": null,
            "left": null,
            "margin": null,
            "max_height": null,
            "max_width": null,
            "min_height": null,
            "min_width": null,
            "object_fit": null,
            "object_position": null,
            "order": null,
            "overflow": null,
            "overflow_x": null,
            "overflow_y": null,
            "padding": null,
            "right": null,
            "top": null,
            "visibility": null,
            "width": null
          }
        },
        "6295bbb443f943148511a866c7d320ef": {
          "model_module": "@jupyter-widgets/base",
          "model_name": "LayoutModel",
          "model_module_version": "1.2.0",
          "state": {
            "_model_module": "@jupyter-widgets/base",
            "_model_module_version": "1.2.0",
            "_model_name": "LayoutModel",
            "_view_count": null,
            "_view_module": "@jupyter-widgets/base",
            "_view_module_version": "1.2.0",
            "_view_name": "LayoutView",
            "align_content": null,
            "align_items": null,
            "align_self": null,
            "border": null,
            "bottom": null,
            "display": null,
            "flex": null,
            "flex_flow": null,
            "grid_area": null,
            "grid_auto_columns": null,
            "grid_auto_flow": null,
            "grid_auto_rows": null,
            "grid_column": null,
            "grid_gap": null,
            "grid_row": null,
            "grid_template_areas": null,
            "grid_template_columns": null,
            "grid_template_rows": null,
            "height": null,
            "justify_content": null,
            "justify_items": null,
            "left": null,
            "margin": null,
            "max_height": null,
            "max_width": null,
            "min_height": null,
            "min_width": null,
            "object_fit": null,
            "object_position": null,
            "order": null,
            "overflow": null,
            "overflow_x": null,
            "overflow_y": null,
            "padding": null,
            "right": null,
            "top": null,
            "visibility": null,
            "width": null
          }
        },
        "581255cdae75473fae19878e896c3305": {
          "model_module": "@jupyter-widgets/controls",
          "model_name": "DescriptionStyleModel",
          "model_module_version": "1.5.0",
          "state": {
            "_model_module": "@jupyter-widgets/controls",
            "_model_module_version": "1.5.0",
            "_model_name": "DescriptionStyleModel",
            "_view_count": null,
            "_view_module": "@jupyter-widgets/base",
            "_view_module_version": "1.2.0",
            "_view_name": "StyleView",
            "description_width": ""
          }
        },
        "d5622c514f7441ca85e97ef0cdce73ba": {
          "model_module": "@jupyter-widgets/base",
          "model_name": "LayoutModel",
          "model_module_version": "1.2.0",
          "state": {
            "_model_module": "@jupyter-widgets/base",
            "_model_module_version": "1.2.0",
            "_model_name": "LayoutModel",
            "_view_count": null,
            "_view_module": "@jupyter-widgets/base",
            "_view_module_version": "1.2.0",
            "_view_name": "LayoutView",
            "align_content": null,
            "align_items": null,
            "align_self": null,
            "border": null,
            "bottom": null,
            "display": null,
            "flex": null,
            "flex_flow": null,
            "grid_area": null,
            "grid_auto_columns": null,
            "grid_auto_flow": null,
            "grid_auto_rows": null,
            "grid_column": null,
            "grid_gap": null,
            "grid_row": null,
            "grid_template_areas": null,
            "grid_template_columns": null,
            "grid_template_rows": null,
            "height": null,
            "justify_content": null,
            "justify_items": null,
            "left": null,
            "margin": null,
            "max_height": null,
            "max_width": null,
            "min_height": null,
            "min_width": null,
            "object_fit": null,
            "object_position": null,
            "order": null,
            "overflow": null,
            "overflow_x": null,
            "overflow_y": null,
            "padding": null,
            "right": null,
            "top": null,
            "visibility": null,
            "width": null
          }
        },
        "06b803cb89bd4185b8a315b5f6604f59": {
          "model_module": "@jupyter-widgets/controls",
          "model_name": "ProgressStyleModel",
          "model_module_version": "1.5.0",
          "state": {
            "_model_module": "@jupyter-widgets/controls",
            "_model_module_version": "1.5.0",
            "_model_name": "ProgressStyleModel",
            "_view_count": null,
            "_view_module": "@jupyter-widgets/base",
            "_view_module_version": "1.2.0",
            "_view_name": "StyleView",
            "bar_color": null,
            "description_width": ""
          }
        },
        "18b2c88b69484ec39872200524b7e1e7": {
          "model_module": "@jupyter-widgets/base",
          "model_name": "LayoutModel",
          "model_module_version": "1.2.0",
          "state": {
            "_model_module": "@jupyter-widgets/base",
            "_model_module_version": "1.2.0",
            "_model_name": "LayoutModel",
            "_view_count": null,
            "_view_module": "@jupyter-widgets/base",
            "_view_module_version": "1.2.0",
            "_view_name": "LayoutView",
            "align_content": null,
            "align_items": null,
            "align_self": null,
            "border": null,
            "bottom": null,
            "display": null,
            "flex": null,
            "flex_flow": null,
            "grid_area": null,
            "grid_auto_columns": null,
            "grid_auto_flow": null,
            "grid_auto_rows": null,
            "grid_column": null,
            "grid_gap": null,
            "grid_row": null,
            "grid_template_areas": null,
            "grid_template_columns": null,
            "grid_template_rows": null,
            "height": null,
            "justify_content": null,
            "justify_items": null,
            "left": null,
            "margin": null,
            "max_height": null,
            "max_width": null,
            "min_height": null,
            "min_width": null,
            "object_fit": null,
            "object_position": null,
            "order": null,
            "overflow": null,
            "overflow_x": null,
            "overflow_y": null,
            "padding": null,
            "right": null,
            "top": null,
            "visibility": null,
            "width": null
          }
        },
        "cff2a686be2744ee80f5ee65926c4b7c": {
          "model_module": "@jupyter-widgets/controls",
          "model_name": "DescriptionStyleModel",
          "model_module_version": "1.5.0",
          "state": {
            "_model_module": "@jupyter-widgets/controls",
            "_model_module_version": "1.5.0",
            "_model_name": "DescriptionStyleModel",
            "_view_count": null,
            "_view_module": "@jupyter-widgets/base",
            "_view_module_version": "1.2.0",
            "_view_name": "StyleView",
            "description_width": ""
          }
        },
        "89bba591c1ea42f9b3aabf74669bd281": {
          "model_module": "@jupyter-widgets/controls",
          "model_name": "HBoxModel",
          "model_module_version": "1.5.0",
          "state": {
            "_dom_classes": [],
            "_model_module": "@jupyter-widgets/controls",
            "_model_module_version": "1.5.0",
            "_model_name": "HBoxModel",
            "_view_count": null,
            "_view_module": "@jupyter-widgets/controls",
            "_view_module_version": "1.5.0",
            "_view_name": "HBoxView",
            "box_style": "",
            "children": [
              "IPY_MODEL_4d9d23d721c7425a938ab17faa02a025",
              "IPY_MODEL_40bae92f305d492ab0b85ad54a86dd31",
              "IPY_MODEL_93965167968d4af5bee7472ea8646051"
            ],
            "layout": "IPY_MODEL_87ec7b09246e416dbb79db2753da7f5b"
          }
        },
        "4d9d23d721c7425a938ab17faa02a025": {
          "model_module": "@jupyter-widgets/controls",
          "model_name": "HTMLModel",
          "model_module_version": "1.5.0",
          "state": {
            "_dom_classes": [],
            "_model_module": "@jupyter-widgets/controls",
            "_model_module_version": "1.5.0",
            "_model_name": "HTMLModel",
            "_view_count": null,
            "_view_module": "@jupyter-widgets/controls",
            "_view_module_version": "1.5.0",
            "_view_name": "HTMLView",
            "description": "",
            "description_tooltip": null,
            "layout": "IPY_MODEL_bf81e14cdba4482a91d053cbac88d01f",
            "placeholder": "​",
            "style": "IPY_MODEL_ac519ca725974238be6a6305678c8a9c",
            "value": "100%"
          }
        },
        "40bae92f305d492ab0b85ad54a86dd31": {
          "model_module": "@jupyter-widgets/controls",
          "model_name": "FloatProgressModel",
          "model_module_version": "1.5.0",
          "state": {
            "_dom_classes": [],
            "_model_module": "@jupyter-widgets/controls",
            "_model_module_version": "1.5.0",
            "_model_name": "FloatProgressModel",
            "_view_count": null,
            "_view_module": "@jupyter-widgets/controls",
            "_view_module_version": "1.5.0",
            "_view_name": "ProgressView",
            "bar_style": "success",
            "description": "",
            "description_tooltip": null,
            "layout": "IPY_MODEL_e7dfee42923e4dbda2c6ffe4026695f0",
            "max": 100000,
            "min": 0,
            "orientation": "horizontal",
            "style": "IPY_MODEL_d133d0380aef47a88b35d0f8c40bddc9",
            "value": 100000
          }
        },
        "93965167968d4af5bee7472ea8646051": {
          "model_module": "@jupyter-widgets/controls",
          "model_name": "HTMLModel",
          "model_module_version": "1.5.0",
          "state": {
            "_dom_classes": [],
            "_model_module": "@jupyter-widgets/controls",
            "_model_module_version": "1.5.0",
            "_model_name": "HTMLModel",
            "_view_count": null,
            "_view_module": "@jupyter-widgets/controls",
            "_view_module_version": "1.5.0",
            "_view_name": "HTMLView",
            "description": "",
            "description_tooltip": null,
            "layout": "IPY_MODEL_cb148e078ef6455e9d47ebf2c2d1452f",
            "placeholder": "​",
            "style": "IPY_MODEL_41a5edbd476c49c7864bd1cf126f4ba5",
            "value": " 100000/100000 [00:00&lt;00:00, 131774.99it/s]"
          }
        },
        "87ec7b09246e416dbb79db2753da7f5b": {
          "model_module": "@jupyter-widgets/base",
          "model_name": "LayoutModel",
          "model_module_version": "1.2.0",
          "state": {
            "_model_module": "@jupyter-widgets/base",
            "_model_module_version": "1.2.0",
            "_model_name": "LayoutModel",
            "_view_count": null,
            "_view_module": "@jupyter-widgets/base",
            "_view_module_version": "1.2.0",
            "_view_name": "LayoutView",
            "align_content": null,
            "align_items": null,
            "align_self": null,
            "border": null,
            "bottom": null,
            "display": null,
            "flex": null,
            "flex_flow": null,
            "grid_area": null,
            "grid_auto_columns": null,
            "grid_auto_flow": null,
            "grid_auto_rows": null,
            "grid_column": null,
            "grid_gap": null,
            "grid_row": null,
            "grid_template_areas": null,
            "grid_template_columns": null,
            "grid_template_rows": null,
            "height": null,
            "justify_content": null,
            "justify_items": null,
            "left": null,
            "margin": null,
            "max_height": null,
            "max_width": null,
            "min_height": null,
            "min_width": null,
            "object_fit": null,
            "object_position": null,
            "order": null,
            "overflow": null,
            "overflow_x": null,
            "overflow_y": null,
            "padding": null,
            "right": null,
            "top": null,
            "visibility": null,
            "width": null
          }
        },
        "bf81e14cdba4482a91d053cbac88d01f": {
          "model_module": "@jupyter-widgets/base",
          "model_name": "LayoutModel",
          "model_module_version": "1.2.0",
          "state": {
            "_model_module": "@jupyter-widgets/base",
            "_model_module_version": "1.2.0",
            "_model_name": "LayoutModel",
            "_view_count": null,
            "_view_module": "@jupyter-widgets/base",
            "_view_module_version": "1.2.0",
            "_view_name": "LayoutView",
            "align_content": null,
            "align_items": null,
            "align_self": null,
            "border": null,
            "bottom": null,
            "display": null,
            "flex": null,
            "flex_flow": null,
            "grid_area": null,
            "grid_auto_columns": null,
            "grid_auto_flow": null,
            "grid_auto_rows": null,
            "grid_column": null,
            "grid_gap": null,
            "grid_row": null,
            "grid_template_areas": null,
            "grid_template_columns": null,
            "grid_template_rows": null,
            "height": null,
            "justify_content": null,
            "justify_items": null,
            "left": null,
            "margin": null,
            "max_height": null,
            "max_width": null,
            "min_height": null,
            "min_width": null,
            "object_fit": null,
            "object_position": null,
            "order": null,
            "overflow": null,
            "overflow_x": null,
            "overflow_y": null,
            "padding": null,
            "right": null,
            "top": null,
            "visibility": null,
            "width": null
          }
        },
        "ac519ca725974238be6a6305678c8a9c": {
          "model_module": "@jupyter-widgets/controls",
          "model_name": "DescriptionStyleModel",
          "model_module_version": "1.5.0",
          "state": {
            "_model_module": "@jupyter-widgets/controls",
            "_model_module_version": "1.5.0",
            "_model_name": "DescriptionStyleModel",
            "_view_count": null,
            "_view_module": "@jupyter-widgets/base",
            "_view_module_version": "1.2.0",
            "_view_name": "StyleView",
            "description_width": ""
          }
        },
        "e7dfee42923e4dbda2c6ffe4026695f0": {
          "model_module": "@jupyter-widgets/base",
          "model_name": "LayoutModel",
          "model_module_version": "1.2.0",
          "state": {
            "_model_module": "@jupyter-widgets/base",
            "_model_module_version": "1.2.0",
            "_model_name": "LayoutModel",
            "_view_count": null,
            "_view_module": "@jupyter-widgets/base",
            "_view_module_version": "1.2.0",
            "_view_name": "LayoutView",
            "align_content": null,
            "align_items": null,
            "align_self": null,
            "border": null,
            "bottom": null,
            "display": null,
            "flex": null,
            "flex_flow": null,
            "grid_area": null,
            "grid_auto_columns": null,
            "grid_auto_flow": null,
            "grid_auto_rows": null,
            "grid_column": null,
            "grid_gap": null,
            "grid_row": null,
            "grid_template_areas": null,
            "grid_template_columns": null,
            "grid_template_rows": null,
            "height": null,
            "justify_content": null,
            "justify_items": null,
            "left": null,
            "margin": null,
            "max_height": null,
            "max_width": null,
            "min_height": null,
            "min_width": null,
            "object_fit": null,
            "object_position": null,
            "order": null,
            "overflow": null,
            "overflow_x": null,
            "overflow_y": null,
            "padding": null,
            "right": null,
            "top": null,
            "visibility": null,
            "width": null
          }
        },
        "d133d0380aef47a88b35d0f8c40bddc9": {
          "model_module": "@jupyter-widgets/controls",
          "model_name": "ProgressStyleModel",
          "model_module_version": "1.5.0",
          "state": {
            "_model_module": "@jupyter-widgets/controls",
            "_model_module_version": "1.5.0",
            "_model_name": "ProgressStyleModel",
            "_view_count": null,
            "_view_module": "@jupyter-widgets/base",
            "_view_module_version": "1.2.0",
            "_view_name": "StyleView",
            "bar_color": null,
            "description_width": ""
          }
        },
        "cb148e078ef6455e9d47ebf2c2d1452f": {
          "model_module": "@jupyter-widgets/base",
          "model_name": "LayoutModel",
          "model_module_version": "1.2.0",
          "state": {
            "_model_module": "@jupyter-widgets/base",
            "_model_module_version": "1.2.0",
            "_model_name": "LayoutModel",
            "_view_count": null,
            "_view_module": "@jupyter-widgets/base",
            "_view_module_version": "1.2.0",
            "_view_name": "LayoutView",
            "align_content": null,
            "align_items": null,
            "align_self": null,
            "border": null,
            "bottom": null,
            "display": null,
            "flex": null,
            "flex_flow": null,
            "grid_area": null,
            "grid_auto_columns": null,
            "grid_auto_flow": null,
            "grid_auto_rows": null,
            "grid_column": null,
            "grid_gap": null,
            "grid_row": null,
            "grid_template_areas": null,
            "grid_template_columns": null,
            "grid_template_rows": null,
            "height": null,
            "justify_content": null,
            "justify_items": null,
            "left": null,
            "margin": null,
            "max_height": null,
            "max_width": null,
            "min_height": null,
            "min_width": null,
            "object_fit": null,
            "object_position": null,
            "order": null,
            "overflow": null,
            "overflow_x": null,
            "overflow_y": null,
            "padding": null,
            "right": null,
            "top": null,
            "visibility": null,
            "width": null
          }
        },
        "41a5edbd476c49c7864bd1cf126f4ba5": {
          "model_module": "@jupyter-widgets/controls",
          "model_name": "DescriptionStyleModel",
          "model_module_version": "1.5.0",
          "state": {
            "_model_module": "@jupyter-widgets/controls",
            "_model_module_version": "1.5.0",
            "_model_name": "DescriptionStyleModel",
            "_view_count": null,
            "_view_module": "@jupyter-widgets/base",
            "_view_module_version": "1.2.0",
            "_view_name": "StyleView",
            "description_width": ""
          }
        }
      }
    }
  },
  "cells": [
    {
      "cell_type": "markdown",
      "metadata": {
        "id": "view-in-github",
        "colab_type": "text"
      },
      "source": [
        "<a href=\"https://colab.research.google.com/github/Playmen998/Probability_problems_bootstrap/blob/main/Probability_problems_bootstrap.ipynb\" target=\"_parent\"><img src=\"https://colab.research.google.com/assets/colab-badge.svg\" alt=\"Open In Colab\"/></a>"
      ]
    },
    {
      "cell_type": "markdown",
      "source": [
        "# Введение"
      ],
      "metadata": {
        "id": "7I7uxH2YzDVO"
      }
    },
    {
      "cell_type": "markdown",
      "source": [
        "В данном ноутбуке решены задачи на теорию вероятности методом bootstrap. Задачи брались из ЕГЭ на сайте https://math-ege.sdamgia.ru/test?theme=185 и из других источниках"
      ],
      "metadata": {
        "id": "bRV_mh-SzXuu"
      }
    },
    {
      "cell_type": "markdown",
      "source": [
        "# Задача 1"
      ],
      "metadata": {
        "id": "hhMpe386zkcH"
      }
    },
    {
      "cell_type": "markdown",
      "source": [
        "Какова вероятность того, что случайно выбранный телефонный номер оканчивается двумя чётными цифрами?  \n",
        "https://math-ege.sdamgia.ru/problem?id=509352"
      ],
      "metadata": {
        "id": "7yr2bKW6vYqX"
      }
    },
    {
      "cell_type": "code",
      "execution_count": 2,
      "metadata": {
        "id": "0Bil7c38u7Dy"
      },
      "outputs": [],
      "source": [
        "import pandas as pd\n",
        "import numpy as np"
      ]
    },
    {
      "cell_type": "code",
      "source": [
        "from tqdm.notebook import tqdm"
      ],
      "metadata": {
        "id": "ZMZldFnguose"
      },
      "execution_count": 3,
      "outputs": []
    },
    {
      "cell_type": "code",
      "source": [
        "from random import shuffle"
      ],
      "metadata": {
        "id": "95BeHdRL3I30"
      },
      "execution_count": 90,
      "outputs": []
    },
    {
      "cell_type": "code",
      "source": [
        "import matplotlib.pyplot as plt\n",
        "plt.style.use('dark_background')"
      ],
      "metadata": {
        "id": "Yq2zjVFNv-1X"
      },
      "execution_count": 4,
      "outputs": []
    },
    {
      "cell_type": "code",
      "source": [
        "number = [0,1,2,3,4,5,6,7,8,9]"
      ],
      "metadata": {
        "id": "CBFf6DSMwPJe"
      },
      "execution_count": null,
      "outputs": []
    },
    {
      "cell_type": "code",
      "source": [
        "nums = pd.Series(number).sample(2,replace = True).values"
      ],
      "metadata": {
        "id": "fqGs004gxfBw"
      },
      "execution_count": null,
      "outputs": []
    },
    {
      "cell_type": "code",
      "source": [
        "result = []\n",
        "for _ in range(100000):\n",
        "  nums = pd.Series(number).sample(2,replace = True).values\n",
        "  if (nums[0] % 2 == 0) and (nums[1] % 2 == 0):\n",
        "    result.append(1)\n",
        "  else:\n",
        "    result.append(0)"
      ],
      "metadata": {
        "id": "VYTyTjG7v_0e"
      },
      "execution_count": null,
      "outputs": []
    },
    {
      "cell_type": "code",
      "source": [
        "np.mean(result)"
      ],
      "metadata": {
        "colab": {
          "base_uri": "https://localhost:8080/"
        },
        "id": "pNSoSBQ9xo8J",
        "outputId": "adfa501f-6cbc-40e0-a0b3-da3f5fb85a1f"
      },
      "execution_count": null,
      "outputs": [
        {
          "output_type": "execute_result",
          "data": {
            "text/plain": [
              "0.25087"
            ]
          },
          "metadata": {},
          "execution_count": 106
        }
      ]
    },
    {
      "cell_type": "markdown",
      "source": [
        "Вероятность того, что телефонный номер оканчивается двумя чётными цифрами = 0.25"
      ],
      "metadata": {
        "id": "Itrwm2GU3xCj"
      }
    },
    {
      "cell_type": "markdown",
      "source": [
        "# Задача 2"
      ],
      "metadata": {
        "id": "SNO_ulqDzuy0"
      }
    },
    {
      "cell_type": "markdown",
      "source": [
        "Если шахматист А. играет белыми фигурами, то он выигрывает у шахматиста Б. с вероятностью 0,52. Если А. играет черными, то А. выигрывает у Б. с вероятностью 0,3. Шахматисты А. и Б. играют две партии, причём во второй партии меняют цвет фигур. Найдите вероятность того, что А. выиграет оба раза.  \n",
        "https://math-ege.sdamgia.ru/problem?id=319355"
      ],
      "metadata": {
        "id": "WM1aWWbA0Q5c"
      }
    },
    {
      "cell_type": "code",
      "source": [
        "result = []\n",
        "for _ in range(1000000):\n",
        "  one_game = np.random.binomial(1,0.52)\n",
        "  two_game = np.random.binomial(1,0.3)\n",
        "  result.append(one_game+two_game)"
      ],
      "metadata": {
        "id": "GpBWchrN0wzc"
      },
      "execution_count": null,
      "outputs": []
    },
    {
      "cell_type": "code",
      "source": [
        "pd.Series(result).value_counts(normalize=True)"
      ],
      "metadata": {
        "colab": {
          "base_uri": "https://localhost:8080/"
        },
        "id": "ijA8y7FE1MQk",
        "outputId": "5485b995-4efe-43d3-84e7-7ad53d3d1332"
      },
      "execution_count": null,
      "outputs": [
        {
          "output_type": "execute_result",
          "data": {
            "text/plain": [
              "1    0.507993\n",
              "0    0.335857\n",
              "2    0.156150\n",
              "dtype: float64"
            ]
          },
          "metadata": {},
          "execution_count": 112
        }
      ]
    },
    {
      "cell_type": "markdown",
      "source": [
        "Вероятность выйграша шахматиста А в двух партиях равна 0.156"
      ],
      "metadata": {
        "id": "862egRK137b6"
      }
    },
    {
      "cell_type": "markdown",
      "source": [
        "# Задача 3"
      ],
      "metadata": {
        "id": "q0cufpxJ4KBj"
      }
    },
    {
      "cell_type": "markdown",
      "source": [
        "Вероятность того, что батарейка бракованная, равна 0,06. Покупатель в магазине выбирает случайную упаковку, в которой две таких батарейки. Найдите вероятность того, что обе батарейки окажутся исправными.  \n",
        "https://math-ege.sdamgia.ru/problem?id=320210"
      ],
      "metadata": {
        "id": "Gj1vuYpN4L56"
      }
    },
    {
      "cell_type": "code",
      "source": [
        "result = []\n",
        "for _ in tqdm(range(1000000)):\n",
        "  one_reject = np.random.binomial(1,0.06)\n",
        "  two_reject = np.random.binomial(1,0.06)\n",
        "  result.append(one_reject+two_reject)"
      ],
      "metadata": {
        "colab": {
          "base_uri": "https://localhost:8080/",
          "height": 49,
          "referenced_widgets": [
            "c895e3bc438b47d292df4bec7442045a",
            "648d9ad6e07c42a38712b7b0490c1890",
            "0b0038edc6c34b959e699ed8a94b54b3",
            "0d470712f42c4a3fa0ac12d758621dc8",
            "d7fc528d911943ecb8fab9fe34cf0083",
            "932c0b6b1e26415a92f569bf26bdac20",
            "8a4a481889974318bf0449ca33fff38b",
            "d5938f00c4744907b7017b789f0610e6",
            "cb68f2cfbbe641d2b8041f7654c33c48",
            "7eac1b975d2b41e3a9a9e544cd5fa332",
            "d3a5f9b3cb174e538f02134a2861742a"
          ]
        },
        "id": "tWily7tV487r",
        "outputId": "966b9ec0-13c6-4898-fffd-cc9f05e4b7f3"
      },
      "execution_count": null,
      "outputs": [
        {
          "output_type": "display_data",
          "data": {
            "text/plain": [
              "  0%|          | 0/1000000 [00:00<?, ?it/s]"
            ],
            "application/vnd.jupyter.widget-view+json": {
              "version_major": 2,
              "version_minor": 0,
              "model_id": "c895e3bc438b47d292df4bec7442045a"
            }
          },
          "metadata": {}
        }
      ]
    },
    {
      "cell_type": "code",
      "source": [
        "pd.Series(result).value_counts(normalize=True)"
      ],
      "metadata": {
        "colab": {
          "base_uri": "https://localhost:8080/"
        },
        "id": "UX47k5Su5Eax",
        "outputId": "c7ebec4e-bc53-4bd5-9380-a9be33212900"
      },
      "execution_count": null,
      "outputs": [
        {
          "output_type": "execute_result",
          "data": {
            "text/plain": [
              "0    0.883554\n",
              "1    0.112862\n",
              "2    0.003584\n",
              "dtype: float64"
            ]
          },
          "metadata": {},
          "execution_count": 127
        }
      ]
    },
    {
      "cell_type": "markdown",
      "source": [
        "Вероятность того, что обе батарейки исправные = 0.883  \n",
        "Для того чтобы получить более точный результат необходимо увеличить выборку"
      ],
      "metadata": {
        "id": "_yEMjrnU5UYK"
      }
    },
    {
      "cell_type": "markdown",
      "source": [
        "# Задача 4"
      ],
      "metadata": {
        "id": "0KqUHshtpg1Z"
      }
    },
    {
      "cell_type": "markdown",
      "source": [
        "Биатлонист пять раз стреляет по мишеням. Вероятность попадания в мишень при одном выстреле равна 0,8. Найдите вероятность того, что биатлонист первые три раза попал в мишени, а последние два промахнулся. Результат округлите до сотых.  \n",
        "https://math-ege.sdamgia.ru/problem?id=320173 "
      ],
      "metadata": {
        "id": "kzy9TKHsqFTQ"
      }
    },
    {
      "cell_type": "code",
      "source": [
        "result = []\n",
        "for _ in tqdm(range(500000)):\n",
        "  result.append(str(np.random.binomial(1,0.8,size=5)))"
      ],
      "metadata": {
        "colab": {
          "base_uri": "https://localhost:8080/",
          "height": 49,
          "referenced_widgets": [
            "6d928d6ff332457fb962bccab3f64fca",
            "a479196327ac468ca424ffe6f003e9da",
            "1d2efcbd9efc49b792331b6564a4595a",
            "2087b7aea7204b0d852d6f908757bf15",
            "a08f6bf02d894d6c97787c6ccac4212c",
            "885fa2ecff5c46c18f4223df318037ae",
            "e5a6c9a3e8384120a00bee352b8e5bf7",
            "76faf6330e1f428cae750e0a193e9f51",
            "a6f6b37a147a4268a7db66ce1f07e183",
            "22e7f166dfe949fdabcb88d9a5b6e4f9",
            "44ea9e23f9ef4cee8444f23fe675ba68"
          ]
        },
        "id": "r0yGSgcg08B5",
        "outputId": "73b4f90a-f8f3-4bb0-cefb-e734843436cc"
      },
      "execution_count": null,
      "outputs": [
        {
          "output_type": "display_data",
          "data": {
            "text/plain": [
              "  0%|          | 0/500000 [00:00<?, ?it/s]"
            ],
            "application/vnd.jupyter.widget-view+json": {
              "version_major": 2,
              "version_minor": 0,
              "model_id": "6d928d6ff332457fb962bccab3f64fca"
            }
          },
          "metadata": {}
        }
      ]
    },
    {
      "cell_type": "code",
      "source": [
        "pd.Series(result).value_counts(normalize=True)"
      ],
      "metadata": {
        "colab": {
          "base_uri": "https://localhost:8080/"
        },
        "id": "3A_wmVOT17Lt",
        "outputId": "01e82de6-f0d3-4b9a-9303-734efc27815a"
      },
      "execution_count": null,
      "outputs": [
        {
          "output_type": "execute_result",
          "data": {
            "text/plain": [
              "[1 1 1 1 1]    0.327494\n",
              "[0 1 1 1 1]    0.082316\n",
              "[1 1 1 1 0]    0.082122\n",
              "[1 0 1 1 1]    0.081992\n",
              "[1 1 1 0 1]    0.081814\n",
              "[1 1 0 1 1]    0.081684\n",
              "[1 1 1 0 0]    0.020560\n",
              "[1 0 1 1 0]    0.020558\n",
              "[0 0 1 1 1]    0.020452\n",
              "[1 1 0 1 0]    0.020408\n",
              "[1 1 0 0 1]    0.020406\n",
              "[1 0 1 0 1]    0.020394\n",
              "[1 0 0 1 1]    0.020376\n",
              "[0 1 1 0 1]    0.020366\n",
              "[0 1 0 1 1]    0.020280\n",
              "[0 1 1 1 0]    0.020106\n",
              "[1 0 0 0 1]    0.005238\n",
              "[0 0 0 1 1]    0.005226\n",
              "[1 1 0 0 0]    0.005190\n",
              "[0 0 1 0 1]    0.005184\n",
              "[0 1 1 0 0]    0.005166\n",
              "[1 0 0 1 0]    0.005150\n",
              "[0 1 0 0 1]    0.005132\n",
              "[1 0 1 0 0]    0.005128\n",
              "[0 1 0 1 0]    0.005082\n",
              "[0 0 1 1 0]    0.005022\n",
              "[0 0 1 0 0]    0.001418\n",
              "[1 0 0 0 0]    0.001386\n",
              "[0 0 0 1 0]    0.001348\n",
              "[0 0 0 0 1]    0.001340\n",
              "[0 1 0 0 0]    0.001328\n",
              "[0 0 0 0 0]    0.000334\n",
              "dtype: float64"
            ]
          },
          "metadata": {},
          "execution_count": 153
        }
      ]
    },
    {
      "cell_type": "code",
      "source": [
        "pd.Series(result).value_counts(normalize=True)['[1 1 1 0 0]']"
      ],
      "metadata": {
        "colab": {
          "base_uri": "https://localhost:8080/"
        },
        "id": "ETS3MvpAveRl",
        "outputId": "2321c881-5686-452e-dea9-132734f194db"
      },
      "execution_count": null,
      "outputs": [
        {
          "output_type": "execute_result",
          "data": {
            "text/plain": [
              "0.02056"
            ]
          },
          "metadata": {},
          "execution_count": 154
        }
      ]
    },
    {
      "cell_type": "markdown",
      "source": [
        "Вероятность того, что биатлонист попадет 3 разя подряд, а потом 2 раза промахнется по мишени, составляет 0.2 "
      ],
      "metadata": {
        "id": "z2gPD_Njz_Vr"
      }
    },
    {
      "cell_type": "markdown",
      "source": [
        "# Задача 5"
      ],
      "metadata": {
        "id": "fsGBEcJAYzFr"
      }
    },
    {
      "cell_type": "markdown",
      "source": [
        "В магазине три продавца. Каждый из них занят с клиентом с вероятностью 0,3. Найдите вероятность того, что в случайный момент времени все три продавца заняты одновременно (считайте, что клиенты заходят независимо друг от друга).  \n",
        "https://math-ege.sdamgia.ru/problem?id=320201"
      ],
      "metadata": {
        "id": "I7RYgC2qY3tS"
      }
    },
    {
      "cell_type": "code",
      "source": [
        "result = []\n",
        "for _ in range(10000):\n",
        "  result.append(str(np.random.binomial(1,0.3,size=3)))"
      ],
      "metadata": {
        "id": "eJ6eIhRnY6OL"
      },
      "execution_count": null,
      "outputs": []
    },
    {
      "cell_type": "code",
      "source": [
        "pd.Series(result).value_counts(normalize=True)"
      ],
      "metadata": {
        "colab": {
          "base_uri": "https://localhost:8080/"
        },
        "id": "UtbbI8SRZLaL",
        "outputId": "05b536aa-cba6-46d6-91b0-938bde7a22aa"
      },
      "execution_count": null,
      "outputs": [
        {
          "output_type": "execute_result",
          "data": {
            "text/plain": [
              "[0 0 0]    0.3409\n",
              "[0 0 1]    0.1487\n",
              "[0 1 0]    0.1468\n",
              "[1 0 0]    0.1423\n",
              "[0 1 1]    0.0667\n",
              "[1 0 1]    0.0642\n",
              "[1 1 0]    0.0633\n",
              "[1 1 1]    0.0271\n",
              "dtype: float64"
            ]
          },
          "metadata": {},
          "execution_count": 5
        }
      ]
    },
    {
      "cell_type": "markdown",
      "source": [
        "Вероятность, того что сразу 3 продавца будут заняты, равна 0.027"
      ],
      "metadata": {
        "id": "nb9wMrwvZicS"
      }
    },
    {
      "cell_type": "markdown",
      "source": [
        "# Задача 6"
      ],
      "metadata": {
        "id": "vVsrAzzYrauo"
      }
    },
    {
      "cell_type": "markdown",
      "source": [
        "Ковбой Джон попадает в муху на стене с вероятностью 0,9, если стреляет из пристрелянного револьвера. Если Джон стреляет из непристрелянного револьвера, то он попадает в муху с вероятностью 0,2. На столе лежит 10 револьверов, из них только 4 пристрелянные. Ковбой Джон видит на стене муху, наудачу хватает первый попавшийся револьвер и стреляет в муху. Найдите вероятность того, что Джон промахнётся.  \n",
        "https://math-ege.sdamgia.ru/problem?id=320180"
      ],
      "metadata": {
        "id": "3B4QqqlRrdC3"
      }
    },
    {
      "cell_type": "code",
      "source": [
        "result = []\n",
        "for _ in range(1000000):  \n",
        "  sum_gun = [np.random.binomial(1,0.2) for _ in range(6)] + [np.random.binomial(1,0.9) for _ in range(4)]\n",
        "  shuffle(sum_gun)\n",
        "  result.append(sum_gun[0])"
      ],
      "metadata": {
        "id": "GK5er1dXAb64"
      },
      "execution_count": null,
      "outputs": []
    },
    {
      "cell_type": "code",
      "source": [
        "pd.Series(result).value_counts(normalize=True)"
      ],
      "metadata": {
        "colab": {
          "base_uri": "https://localhost:8080/"
        },
        "id": "ztJh57G3CNKR",
        "outputId": "ff44a07e-8c78-4589-dc6f-c84183aa7177"
      },
      "execution_count": null,
      "outputs": [
        {
          "output_type": "execute_result",
          "data": {
            "text/plain": [
              "0    520020\n",
              "1    479980\n",
              "dtype: int64"
            ]
          },
          "metadata": {},
          "execution_count": 31
        }
      ]
    },
    {
      "cell_type": "markdown",
      "source": [
        "Вероятность **не** попадание ковбоем в муху равна 0.52"
      ],
      "metadata": {
        "id": "XopEYKLpDe7H"
      }
    },
    {
      "cell_type": "markdown",
      "source": [
        "# Задача 7"
      ],
      "metadata": {
        "id": "WBYujt4gEDV1"
      }
    },
    {
      "cell_type": "markdown",
      "source": [
        "Две фабрики выпускают одинаковые стекла для автомобильных фар. Первая фабрика выпускает 45% этих стекол, вторая — 55%. Первая фабрика выпускает 3% бракованных стекол, а вторая — 1%. Найдите вероятность того, что случайно купленное в магазине стекло окажется бракованным.  \n",
        "https://math-ege.sdamgia.ru/problem?id=319353"
      ],
      "metadata": {
        "id": "CeEz-TUGERc9"
      }
    },
    {
      "cell_type": "code",
      "source": [
        "result = []\n",
        "for _ in tqdm(range(1000000)): \n",
        "  sum = np.hstack([np.random.binomial(1,0.97,45), np.random.binomial(1,0.99,55)])\n",
        "  shuffle(sum) \n",
        "  result.append(sum[0])"
      ],
      "metadata": {
        "colab": {
          "base_uri": "https://localhost:8080/",
          "height": 49,
          "referenced_widgets": [
            "4e3d2f7412fa49dcba638ae70ac94945",
            "5d085904ab8646b5b46967ed56722d85",
            "68ae72c7a2624ca893a5440f0058f5b1",
            "d51f218779ba46b19fe24ea67f560a57",
            "8067c8f0858f4602b83ec2ae9db3b96e",
            "1ece1102323b40498c26a6d32c9aeca7",
            "f927b945a0d747edb12f362575f7457c",
            "1784e25694fd4eb0b7a0b247c345520c",
            "75c91679788546e0b66b55afeb038dba",
            "29338eb6d4a741e09ecf82e621667f9f",
            "ab61b5c260a04cc28c030fb076b72612"
          ]
        },
        "id": "ohig9U_cGtMw",
        "outputId": "6a0ab6d4-bd66-41a6-bb5f-ef19f91a1669"
      },
      "execution_count": null,
      "outputs": [
        {
          "output_type": "display_data",
          "data": {
            "text/plain": [
              "  0%|          | 0/1000000 [00:00<?, ?it/s]"
            ],
            "application/vnd.jupyter.widget-view+json": {
              "version_major": 2,
              "version_minor": 0,
              "model_id": "4e3d2f7412fa49dcba638ae70ac94945"
            }
          },
          "metadata": {}
        }
      ]
    },
    {
      "cell_type": "code",
      "source": [
        "pd.Series(result).value_counts(normalize=True)"
      ],
      "metadata": {
        "colab": {
          "base_uri": "https://localhost:8080/"
        },
        "id": "wDbb9r1JG-Fj",
        "outputId": "d98c910f-b40e-4908-de92-1ba24b5a9ddb"
      },
      "execution_count": null,
      "outputs": [
        {
          "output_type": "execute_result",
          "data": {
            "text/plain": [
              "1    0.98114\n",
              "0    0.01886\n",
              "dtype: float64"
            ]
          },
          "metadata": {},
          "execution_count": 63
        }
      ]
    },
    {
      "cell_type": "markdown",
      "source": [
        "Вероятность купить бракованное стекло составляет 0.019"
      ],
      "metadata": {
        "id": "BImzBDScIyqW"
      }
    },
    {
      "cell_type": "markdown",
      "source": [
        "# Задача 8"
      ],
      "metadata": {
        "id": "aws99LohJJWy"
      }
    },
    {
      "cell_type": "markdown",
      "source": [
        "Всем пациентам с подозрением на гепатит делают анализ крови. Если анализ выявляет гепатит, то результат анализа называется положительным. У больных гепатитом пациентов анализ даёт положительный результат с вероятностью 0,9. Если пациент не болен гепатитом, то анализ может дать ложный положительный результат с вероятностью 0,01. Известно, что 5% пациентов, поступающих с подозрением на гепатит, действительно больны гепатитом. Найдите вероятность того, что результат анализа у пациента, поступившего в клинику с подозрением на гепатит, будет положительным.  \n",
        "https://math-ege.sdamgia.ru/problem?id=320207"
      ],
      "metadata": {
        "id": "9f8QFYijJRF6"
      }
    },
    {
      "cell_type": "code",
      "source": [
        "def sick(pat):\n",
        "  if pat:\n",
        "    return np.random.binomial(1,0.9) # точно больной\n",
        "  else:\n",
        "    return np.random.binomial(1,0.01)"
      ],
      "metadata": {
        "id": "pQcMGtFoJ8Wz"
      },
      "execution_count": null,
      "outputs": []
    },
    {
      "cell_type": "code",
      "source": [
        "result = []\n",
        "for _ in range(1000000):\n",
        "  pat = np.random.binomial(1,0.05)\n",
        "  result.append(sick(pat))"
      ],
      "metadata": {
        "id": "EBV1VRG2KzET"
      },
      "execution_count": null,
      "outputs": []
    },
    {
      "cell_type": "code",
      "source": [
        "pd.Series(result).value_counts(normalize=True)"
      ],
      "metadata": {
        "colab": {
          "base_uri": "https://localhost:8080/"
        },
        "id": "8YsnHEDOLDsp",
        "outputId": "1421f78f-62ed-4a02-b303-5666786cfeb6"
      },
      "execution_count": null,
      "outputs": [
        {
          "output_type": "execute_result",
          "data": {
            "text/plain": [
              "0    0.945428\n",
              "1    0.054572\n",
              "dtype: float64"
            ]
          },
          "metadata": {},
          "execution_count": 68
        }
      ]
    },
    {
      "cell_type": "markdown",
      "source": [
        "Найдите вероятность того, что результат анализа у пациента, поступившего в клинику с подозрением на гепатит, будет положительным равна 0.0545"
      ],
      "metadata": {
        "id": "vzgySD5iMAzy"
      }
    },
    {
      "cell_type": "markdown",
      "source": [
        "# Задача 9"
      ],
      "metadata": {
        "id": "DOELNuZsMlZQ"
      }
    },
    {
      "cell_type": "markdown",
      "source": [
        "В кармане у Пети было 2 монеты по 5 рублей и 4 монеты по 10 рублей. Петя, не глядя, переложил какие-то 3 монеты в другой карман. Найдите вероятность того, что пятирублевые монеты лежат теперь в разных карманах.  \n",
        "https://math-ege.sdamgia.ru/problem?id=500998"
      ],
      "metadata": {
        "id": "pDv3zfieMp1Z"
      }
    },
    {
      "cell_type": "code",
      "source": [
        "result = []\n",
        "for _ in range(100000):\n",
        "  pocket_1 = [5,5,10,10,10,10]\n",
        "  shuffle(pocket_1) \n",
        "  pocket_2 = pocket_1[:3]\n",
        "  del pocket_1[:3]\n",
        "  if (5 in pocket_1) and (5 in pocket_2):\n",
        "    result.append(1)\n",
        "  else:\n",
        "    result.append(0)"
      ],
      "metadata": {
        "id": "coHVNbThMoDQ"
      },
      "execution_count": null,
      "outputs": []
    },
    {
      "cell_type": "code",
      "source": [
        "pd.Series(result).value_counts(normalize=True)"
      ],
      "metadata": {
        "colab": {
          "base_uri": "https://localhost:8080/"
        },
        "id": "sN_VnQDsPJNn",
        "outputId": "c7db10c3-bf70-444c-cb17-413935fb35e5"
      },
      "execution_count": null,
      "outputs": [
        {
          "output_type": "execute_result",
          "data": {
            "text/plain": [
              "1    0.59999\n",
              "0    0.40001\n",
              "dtype: float64"
            ]
          },
          "metadata": {},
          "execution_count": 167
        }
      ]
    },
    {
      "cell_type": "markdown",
      "source": [
        "Вероятность того, что пятирублевые монеты лежат теперь в разных карманах равна 0.6"
      ],
      "metadata": {
        "id": "PU3zBQVJQc9S"
      }
    },
    {
      "cell_type": "markdown",
      "source": [
        "# Задача 10"
      ],
      "metadata": {
        "id": "bTmNt2dnQn7_"
      }
    },
    {
      "cell_type": "markdown",
      "source": [
        "Стрелок стреляет по мишени один раз. В случае промаха стрелок делает второй выстрел по той же мишени. Вероятность попасть в мишень при одном выстреле равна 0,7. Найдите вероятность того, что мишень будет поражена (либо первым, либо вторым выстрелом).  \n",
        "https://math-ege.sdamgia.ru/problem?id=501061"
      ],
      "metadata": {
        "id": "wVgSPYwVQpfe"
      }
    },
    {
      "cell_type": "code",
      "source": [
        "result = []\n",
        "for _ in tqdm(range(1000000)):\n",
        "  result.append(str(np.random.binomial(1,0.7,size=2)))"
      ],
      "metadata": {
        "colab": {
          "base_uri": "https://localhost:8080/",
          "height": 49,
          "referenced_widgets": [
            "ba8b49c895824bbc86453f2ce21d5a62",
            "563bcd454dc443e9b9e3842444e80730",
            "6df2b502d72f43eb951264618ff3bae6",
            "5e3d9c1e061f4b42a5be5b73200e6a06",
            "034c879f3bcf466f9b5dead5ddc7f3e4",
            "7ae30d7e25fa498888e926777999506e",
            "472c9944af68421bb2113c5ae621573b",
            "96699a3b94b1438490d7a948fb780c7c",
            "8abe1419fcdb430ab11888307ea32354",
            "da01dd5a68f54c64bd9ad869b099027f",
            "1b32459829524c69a2ccb60cbdeddf6c"
          ]
        },
        "id": "oNHIoT4TQwVm",
        "outputId": "85579894-2f7d-4197-b7c3-0489e8236586"
      },
      "execution_count": null,
      "outputs": [
        {
          "output_type": "display_data",
          "data": {
            "text/plain": [
              "  0%|          | 0/1000000 [00:00<?, ?it/s]"
            ],
            "application/vnd.jupyter.widget-view+json": {
              "version_major": 2,
              "version_minor": 0,
              "model_id": "ba8b49c895824bbc86453f2ce21d5a62"
            }
          },
          "metadata": {}
        }
      ]
    },
    {
      "cell_type": "code",
      "source": [
        "df = pd.DataFrame(result).value_counts(normalize=True).sort_values()\n",
        "df = df.to_frame()\n",
        "df.columns = ['Event']\n",
        "df['Not_event'] = 1 - df['Event']"
      ],
      "metadata": {
        "id": "Drps88kPTosF"
      },
      "execution_count": null,
      "outputs": []
    },
    {
      "cell_type": "code",
      "source": [
        "df"
      ],
      "metadata": {
        "colab": {
          "base_uri": "https://localhost:8080/",
          "height": 206
        },
        "id": "N-sf2PpAQvqW",
        "outputId": "18737366-4920-4032-cfdd-21857f3f4ad4"
      },
      "execution_count": null,
      "outputs": [
        {
          "output_type": "execute_result",
          "data": {
            "text/plain": [
              "         Event  Not_event\n",
              "0                        \n",
              "[0 0]  0.09018    0.90982\n",
              "[1 0]  0.20996    0.79004\n",
              "[0 1]  0.21098    0.78902\n",
              "[1 1]  0.48888    0.51112"
            ],
            "text/html": [
              "\n",
              "  <div id=\"df-4ba00f7d-bacc-4292-812f-b05bfdc04dee\">\n",
              "    <div class=\"colab-df-container\">\n",
              "      <div>\n",
              "<style scoped>\n",
              "    .dataframe tbody tr th:only-of-type {\n",
              "        vertical-align: middle;\n",
              "    }\n",
              "\n",
              "    .dataframe tbody tr th {\n",
              "        vertical-align: top;\n",
              "    }\n",
              "\n",
              "    .dataframe thead th {\n",
              "        text-align: right;\n",
              "    }\n",
              "</style>\n",
              "<table border=\"1\" class=\"dataframe\">\n",
              "  <thead>\n",
              "    <tr style=\"text-align: right;\">\n",
              "      <th></th>\n",
              "      <th>Event</th>\n",
              "      <th>Not_event</th>\n",
              "    </tr>\n",
              "    <tr>\n",
              "      <th>0</th>\n",
              "      <th></th>\n",
              "      <th></th>\n",
              "    </tr>\n",
              "  </thead>\n",
              "  <tbody>\n",
              "    <tr>\n",
              "      <th>[0 0]</th>\n",
              "      <td>0.09018</td>\n",
              "      <td>0.90982</td>\n",
              "    </tr>\n",
              "    <tr>\n",
              "      <th>[1 0]</th>\n",
              "      <td>0.20996</td>\n",
              "      <td>0.79004</td>\n",
              "    </tr>\n",
              "    <tr>\n",
              "      <th>[0 1]</th>\n",
              "      <td>0.21098</td>\n",
              "      <td>0.78902</td>\n",
              "    </tr>\n",
              "    <tr>\n",
              "      <th>[1 1]</th>\n",
              "      <td>0.48888</td>\n",
              "      <td>0.51112</td>\n",
              "    </tr>\n",
              "  </tbody>\n",
              "</table>\n",
              "</div>\n",
              "      <button class=\"colab-df-convert\" onclick=\"convertToInteractive('df-4ba00f7d-bacc-4292-812f-b05bfdc04dee')\"\n",
              "              title=\"Convert this dataframe to an interactive table.\"\n",
              "              style=\"display:none;\">\n",
              "        \n",
              "  <svg xmlns=\"http://www.w3.org/2000/svg\" height=\"24px\"viewBox=\"0 0 24 24\"\n",
              "       width=\"24px\">\n",
              "    <path d=\"M0 0h24v24H0V0z\" fill=\"none\"/>\n",
              "    <path d=\"M18.56 5.44l.94 2.06.94-2.06 2.06-.94-2.06-.94-.94-2.06-.94 2.06-2.06.94zm-11 1L8.5 8.5l.94-2.06 2.06-.94-2.06-.94L8.5 2.5l-.94 2.06-2.06.94zm10 10l.94 2.06.94-2.06 2.06-.94-2.06-.94-.94-2.06-.94 2.06-2.06.94z\"/><path d=\"M17.41 7.96l-1.37-1.37c-.4-.4-.92-.59-1.43-.59-.52 0-1.04.2-1.43.59L10.3 9.45l-7.72 7.72c-.78.78-.78 2.05 0 2.83L4 21.41c.39.39.9.59 1.41.59.51 0 1.02-.2 1.41-.59l7.78-7.78 2.81-2.81c.8-.78.8-2.07 0-2.86zM5.41 20L4 18.59l7.72-7.72 1.47 1.35L5.41 20z\"/>\n",
              "  </svg>\n",
              "      </button>\n",
              "      \n",
              "  <style>\n",
              "    .colab-df-container {\n",
              "      display:flex;\n",
              "      flex-wrap:wrap;\n",
              "      gap: 12px;\n",
              "    }\n",
              "\n",
              "    .colab-df-convert {\n",
              "      background-color: #E8F0FE;\n",
              "      border: none;\n",
              "      border-radius: 50%;\n",
              "      cursor: pointer;\n",
              "      display: none;\n",
              "      fill: #1967D2;\n",
              "      height: 32px;\n",
              "      padding: 0 0 0 0;\n",
              "      width: 32px;\n",
              "    }\n",
              "\n",
              "    .colab-df-convert:hover {\n",
              "      background-color: #E2EBFA;\n",
              "      box-shadow: 0px 1px 2px rgba(60, 64, 67, 0.3), 0px 1px 3px 1px rgba(60, 64, 67, 0.15);\n",
              "      fill: #174EA6;\n",
              "    }\n",
              "\n",
              "    [theme=dark] .colab-df-convert {\n",
              "      background-color: #3B4455;\n",
              "      fill: #D2E3FC;\n",
              "    }\n",
              "\n",
              "    [theme=dark] .colab-df-convert:hover {\n",
              "      background-color: #434B5C;\n",
              "      box-shadow: 0px 1px 3px 1px rgba(0, 0, 0, 0.15);\n",
              "      filter: drop-shadow(0px 1px 2px rgba(0, 0, 0, 0.3));\n",
              "      fill: #FFFFFF;\n",
              "    }\n",
              "  </style>\n",
              "\n",
              "      <script>\n",
              "        const buttonEl =\n",
              "          document.querySelector('#df-4ba00f7d-bacc-4292-812f-b05bfdc04dee button.colab-df-convert');\n",
              "        buttonEl.style.display =\n",
              "          google.colab.kernel.accessAllowed ? 'block' : 'none';\n",
              "\n",
              "        async function convertToInteractive(key) {\n",
              "          const element = document.querySelector('#df-4ba00f7d-bacc-4292-812f-b05bfdc04dee');\n",
              "          const dataTable =\n",
              "            await google.colab.kernel.invokeFunction('convertToInteractive',\n",
              "                                                     [key], {});\n",
              "          if (!dataTable) return;\n",
              "\n",
              "          const docLinkHtml = 'Like what you see? Visit the ' +\n",
              "            '<a target=\"_blank\" href=https://colab.research.google.com/notebooks/data_table.ipynb>data table notebook</a>'\n",
              "            + ' to learn more about interactive tables.';\n",
              "          element.innerHTML = '';\n",
              "          dataTable['output_type'] = 'display_data';\n",
              "          await google.colab.output.renderOutput(dataTable, element);\n",
              "          const docLink = document.createElement('div');\n",
              "          docLink.innerHTML = docLinkHtml;\n",
              "          element.appendChild(docLink);\n",
              "        }\n",
              "      </script>\n",
              "    </div>\n",
              "  </div>\n",
              "  "
            ]
          },
          "metadata": {},
          "execution_count": 182
        }
      ]
    },
    {
      "cell_type": "markdown",
      "source": [
        "Вероятность того, что стрелок не попадет 2 выстрела подряд равна 0.09, получается противоположное событие (когда он попадет за 2 выстрела) равно 0.91"
      ],
      "metadata": {
        "id": "w3HC6wEtT_-n"
      }
    },
    {
      "cell_type": "markdown",
      "source": [
        "# Задача 11"
      ],
      "metadata": {
        "id": "EM2gs9ojUnc2"
      }
    },
    {
      "cell_type": "markdown",
      "source": [
        "Игральный кубик бросают дважды. Известно, что в сумме выпало 8 очков. Найдите вероятность того, что во второй раз выпало 3 очка.  \n",
        "https://math-ege.sdamgia.ru/problem?id=508754"
      ],
      "metadata": {
        "id": "CnyX8CAQUqW_"
      }
    },
    {
      "cell_type": "code",
      "source": [
        "dice = pd.Series([1,2,3,4,5,6])"
      ],
      "metadata": {
        "id": "iA6pogFJUs72"
      },
      "execution_count": null,
      "outputs": []
    },
    {
      "cell_type": "code",
      "source": [
        "def d():\n",
        "  return dice.sample(1,replace=True).values[0]"
      ],
      "metadata": {
        "id": "pB99bwAbVM6N"
      },
      "execution_count": null,
      "outputs": []
    },
    {
      "cell_type": "code",
      "source": [
        "result = []\n",
        "for _ in tqdm(range(100000)):\n",
        "  one = d()\n",
        "  two = d()\n",
        "  if (one + two) == 8:\n",
        "    result.append(str([one,two]))"
      ],
      "metadata": {
        "colab": {
          "base_uri": "https://localhost:8080/",
          "height": 49,
          "referenced_widgets": [
            "dfb6978427314585ba041041bfdd38f8",
            "bd7e4e9f03c4404a85e17506344a52d2",
            "3062eecfc28342e894f5254d8ad4cc01",
            "0b0a0001283448e6b7c0e28f28ef2402",
            "abdd06745bc24f429025068bede99f98",
            "956fa7edda944237a3702d9269606265",
            "145d3e1e2dd14e848282d5a626ef4b1b",
            "4fbaee0086e84b2f86bacbc2cd2086e0",
            "4e786844da3b47048fe4fa721a0b61d6",
            "282cfa3288f3456f9897be4269db1829",
            "8747ff95e28e4d8dadc7da98571714c9"
          ]
        },
        "id": "HDrQ1zvxYEcT",
        "outputId": "3568c5d2-4c97-4c25-b330-3cb9e2db1b4f"
      },
      "execution_count": null,
      "outputs": [
        {
          "output_type": "display_data",
          "data": {
            "text/plain": [
              "  0%|          | 0/100000 [00:00<?, ?it/s]"
            ],
            "application/vnd.jupyter.widget-view+json": {
              "version_major": 2,
              "version_minor": 0,
              "model_id": "dfb6978427314585ba041041bfdd38f8"
            }
          },
          "metadata": {}
        }
      ]
    },
    {
      "cell_type": "code",
      "source": [
        "pd.Series(result).value_counts(normalize=True)"
      ],
      "metadata": {
        "colab": {
          "base_uri": "https://localhost:8080/"
        },
        "id": "kin-ljwBVSV2",
        "outputId": "ec6a21c6-8ff4-42a7-e30f-77fdf7498bf9"
      },
      "execution_count": null,
      "outputs": [
        {
          "output_type": "execute_result",
          "data": {
            "text/plain": [
              "[3, 5]    0.204870\n",
              "[4, 4]    0.201228\n",
              "[2, 6]    0.199729\n",
              "[6, 2]    0.197658\n",
              "[5, 3]    0.196515\n",
              "dtype: float64"
            ]
          },
          "metadata": {},
          "execution_count": 193
        }
      ]
    },
    {
      "cell_type": "markdown",
      "source": [
        "Вероятность того, что во второй раз выпало 3 очка равна 0.2"
      ],
      "metadata": {
        "id": "cwjJ_T62YxNs"
      }
    },
    {
      "cell_type": "markdown",
      "source": [
        "# Задача 12"
      ],
      "metadata": {
        "id": "aWWyl3N2Y3uI"
      }
    },
    {
      "cell_type": "markdown",
      "source": [
        "Игральную кость бросили один или несколько раз. Оказалось, что сумма всех выпавших очков равна 4. Какова вероятность того, что был сделан один бросок? Ответ округлите до сотых.  \n",
        "https://math-ege.sdamgia.ru/problem?id=508792"
      ],
      "metadata": {
        "id": "t1y1fvrPY7AT"
      }
    },
    {
      "cell_type": "code",
      "source": [
        "dice = pd.Series([1,2,3,4,5,6])"
      ],
      "metadata": {
        "id": "OvkxXA8VZCxA"
      },
      "execution_count": null,
      "outputs": []
    },
    {
      "cell_type": "code",
      "source": [
        "def d():\n",
        "  return dice.sample(1,replace=True).values[0]"
      ],
      "metadata": {
        "id": "EgqcfRiWZCxA"
      },
      "execution_count": null,
      "outputs": []
    },
    {
      "cell_type": "code",
      "source": [
        "result = []\n",
        "for _ in tqdm(range(1000000)):  \n",
        "  sum = 0\n",
        "  shot = 0\n",
        "  while sum < 4:\n",
        "      sum += d()\n",
        "      shot += 1\n",
        "  if sum == 4:\n",
        "      result.append(shot)"
      ],
      "metadata": {
        "colab": {
          "base_uri": "https://localhost:8080/",
          "height": 49,
          "referenced_widgets": [
            "d734abcddcb34efc98a8655252eff4a7",
            "c6adf6f544264b77af23932d39427aed",
            "aa4c4ebd27244de69819c42d2d0fc92c",
            "b054c4d6374543f99e290c961a7b964a",
            "417368dd7be541cfb715bbd862fb6b92",
            "b2df2b6cd34a4a7bbd382e864fb2c1c0",
            "8eae651b6d044c4587748abb31d0aea8",
            "52ccba188fda4226a7626ada0eb21e87",
            "8d030b55e8bf42b3a55f2187675df1c4",
            "3684af934d114730b84c76e14ce8f9b0",
            "7fc2bbcceac54cb290a02ed24f4d11d5"
          ]
        },
        "id": "gIsFZ1zPZEV8",
        "outputId": "751b947d-ed39-49cc-f3e3-e0666db8da55"
      },
      "execution_count": null,
      "outputs": [
        {
          "output_type": "display_data",
          "data": {
            "text/plain": [
              "  0%|          | 0/1000000 [00:00<?, ?it/s]"
            ],
            "application/vnd.jupyter.widget-view+json": {
              "version_major": 2,
              "version_minor": 0,
              "model_id": "d734abcddcb34efc98a8655252eff4a7"
            }
          },
          "metadata": {}
        }
      ]
    },
    {
      "cell_type": "code",
      "source": [
        "pd.Series(result).value_counts(normalize=True)"
      ],
      "metadata": {
        "colab": {
          "base_uri": "https://localhost:8080/"
        },
        "id": "Sx3AhhthaUjK",
        "outputId": "d0c0fd6d-2100-4d25-804e-337faaeae0fb"
      },
      "execution_count": null,
      "outputs": [
        {
          "output_type": "execute_result",
          "data": {
            "text/plain": [
              "1    0.629285\n",
              "2    0.315481\n",
              "3    0.052356\n",
              "4    0.002877\n",
              "dtype: float64"
            ]
          },
          "metadata": {},
          "execution_count": 215
        }
      ]
    },
    {
      "cell_type": "markdown",
      "source": [
        "Вероятность того, что был сделан один бросок 0.629 (ответ может не совпадать до сотых значений, для этого нужно увеличить выборку)"
      ],
      "metadata": {
        "id": "06CDeqiPepAy"
      }
    },
    {
      "cell_type": "markdown",
      "source": [
        "# Задача 13"
      ],
      "metadata": {
        "id": "p1qvfI3CeASL"
      }
    },
    {
      "cell_type": "markdown",
      "source": [
        "Первый игральный кубик обычный, а на гранях второго кубика нет чётных чисел, а нечётные числа 1, 3 и 5 встречаются по два раза. В остальном кубики одинаковые. Один случайно выбранный кубик бросают два раза. Известно, что в каком-то порядке выпали 3 и 5 очков. Какова вероятность того, что бросали второй кубик?  \n",
        "https://math-ege.sdamgia.ru/problem?id=508887"
      ],
      "metadata": {
        "id": "m2bSa_90eFII"
      }
    },
    {
      "cell_type": "code",
      "source": [
        "dice_1 = pd.Series([1,2,3,4,5,6])"
      ],
      "metadata": {
        "id": "z0ue5ZIieKcK"
      },
      "execution_count": null,
      "outputs": []
    },
    {
      "cell_type": "code",
      "source": [
        "def d_1():\n",
        "  return dice_1.sample(1,replace=True).values[0]"
      ],
      "metadata": {
        "id": "eT_jK4wkeP6g"
      },
      "execution_count": null,
      "outputs": []
    },
    {
      "cell_type": "code",
      "source": [
        "dice_2 = pd.Series([1,1,3,3,5,5])"
      ],
      "metadata": {
        "id": "LPJmYOlSeSKo"
      },
      "execution_count": null,
      "outputs": []
    },
    {
      "cell_type": "code",
      "source": [
        "def d_2():\n",
        "  return dice_2.sample(1,replace=True).values[0]"
      ],
      "metadata": {
        "id": "M23XXTwNeVtB"
      },
      "execution_count": null,
      "outputs": []
    },
    {
      "cell_type": "code",
      "source": [
        "result = []\n",
        "for _ in tqdm(range(100000)):\n",
        "  sum = []\n",
        "  if np.random.binomial(1,0.5):\n",
        "    sum.append(d_1())\n",
        "    sum.append(d_1())\n",
        "    if (sum[0] == 3 and sum[1] == 5) or (sum[0] == 5 and sum[1] == 3):\n",
        "      result.append(1)\n",
        "  else:\n",
        "    sum.append(d_2())\n",
        "    sum.append(d_2())\n",
        "    if (sum[0] == 3 and sum[1] == 5) or (sum[0] == 5 and sum[1] == 3):\n",
        "      result.append(2)"
      ],
      "metadata": {
        "id": "EiKAn4mYuDvq"
      },
      "execution_count": null,
      "outputs": []
    },
    {
      "cell_type": "code",
      "source": [
        "pd.Series(result).value_counts(normalize=True)"
      ],
      "metadata": {
        "colab": {
          "base_uri": "https://localhost:8080/"
        },
        "id": "Z4LKE_Yy6VyF",
        "outputId": "97a5c2d5-8ddc-4af7-9679-3c719f087607"
      },
      "execution_count": null,
      "outputs": [
        {
          "output_type": "execute_result",
          "data": {
            "text/plain": [
              "2    0.795455\n",
              "1    0.204545\n",
              "dtype: float64"
            ]
          },
          "metadata": {},
          "execution_count": 413
        }
      ]
    },
    {
      "cell_type": "markdown",
      "source": [
        "Вероятность выпадения 2 кубика = 0.8"
      ],
      "metadata": {
        "id": "KvDm1AlC6e4S"
      }
    },
    {
      "cell_type": "markdown",
      "source": [
        "# Задача 14"
      ],
      "metadata": {
        "id": "_6O4EPC3rHpb"
      }
    },
    {
      "cell_type": "markdown",
      "source": [
        "Маша коллекционирует принцесс из Киндер-сюрпризов. Всего в коллекции 10 разных принцесс, и они равномерно распределены, то есть в каждом очередном Киндер-сюрпризе может с равными вероятностями оказаться любая из 10 принцесс. У Маши уже есть две разные принцессы из коллекции. Какова вероятность того, что для получения следующей принцессы Маше придётся купить ещё 2 или 3 шоколадных яйца?  \n",
        "https://math-ege.sdamgia.ru/problem?id=509078"
      ],
      "metadata": {
        "id": "b3Gn9AbIrJ7i"
      }
    },
    {
      "cell_type": "code",
      "source": [
        "doll = pd.Series([1,2,3,4,5,6,7,8,9,10])"
      ],
      "metadata": {
        "id": "V5U1_2y8rUG4"
      },
      "execution_count": 70,
      "outputs": []
    },
    {
      "cell_type": "code",
      "source": [
        "def egg():\n",
        "  return doll.sample(1,replace=True).values[0]"
      ],
      "metadata": {
        "id": "kWK2svj-rll6"
      },
      "execution_count": 71,
      "outputs": []
    },
    {
      "cell_type": "code",
      "source": [
        "have = [1,3]"
      ],
      "metadata": {
        "id": "D8AlxdrBsHX4"
      },
      "execution_count": 72,
      "outputs": []
    },
    {
      "cell_type": "code",
      "source": [
        "result = []\n",
        "for _ in range(100000):\n",
        "  '2 покупки'\n",
        "  sum = []\n",
        "  for _ in range(2):\n",
        "    if egg() not in have:\n",
        "      sum.append(1)\n",
        "    else:\n",
        "      sum.append(0)\n",
        "  result.append(str(sum))"
      ],
      "metadata": {
        "id": "y3nyAMXxtfX3"
      },
      "execution_count": 73,
      "outputs": []
    },
    {
      "cell_type": "code",
      "source": [
        "pd.Series(result).value_counts(normalize=True)"
      ],
      "metadata": {
        "colab": {
          "base_uri": "https://localhost:8080/"
        },
        "id": "dlJ0QDaPtYzZ",
        "outputId": "6936a156-8193-4c19-e1bf-131c45254fda"
      },
      "execution_count": 74,
      "outputs": [
        {
          "output_type": "execute_result",
          "data": {
            "text/plain": [
              "[1, 1]    0.63982\n",
              "[0, 1]    0.16066\n",
              "[1, 0]    0.16037\n",
              "[0, 0]    0.03915\n",
              "dtype: float64"
            ]
          },
          "metadata": {},
          "execution_count": 74
        }
      ]
    },
    {
      "cell_type": "markdown",
      "source": [
        "0.16 вероятность получить новую куклу при 2 покупках"
      ],
      "metadata": {
        "id": "AqU42qn30MrF"
      }
    },
    {
      "cell_type": "code",
      "source": [
        "result = []\n",
        "for _ in range(100000):\n",
        "  '3 покупки'\n",
        "  sum = []\n",
        "  for _ in range(3):\n",
        "    if egg() not in have:\n",
        "      sum.append(1)\n",
        "    else:\n",
        "      sum.append(0)\n",
        "  result.append(str(sum))"
      ],
      "metadata": {
        "id": "cZEu1sUwr8H6"
      },
      "execution_count": 75,
      "outputs": []
    },
    {
      "cell_type": "code",
      "source": [
        "pd.Series(result).value_counts(normalize=True)"
      ],
      "metadata": {
        "colab": {
          "base_uri": "https://localhost:8080/"
        },
        "id": "_yClkqOYv6xL",
        "outputId": "e8ba0aa5-1492-4cbd-816d-81c4726df764"
      },
      "execution_count": 76,
      "outputs": [
        {
          "output_type": "execute_result",
          "data": {
            "text/plain": [
              "[1, 1, 1]    0.51196\n",
              "[1, 0, 1]    0.12805\n",
              "[0, 1, 1]    0.12744\n",
              "[1, 1, 0]    0.12717\n",
              "[1, 0, 0]    0.03296\n",
              "[0, 1, 0]    0.03222\n",
              "[0, 0, 1]    0.03215\n",
              "[0, 0, 0]    0.00805\n",
              "dtype: float64"
            ]
          },
          "metadata": {},
          "execution_count": 76
        }
      ]
    },
    {
      "cell_type": "markdown",
      "source": [
        "0.032 вероятность получить новую куклу при 2 покупках"
      ],
      "metadata": {
        "id": "VwDruc1x0TsE"
      }
    },
    {
      "cell_type": "markdown",
      "source": [
        "Видим для 2 покупок вероятность получить новую куклу 0.16 Для 3 покупок вероятность получить новую куклу 0.032, значит вероятность первого или второго события равны 0.16 + 0.032 =  0,192"
      ],
      "metadata": {
        "id": "hXmLN2ppzyfk"
      }
    },
    {
      "cell_type": "markdown",
      "source": [
        "# Задача 15"
      ],
      "metadata": {
        "id": "Qo9ubYLz0bOs"
      }
    },
    {
      "cell_type": "markdown",
      "source": [
        "В коробке 8 синих, 6 красных и 11 зелёных фломастеров. Случайным образом выбирают два фломастера. Какова вероятность того, что окажутся выбраны один синий и один красный фломастер?  \n",
        "https://math-ege.sdamgia.ru/problem?id=621772"
      ],
      "metadata": {
        "id": "3ycWBppR0dd7"
      }
    },
    {
      "cell_type": "code",
      "source": [
        "box = pd.Series([1,1,1,1,1,1,1,1,2,2,2,2,2,2,3,3,3,3,3,3,3,3,3,3,3])\n",
        "# 1 - синие\n",
        "# 2 - красные\n",
        "# 3 - зеленые"
      ],
      "metadata": {
        "id": "BbFbZw4l2xDL"
      },
      "execution_count": 93,
      "outputs": []
    },
    {
      "cell_type": "code",
      "source": [
        "shuffle(box)"
      ],
      "metadata": {
        "id": "ycYEfv1P3A2r"
      },
      "execution_count": 94,
      "outputs": []
    },
    {
      "cell_type": "code",
      "source": [
        "result = []\n",
        "for _ in range(10000):\n",
        "  result.append(str(box.sample(2).values))"
      ],
      "metadata": {
        "id": "WsvSUxCe3PbL"
      },
      "execution_count": 112,
      "outputs": []
    },
    {
      "cell_type": "code",
      "source": [
        "pd.Series(result).value_counts(normalize=True)"
      ],
      "metadata": {
        "colab": {
          "base_uri": "https://localhost:8080/"
        },
        "id": "ubAcR8ki3oxI",
        "outputId": "bca8d942-41fb-40a5-a776-68b14bbf38a0"
      },
      "execution_count": 113,
      "outputs": [
        {
          "output_type": "execute_result",
          "data": {
            "text/plain": [
              "[3 3]    0.1743\n",
              "[3 1]    0.1556\n",
              "[1 3]    0.1420\n",
              "[2 3]    0.1137\n",
              "[3 2]    0.1074\n",
              "[1 1]    0.0953\n",
              "[2 1]    0.0816\n",
              "[1 2]    0.0810\n",
              "[2 2]    0.0491\n",
              "dtype: float64"
            ]
          },
          "metadata": {},
          "execution_count": 113
        }
      ]
    },
    {
      "cell_type": "markdown",
      "source": [
        "Вероятность того, что первый фламастер красный, а второй синий [2 1], равна 0.08 и вероятность, что первый синий, а второй красный [1 2], равна 0.08. Получается вероятность первого или второго события равна 0.08 + 0.08 = 0.16 "
      ],
      "metadata": {
        "id": "0hdUTslM49Pz"
      }
    },
    {
      "cell_type": "markdown",
      "source": [
        "# Задача 16"
      ],
      "metadata": {
        "id": "sFTCxhVX5xnK"
      }
    },
    {
      "cell_type": "markdown",
      "source": [
        "Стрелок стреляет по 4 одинаковым мишеням по одному разу, вероятность промаха 0,2, найдите вероятность что он попадёт в первую мишень, а в 3 оставшиеся промахнется.  \n",
        "https://math-ege.sdamgia.ru/problem?id=630095"
      ],
      "metadata": {
        "id": "s5YaocAj50v5"
      }
    },
    {
      "cell_type": "code",
      "source": [
        "result = []\n",
        "for _ in tqdm(range(1000000)):\n",
        "  result.append(str(np.random.binomial(1,0.8,size=4)))"
      ],
      "metadata": {
        "colab": {
          "base_uri": "https://localhost:8080/",
          "height": 49,
          "referenced_widgets": [
            "73501aa35e7348e6937bdea1253a65bd",
            "fe5f921ac98b4cef95e164e55e0fac99",
            "06bd74cf919b4a3c97d3f9a203244bc6",
            "913026c6af164d19abc2df4145346561",
            "7d47cb648d03488b83db0a5b45191f17",
            "090e2dc656b4425ea85abfce8025f1b3",
            "cffcac419510455b9c638df063a44789",
            "e030926fe2504ef7a52ec95c418684f1",
            "e79a478a961942ca97b1cab99ab9e190",
            "2fefdaeb01434cf7839d567ea135ee69",
            "6ff6d893300841acb9d2430ddc35e926"
          ]
        },
        "id": "nIJGIKcT50MZ",
        "outputId": "c731e6ff-4d3a-4e14-f59e-0fc91e6ba913"
      },
      "execution_count": 124,
      "outputs": [
        {
          "output_type": "display_data",
          "data": {
            "text/plain": [
              "  0%|          | 0/1000000 [00:00<?, ?it/s]"
            ],
            "application/vnd.jupyter.widget-view+json": {
              "version_major": 2,
              "version_minor": 0,
              "model_id": "73501aa35e7348e6937bdea1253a65bd"
            }
          },
          "metadata": {}
        }
      ]
    },
    {
      "cell_type": "code",
      "source": [
        "pd.Series(result).value_counts(normalize=True)"
      ],
      "metadata": {
        "colab": {
          "base_uri": "https://localhost:8080/"
        },
        "id": "m5ecEsLM7_Sw",
        "outputId": "4bb6b203-006d-4bca-86b3-706b7630708d"
      },
      "execution_count": 125,
      "outputs": [
        {
          "output_type": "execute_result",
          "data": {
            "text/plain": [
              "[1 1 1 1]    0.409503\n",
              "[1 1 0 1]    0.102781\n",
              "[1 0 1 1]    0.102662\n",
              "[0 1 1 1]    0.102354\n",
              "[1 1 1 0]    0.101980\n",
              "[0 0 1 1]    0.025964\n",
              "[0 1 1 0]    0.025771\n",
              "[1 0 1 0]    0.025617\n",
              "[1 0 0 1]    0.025467\n",
              "[1 1 0 0]    0.025445\n",
              "[0 1 0 1]    0.025351\n",
              "[0 0 0 1]    0.006470\n",
              "[0 1 0 0]    0.006401\n",
              "[1 0 0 0]    0.006391\n",
              "[0 0 1 0]    0.006266\n",
              "[0 0 0 0]    0.001577\n",
              "dtype: float64"
            ]
          },
          "metadata": {},
          "execution_count": 125
        }
      ]
    },
    {
      "cell_type": "markdown",
      "source": [
        "Вероятность что он попадёт в первую мишень, а в 3 оставшиеся промахнется, равна 0.0064"
      ],
      "metadata": {
        "id": "mUnL_-NV8HNa"
      }
    },
    {
      "cell_type": "markdown",
      "source": [
        "# Задача 17"
      ],
      "metadata": {
        "id": "UNARoEll3ZbC"
      }
    },
    {
      "cell_type": "markdown",
      "source": [
        "При артиллерийской стрельбе автоматическая система делает выстрел по цели. Если цель не уничтожена, то система делает повторный выстрел. Выстрелы повторяются до тех пор, пока цель не будет уничтожена. Вероятность уничтожения некоторой цели при первом выстреле равна 0,4, а при каждом последующем — 0,6. Сколько выстрелов потребуется для того, чтобы вероятность уничтожения цели была не менее 0,98?  \n",
        "https://math-ege.sdamgia.ru/problem?id=320187"
      ],
      "metadata": {
        "id": "8n89rvIQ3a06"
      }
    },
    {
      "cell_type": "markdown",
      "source": [
        "**1 выстрел**"
      ],
      "metadata": {
        "id": "f5kcCrHh_zNx"
      }
    },
    {
      "cell_type": "code",
      "source": [
        "result = []\n",
        "for _ in tqdm(range(100000)):\n",
        "  if np.random.binomial(1,0.4):\n",
        "    result.append(1)\n",
        "  else:\n",
        "    result.append(0)"
      ],
      "metadata": {
        "colab": {
          "base_uri": "https://localhost:8080/",
          "height": 49,
          "referenced_widgets": [
            "9ad152939eb24dcabd66c0f9726ccac0",
            "9b566b4ad1304adda84dc84c3d24b155",
            "853c03407f83497b952a97800ea1098f",
            "f728848776744c25b5e3bfda0b9dc944",
            "a04a648a696a49d19c1eec2e7614360d",
            "950f435a7e37427aa8a2b6ded584c84d",
            "d1fa97b1a86b4c0bad9ae49aa69afba1",
            "733470e13e724f2892a6c5e610a0eea7",
            "ca8c679a770548e381c9ff532916e5de",
            "8476233a2d024eb296cbc8d6932bca70",
            "c82d7c0491694e42951b689b69ab598b"
          ]
        },
        "id": "7FmBt6gi8byQ",
        "outputId": "c4f8758c-25d2-49da-87fa-e54adacb14ba"
      },
      "execution_count": 132,
      "outputs": [
        {
          "output_type": "display_data",
          "data": {
            "text/plain": [
              "  0%|          | 0/100000 [00:00<?, ?it/s]"
            ],
            "application/vnd.jupyter.widget-view+json": {
              "version_major": 2,
              "version_minor": 0,
              "model_id": "9ad152939eb24dcabd66c0f9726ccac0"
            }
          },
          "metadata": {}
        }
      ]
    },
    {
      "cell_type": "code",
      "source": [
        "pd.Series(result).value_counts(normalize=True)"
      ],
      "metadata": {
        "colab": {
          "base_uri": "https://localhost:8080/"
        },
        "id": "zxBXF0MR-Ks8",
        "outputId": "c37d67b8-0281-487b-849a-f8616d42c89b"
      },
      "execution_count": 133,
      "outputs": [
        {
          "output_type": "execute_result",
          "data": {
            "text/plain": [
              "0    0.5986\n",
              "1    0.4014\n",
              "dtype: float64"
            ]
          },
          "metadata": {},
          "execution_count": 133
        }
      ]
    },
    {
      "cell_type": "markdown",
      "source": [
        "**2 выстрел**"
      ],
      "metadata": {
        "id": "ai76nDmF_2AX"
      }
    },
    {
      "cell_type": "code",
      "source": [
        "result = []\n",
        "for _ in tqdm(range(100000)):\n",
        "  if np.random.binomial(1,0.4):\n",
        "    result.append(1)\n",
        "  else:\n",
        "    if np.random.binomial(1,0.6):\n",
        "      result.append(1)\n",
        "    else:\n",
        "      result.append(0)"
      ],
      "metadata": {
        "colab": {
          "base_uri": "https://localhost:8080/",
          "height": 49,
          "referenced_widgets": [
            "eb3ae5d50ae041ed8bf45743be9e346c",
            "9c7520a26cd44635a5a825544b9b032c",
            "b82362bf77194aceb0ee4a708ff4fc90",
            "c6286c63cd9f4be38c1781a0bd1a2643",
            "2e6aa824a0bd4b8ba7e99c6f05c3459c",
            "27c667e2a0aa473aae3105fcffb7e7d3",
            "6b37bf683fa14d78bfb2e8af39b3fb3c",
            "733fa1764d5f4c03bc4379c2c3c47dbb",
            "37941afa18de40379f1d961e8263df73",
            "1d382ef1f0c644aab29a9883b2648ca0",
            "76bf13c75b8f43eeb6439463da0e17c5"
          ]
        },
        "id": "rHoqBHzA-aFx",
        "outputId": "d99533d7-c5ea-45f8-9979-bc228bd955ee"
      },
      "execution_count": 134,
      "outputs": [
        {
          "output_type": "display_data",
          "data": {
            "text/plain": [
              "  0%|          | 0/100000 [00:00<?, ?it/s]"
            ],
            "application/vnd.jupyter.widget-view+json": {
              "version_major": 2,
              "version_minor": 0,
              "model_id": "eb3ae5d50ae041ed8bf45743be9e346c"
            }
          },
          "metadata": {}
        }
      ]
    },
    {
      "cell_type": "code",
      "source": [
        "pd.Series(result).value_counts(normalize=True)"
      ],
      "metadata": {
        "colab": {
          "base_uri": "https://localhost:8080/"
        },
        "id": "zFVIVOzs-aCY",
        "outputId": "709d3754-df48-497b-b5ec-3c7d70db540a"
      },
      "execution_count": 135,
      "outputs": [
        {
          "output_type": "execute_result",
          "data": {
            "text/plain": [
              "1    0.76207\n",
              "0    0.23793\n",
              "dtype: float64"
            ]
          },
          "metadata": {},
          "execution_count": 135
        }
      ]
    },
    {
      "cell_type": "markdown",
      "source": [
        "**3 выстрел**"
      ],
      "metadata": {
        "id": "1YjwM_VG_30A"
      }
    },
    {
      "cell_type": "code",
      "source": [
        "result = []\n",
        "for _ in tqdm(range(100000)):\n",
        "  if np.random.binomial(1,0.4):\n",
        "    result.append(1)\n",
        "  else:\n",
        "      if np.random.binomial(1,0.6):\n",
        "        result.append(1)\n",
        "      else:\n",
        "        if np.random.binomial(1,0.6):\n",
        "          result.append(1)\n",
        "        else:\n",
        "          result.append(0)"
      ],
      "metadata": {
        "colab": {
          "base_uri": "https://localhost:8080/",
          "height": 49,
          "referenced_widgets": [
            "ab4dbc26709f4aaca5e28d2b81dcad7a",
            "8eee0378e6ce4e78814ecdd286453311",
            "2a81ac8fbe8b4d649a78349552a5cbb7",
            "a77af1bf8e6f4464bd1cd723399ae2f9",
            "d3446d80480d424a88dd4d2bf89c637c",
            "d0a836a5244d4ca79d856fdf3055a4b3",
            "7cf5f66c7b2147b8add783c343bed6e6",
            "68f0ffe6654244ccaca38daeee5cec80",
            "4615c370d5ac43918c57191e96984674",
            "d8bdef3e8dca4307bd1716fa42ec3a48",
            "b1230037555149bc81a0396e21c86de7"
          ]
        },
        "id": "slGGpvS0_Glb",
        "outputId": "1f2174a1-2fd7-4337-d949-49acc4114d23"
      },
      "execution_count": 142,
      "outputs": [
        {
          "output_type": "display_data",
          "data": {
            "text/plain": [
              "  0%|          | 0/100000 [00:00<?, ?it/s]"
            ],
            "application/vnd.jupyter.widget-view+json": {
              "version_major": 2,
              "version_minor": 0,
              "model_id": "ab4dbc26709f4aaca5e28d2b81dcad7a"
            }
          },
          "metadata": {}
        }
      ]
    },
    {
      "cell_type": "code",
      "source": [
        "pd.Series(result).value_counts(normalize=True)"
      ],
      "metadata": {
        "colab": {
          "base_uri": "https://localhost:8080/"
        },
        "id": "LuH8sA1V-Z_y",
        "outputId": "5d5b3849-6e94-4f39-f04a-7be703fd78fe"
      },
      "execution_count": 143,
      "outputs": [
        {
          "output_type": "execute_result",
          "data": {
            "text/plain": [
              "1    0.90426\n",
              "0    0.09574\n",
              "dtype: float64"
            ]
          },
          "metadata": {},
          "execution_count": 143
        }
      ]
    },
    {
      "cell_type": "markdown",
      "source": [
        "**4 выстрел**"
      ],
      "metadata": {
        "id": "xEXqhZy4_6pP"
      }
    },
    {
      "cell_type": "code",
      "source": [
        "result = []\n",
        "for _ in tqdm(range(100000)):\n",
        "  if np.random.binomial(1,0.4):\n",
        "    result.append(1)\n",
        "  else:\n",
        "      if np.random.binomial(1,0.6):\n",
        "        result.append(1)\n",
        "      else:\n",
        "        if np.random.binomial(1,0.6):\n",
        "          result.append(1)\n",
        "        else:\n",
        "          if np.random.binomial(1,0.6):\n",
        "            result.append(1)\n",
        "          else:\n",
        "            result.append(0)"
      ],
      "metadata": {
        "id": "7Jnr8G4KPEwv",
        "colab": {
          "base_uri": "https://localhost:8080/",
          "height": 49,
          "referenced_widgets": [
            "99ad24fb522a45fb8aec077dffdccfa4",
            "8914629eaed242b392ac57f0880e3618",
            "6dc32481b6ce4d729c5911be938f5961",
            "41ce5d20ba024103ad5cb5da638276c1",
            "97f6712a5c1f47acb8f751787b29e898",
            "6295bbb443f943148511a866c7d320ef",
            "581255cdae75473fae19878e896c3305",
            "d5622c514f7441ca85e97ef0cdce73ba",
            "06b803cb89bd4185b8a315b5f6604f59",
            "18b2c88b69484ec39872200524b7e1e7",
            "cff2a686be2744ee80f5ee65926c4b7c"
          ]
        },
        "outputId": "352c21c0-ba72-4bcb-832f-34b98d9107e9"
      },
      "execution_count": 144,
      "outputs": [
        {
          "output_type": "display_data",
          "data": {
            "text/plain": [
              "  0%|          | 0/100000 [00:00<?, ?it/s]"
            ],
            "application/vnd.jupyter.widget-view+json": {
              "version_major": 2,
              "version_minor": 0,
              "model_id": "99ad24fb522a45fb8aec077dffdccfa4"
            }
          },
          "metadata": {}
        }
      ]
    },
    {
      "cell_type": "code",
      "source": [
        "pd.Series(result).value_counts(normalize=True)"
      ],
      "metadata": {
        "id": "D0HyK8UjPEuD",
        "colab": {
          "base_uri": "https://localhost:8080/"
        },
        "outputId": "6bf1637a-96cd-49fc-b658-43639e55c8be"
      },
      "execution_count": 145,
      "outputs": [
        {
          "output_type": "execute_result",
          "data": {
            "text/plain": [
              "1    0.96203\n",
              "0    0.03797\n",
              "dtype: float64"
            ]
          },
          "metadata": {},
          "execution_count": 145
        }
      ]
    },
    {
      "cell_type": "markdown",
      "source": [
        "**5 выстрел**"
      ],
      "metadata": {
        "id": "dOrMuJ5qAHGx"
      }
    },
    {
      "cell_type": "code",
      "source": [
        "result = []\n",
        "for _ in tqdm(range(100000)):\n",
        "  if np.random.binomial(1,0.4):\n",
        "    result.append(1)\n",
        "  else:\n",
        "      if np.random.binomial(1,0.6):\n",
        "        result.append(1)\n",
        "      else:\n",
        "        if np.random.binomial(1,0.6):\n",
        "          result.append(1)\n",
        "        else:\n",
        "          if np.random.binomial(1,0.6):\n",
        "            result.append(1)\n",
        "          else:\n",
        "            if np.random.binomial(1,0.6):\n",
        "              result.append(1)\n",
        "            else:\n",
        "              result.append(0)\n"
      ],
      "metadata": {
        "id": "TwpgV4VRPErL",
        "colab": {
          "base_uri": "https://localhost:8080/",
          "height": 49,
          "referenced_widgets": [
            "89bba591c1ea42f9b3aabf74669bd281",
            "4d9d23d721c7425a938ab17faa02a025",
            "40bae92f305d492ab0b85ad54a86dd31",
            "93965167968d4af5bee7472ea8646051",
            "87ec7b09246e416dbb79db2753da7f5b",
            "bf81e14cdba4482a91d053cbac88d01f",
            "ac519ca725974238be6a6305678c8a9c",
            "e7dfee42923e4dbda2c6ffe4026695f0",
            "d133d0380aef47a88b35d0f8c40bddc9",
            "cb148e078ef6455e9d47ebf2c2d1452f",
            "41a5edbd476c49c7864bd1cf126f4ba5"
          ]
        },
        "outputId": "ea4442cd-8fb5-4a4c-d5fc-b4b2a08152f0"
      },
      "execution_count": 146,
      "outputs": [
        {
          "output_type": "display_data",
          "data": {
            "text/plain": [
              "  0%|          | 0/100000 [00:00<?, ?it/s]"
            ],
            "application/vnd.jupyter.widget-view+json": {
              "version_major": 2,
              "version_minor": 0,
              "model_id": "89bba591c1ea42f9b3aabf74669bd281"
            }
          },
          "metadata": {}
        }
      ]
    },
    {
      "cell_type": "code",
      "source": [
        "pd.Series(result).value_counts(normalize=True)"
      ],
      "metadata": {
        "id": "LKevhINqPEoa",
        "colab": {
          "base_uri": "https://localhost:8080/"
        },
        "outputId": "339aad7a-5da0-4ff4-a5ba-a03133670d32"
      },
      "execution_count": 147,
      "outputs": [
        {
          "output_type": "execute_result",
          "data": {
            "text/plain": [
              "1    0.98514\n",
              "0    0.01486\n",
              "dtype: float64"
            ]
          },
          "metadata": {},
          "execution_count": 147
        }
      ]
    },
    {
      "cell_type": "markdown",
      "source": [
        "При 5 выстреле вероятность больше 0.98, а именно 0.98514"
      ],
      "metadata": {
        "id": "CNGpl4NAApP3"
      }
    },
    {
      "cell_type": "markdown",
      "source": [
        "# Задача 18"
      ],
      "metadata": {
        "id": "VTVTmxXkBuSA"
      }
    },
    {
      "cell_type": "markdown",
      "source": [
        "Пародокс дня рождения. Определить вероятность того, что в группе, состоящей из 23 человек, у двух людей будет совпадение дней рождения (число и месяц).  \n",
        "https://scienceparadoxes.fandom.com/ru/wiki/%D0%9F%D0%B0%D1%80%D0%B0%D0%B4%D0%BE%D0%BA%D1%81_%D0%B4%D0%BD%D0%B5%D0%B9_%D1%80%D0%BE%D0%B6%D0%B4%D0%B5%D0%BD%D0%B8%D1%8F"
      ],
      "metadata": {
        "id": "30x_XtIgBzeG"
      }
    },
    {
      "cell_type": "code",
      "source": [
        "bd = pd.Series(range(365)) # делаем все дни в году"
      ],
      "metadata": {
        "id": "350AamZmC92_"
      },
      "execution_count": null,
      "outputs": []
    },
    {
      "cell_type": "code",
      "source": [
        "daf = pd.Series([bd.sample(23,replace = True).duplicated().max() for i in range(100000)])"
      ],
      "metadata": {
        "id": "m-0fye6qPEjH"
      },
      "execution_count": 153,
      "outputs": []
    },
    {
      "cell_type": "code",
      "source": [
        "daf.value_counts(normalize=True)"
      ],
      "metadata": {
        "id": "CKXe6V0SPEdR",
        "colab": {
          "base_uri": "https://localhost:8080/"
        },
        "outputId": "60b32e40-b357-4413-cac4-6f309f7cf07b"
      },
      "execution_count": 154,
      "outputs": [
        {
          "output_type": "execute_result",
          "data": {
            "text/plain": [
              "True     0.50976\n",
              "False    0.49024\n",
              "dtype: float64"
            ]
          },
          "metadata": {},
          "execution_count": 154
        }
      ]
    },
    {
      "cell_type": "markdown",
      "source": [
        "Вероятность того, что в группе, состоящей из 23 человек, у двух людей будет совпадение дней рождения, равно 0.5"
      ],
      "metadata": {
        "id": "s9saKNubDDCO"
      }
    },
    {
      "cell_type": "markdown",
      "source": [
        "# Задача 19"
      ],
      "metadata": {
        "id": "uShLHUY0DLaZ"
      }
    },
    {
      "cell_type": "markdown",
      "source": [
        "Экзамен проходит по следующей схеме: если некоторый билет уже был вытянут, то после ответа экзаменатор откладывает его в сторону. Студент выучил 20 билетов из 30. Когда ему выгоднее идти, первым или вторым, чтобы вероятность вынуть выученный билет была больше?"
      ],
      "metadata": {
        "id": "zUL0XlhhDM2F"
      }
    },
    {
      "cell_type": "markdown",
      "source": [
        "**Когда студент идет первым**"
      ],
      "metadata": {
        "id": "kLoCaIOlEbDQ"
      }
    },
    {
      "cell_type": "code",
      "source": [
        "n = 1000000\n",
        "student = list(range(1,21)) # выученные билеты\n",
        "tickets = list(range(1,31)) # всего билетов\n",
        "result = []\n",
        "\n",
        "for _ in range(n):\n",
        "  shuffle(tickets)\n",
        "  result.append(tickets[0] in student)"
      ],
      "metadata": {
        "id": "xYZiULqGDt72"
      },
      "execution_count": 157,
      "outputs": []
    },
    {
      "cell_type": "code",
      "source": [
        "np.mean(result)"
      ],
      "metadata": {
        "colab": {
          "base_uri": "https://localhost:8080/"
        },
        "id": "OQK4N69kDuXV",
        "outputId": "72677344-c24d-43ca-d11e-d67193b60db4"
      },
      "execution_count": 158,
      "outputs": [
        {
          "output_type": "execute_result",
          "data": {
            "text/plain": [
              "0.665996"
            ]
          },
          "metadata": {},
          "execution_count": 158
        }
      ]
    },
    {
      "cell_type": "markdown",
      "source": [
        "**Когда студент идет вторым**"
      ],
      "metadata": {
        "id": "jErPWkdbEeUF"
      }
    },
    {
      "cell_type": "code",
      "source": [
        "n = 1000000\n",
        "student = list(range(1,21)) # выученные билеты\n",
        "tickets = list(range(1,31)) # всего билетов\n",
        "result = []\n",
        "\n",
        "for _ in range(n):\n",
        "  shuffle(tickets)\n",
        "  result.append(tickets[1] in student)"
      ],
      "metadata": {
        "id": "TuTO56t2Dund"
      },
      "execution_count": 159,
      "outputs": []
    },
    {
      "cell_type": "code",
      "source": [
        "np.mean(result)"
      ],
      "metadata": {
        "colab": {
          "base_uri": "https://localhost:8080/"
        },
        "id": "ODHSOIKmDuqU",
        "outputId": "ec111c7c-03e4-4faf-b035-05f32438a5ea"
      },
      "execution_count": 160,
      "outputs": [
        {
          "output_type": "execute_result",
          "data": {
            "text/plain": [
              "0.666341"
            ]
          },
          "metadata": {},
          "execution_count": 160
        }
      ]
    },
    {
      "cell_type": "markdown",
      "source": [
        "**Когда студент идет десятым**"
      ],
      "metadata": {
        "id": "-canyYaaEl9E"
      }
    },
    {
      "cell_type": "code",
      "source": [
        "n = 1000000\n",
        "student = list(range(1,21)) # выученные билеты\n",
        "tickets = list(range(1,31)) # всего билетов\n",
        "result = []\n",
        "\n",
        "for _ in range(n):\n",
        "  shuffle(tickets)\n",
        "  result.append(tickets[9] in student)"
      ],
      "metadata": {
        "id": "BB0C5y8aDuvV"
      },
      "execution_count": 161,
      "outputs": []
    },
    {
      "cell_type": "code",
      "source": [
        "np.mean(result)"
      ],
      "metadata": {
        "colab": {
          "base_uri": "https://localhost:8080/"
        },
        "id": "hAXL-jmIDuyC",
        "outputId": "c503b58b-c374-4db2-a32e-4f4506de097b"
      },
      "execution_count": 162,
      "outputs": [
        {
          "output_type": "execute_result",
          "data": {
            "text/plain": [
              "0.66664"
            ]
          },
          "metadata": {},
          "execution_count": 162
        }
      ]
    },
    {
      "cell_type": "markdown",
      "source": [
        "Разницы в вероятности не будет, если студент идет отвечать в любом порядке"
      ],
      "metadata": {
        "id": "jI401TZpEvc_"
      }
    },
    {
      "cell_type": "markdown",
      "source": [
        "# Задача 20"
      ],
      "metadata": {
        "id": "_vzLKOYPE6w8"
      }
    },
    {
      "cell_type": "markdown",
      "source": [
        "Ночью произошло ДТП с участием такси. В городе работают две компании такси — «Синие» и «Зелёные». «Зелёным» принадлежит 85% такси, «Синим» 15%. Свидетель аварии утверждает, что такси принадлежало «Синим». Следственный эксперимент показал, что ночью свидетель верно определяет цвет такси в 80%. Какова вероятность того, что такси действительно принадлежало «Синим»?  \n",
        "https://pikabu.ru/story/zadachi_na_kotoryie_pravilno_otvetit_ne_kazhdyiy_5580394"
      ],
      "metadata": {
        "id": "s284JjlTE928"
      }
    },
    {
      "cell_type": "code",
      "source": [
        "def witness(taxi):\n",
        "  if np.random.binomial(1,0.8): # если 1 то это правда и проходит if, иначе возварщает ошибку в определении такси\n",
        "    return taxi\n",
        "  return abs(taxi-1)"
      ],
      "metadata": {
        "id": "yvuNt1DzDu1K"
      },
      "execution_count": 163,
      "outputs": []
    },
    {
      "cell_type": "code",
      "source": [
        "n = 10000\n",
        "result = []\n",
        "for _ in range(n):\n",
        "  taxi = np.random.binomial(1,0.15) # фактическое такси\n",
        "  # 1 - синее такси\n",
        "  witness_answer = witness(taxi) # правильно ли определил свидетель такси да/нет\n",
        "  result.append((taxi,witness_answer))"
      ],
      "metadata": {
        "id": "pQ7BbYmZDu8e"
      },
      "execution_count": 164,
      "outputs": []
    },
    {
      "cell_type": "code",
      "source": [
        "t = pd.DataFrame(result, columns=['taxi','witness_answer'])"
      ],
      "metadata": {
        "id": "ThzdYcpwDu_d"
      },
      "execution_count": 165,
      "outputs": []
    },
    {
      "cell_type": "code",
      "source": [
        "t.groupby('witness_answer')['taxi'].mean()"
      ],
      "metadata": {
        "colab": {
          "base_uri": "https://localhost:8080/"
        },
        "id": "LecgXwtmDvBX",
        "outputId": "10a46bd4-2944-4067-d00b-3017e04142fe"
      },
      "execution_count": 166,
      "outputs": [
        {
          "output_type": "execute_result",
          "data": {
            "text/plain": [
              "witness_answer\n",
              "0    0.042474\n",
              "1    0.416890\n",
              "Name: taxi, dtype: float64"
            ]
          },
          "metadata": {},
          "execution_count": 166
        }
      ]
    },
    {
      "cell_type": "markdown",
      "source": [
        "Вероятность того, что зеленое такси (0) было правильно указано 0.042  \n",
        "Вероятность того, что синее такси (1) было правильно указано 0.416  \n",
        "Ответ: 0.416"
      ],
      "metadata": {
        "id": "rgK2h5RNFhrO"
      }
    }
  ]
}